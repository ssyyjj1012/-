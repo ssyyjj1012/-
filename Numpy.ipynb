{
  "nbformat": 4,
  "nbformat_minor": 0,
  "metadata": {
    "colab": {
      "name": "Numpy",
      "provenance": [],
      "collapsed_sections": [],
      "authorship_tag": "ABX9TyOoUS2dYgxN3PTBcsvl5JNn",
      "include_colab_link": true
    },
    "kernelspec": {
      "name": "python3",
      "display_name": "Python 3"
    },
    "language_info": {
      "name": "python"
    }
  },
  "cells": [
    {
      "cell_type": "markdown",
      "metadata": {
        "id": "view-in-github",
        "colab_type": "text"
      },
      "source": [
        "<a href=\"https://colab.research.google.com/github/ssyyjj1012/data-analysis/blob/main/Numpy.ipynb\" target=\"_parent\"><img src=\"https://colab.research.google.com/assets/colab-badge.svg\" alt=\"Open In Colab\"/></a>"
      ]
    },
    {
      "cell_type": "markdown",
      "source": [
        "## Numpy \n",
        "- Numerical Python 의 줄인말\n",
        "- 고성능의 과학계산 컴퓨팅과 데이터 분석에 필요한 기본 패키지\n",
        "- Numpy 배열과 배열 기반의 컴퓨팅에 대한 이해는 pandas의 활용 능력을 향상 \n",
        "\n",
        "\n",
        "### Numpy의 특징\n",
        "- 빠르고 메모리를 효율적으로 사용\n",
        "- 다차원 배열인 ndarray(벡터 산수연산과 브로드캐스팅 가능)\n",
        "- 반복문을 작성 불필요\n",
        "- 전체 데이터 배열에 대한 빠른 연산을 제공하는 표준 수학 함수\n",
        "- 배열 데이터를 디스크에 쓰기/읽기\n",
        "- 선형대수, 난수발생기, 푸리에 변환 가능\n",
        "- C, C++ 포트란으로 쓰여진 코드 통합(글루 언어)"
      ],
      "metadata": {
        "id": "IV0CjehDi-13"
      }
    },
    {
      "cell_type": "markdown",
      "source": [
        "### ndarray : Numpy 배열의 특징\n",
        "- 배열의 항목을 동일한 타입이어야 한다.\n",
        "- 파이썬 리스트와는 달리 벡토화된 연산과 완전한 배열처리를 실행\n",
        "- 배열을 특별히 빠르게 하기 위해 최적화된 C API 를 사용\n",
        "- 파이썬처럼 NumPy 배열의 0으로 시작하는 인덱스가 생성\n",
        "- 데이터 타입은 특별한 오브젝트로 표현"
      ],
      "metadata": {
        "id": "odDEB55Kj7Xq"
      }
    },
    {
      "cell_type": "markdown",
      "source": [
        "# 01 NumPy 배열 생성 - 1차 배열 만들기"
      ],
      "metadata": {
        "id": "xx-NcZPjkayG"
      }
    },
    {
      "cell_type": "code",
      "source": [
        "import numpy as np\n",
        "a = np.arange(5) # 자동으로 배열 생성\n",
        "a"
      ],
      "metadata": {
        "colab": {
          "base_uri": "https://localhost:8080/"
        },
        "id": "VKKUYpoDkae0",
        "outputId": "0d685883-40e7-4e3f-d81a-667a09f11f48"
      },
      "execution_count": 1,
      "outputs": [
        {
          "output_type": "execute_result",
          "data": {
            "text/plain": [
              "array([0, 1, 2, 3, 4])"
            ]
          },
          "metadata": {},
          "execution_count": 1
        }
      ]
    },
    {
      "cell_type": "code",
      "source": [
        "a.shape"
      ],
      "metadata": {
        "colab": {
          "base_uri": "https://localhost:8080/"
        },
        "id": "sgwff6Knjt7y",
        "outputId": "ec1d098a-93c0-49e4-ad92-4de973617f91"
      },
      "execution_count": 2,
      "outputs": [
        {
          "output_type": "execute_result",
          "data": {
            "text/plain": [
              "(5,)"
            ]
          },
          "metadata": {},
          "execution_count": 2
        }
      ]
    },
    {
      "cell_type": "code",
      "source": [
        "b = np.array([0,1,2,3,4]) # 수동으로 배열 생성\n",
        "b "
      ],
      "metadata": {
        "colab": {
          "base_uri": "https://localhost:8080/"
        },
        "id": "0g8pl4YOkxg4",
        "outputId": "14fe8ea5-53d1-4992-9e6d-e812820f98e6"
      },
      "execution_count": 3,
      "outputs": [
        {
          "output_type": "execute_result",
          "data": {
            "text/plain": [
              "array([0, 1, 2, 3, 4])"
            ]
          },
          "metadata": {},
          "execution_count": 3
        }
      ]
    },
    {
      "cell_type": "markdown",
      "source": [
        "# 01 NumPy 배열 생성 - 2차 배열 만들기\n",
        "\n"
      ],
      "metadata": {
        "id": "EcUAg_6Pk-wU"
      }
    },
    {
      "cell_type": "code",
      "source": [
        "m = np.array([np.arange(2),np.arange(2)])\n",
        "m"
      ],
      "metadata": {
        "colab": {
          "base_uri": "https://localhost:8080/"
        },
        "id": "wmuQW8dwk20b",
        "outputId": "eb264421-6f18-45ea-b67f-f58d88cb2fe2"
      },
      "execution_count": 4,
      "outputs": [
        {
          "output_type": "execute_result",
          "data": {
            "text/plain": [
              "array([[0, 1],\n",
              "       [0, 1]])"
            ]
          },
          "metadata": {},
          "execution_count": 4
        }
      ]
    },
    {
      "cell_type": "code",
      "source": [
        "m.shape"
      ],
      "metadata": {
        "colab": {
          "base_uri": "https://localhost:8080/"
        },
        "id": "sfE2MBbalIfg",
        "outputId": "5e41cc69-368c-428a-f54f-bed22b4eee6a"
      },
      "execution_count": 5,
      "outputs": [
        {
          "output_type": "execute_result",
          "data": {
            "text/plain": [
              "(2, 2)"
            ]
          },
          "metadata": {},
          "execution_count": 5
        }
      ]
    },
    {
      "cell_type": "markdown",
      "source": [
        "## **배열 인덱싱**"
      ],
      "metadata": {
        "id": "n1iiRBvLlfEo"
      }
    },
    {
      "cell_type": "code",
      "source": [
        "m[0,0] = 0\n",
        "m[0,1] = 1\n",
        "m[1,0] = 2\n",
        "m[1,1] = 3\n",
        "m"
      ],
      "metadata": {
        "colab": {
          "base_uri": "https://localhost:8080/"
        },
        "id": "KAjZqyI_lKwW",
        "outputId": "ba9127d2-855e-42da-de3a-fd99e127d46e"
      },
      "execution_count": 6,
      "outputs": [
        {
          "output_type": "execute_result",
          "data": {
            "text/plain": [
              "array([[0, 1],\n",
              "       [2, 3]])"
            ]
          },
          "metadata": {},
          "execution_count": 6
        }
      ]
    },
    {
      "cell_type": "markdown",
      "source": [
        "## **배열 인덱싱 2**\n",
        "\n",
        "파이썬에서 사용하는 일반적인 자르기/인덱싱 방법으로 가능\n",
        "\n",
        "(2차원 이상은 쉼표(,)를 기준으로 차원별로 인덱싱 적용)"
      ],
      "metadata": {
        "id": "-Kd_ycmUlyBB"
      }
    },
    {
      "cell_type": "code",
      "source": [
        "a[1:3]"
      ],
      "metadata": {
        "colab": {
          "base_uri": "https://localhost:8080/"
        },
        "outputId": "23b4a348-78eb-4c4c-91b0-10b045775d78",
        "id": "tExtKNn2lyBB"
      },
      "execution_count": 7,
      "outputs": [
        {
          "output_type": "execute_result",
          "data": {
            "text/plain": [
              "array([1, 2])"
            ]
          },
          "metadata": {},
          "execution_count": 7
        }
      ]
    },
    {
      "cell_type": "code",
      "source": [
        "m[0,1:]"
      ],
      "metadata": {
        "colab": {
          "base_uri": "https://localhost:8080/"
        },
        "id": "lGu50Jbfl1nV",
        "outputId": "8f1b4612-582d-4263-96ec-e752aceeb502"
      },
      "execution_count": 8,
      "outputs": [
        {
          "output_type": "execute_result",
          "data": {
            "text/plain": [
              "array([1])"
            ]
          },
          "metadata": {},
          "execution_count": 8
        }
      ]
    },
    {
      "cell_type": "markdown",
      "source": [
        "## **배열 연산하기**"
      ],
      "metadata": {
        "id": "HV_og4Cvlkz6"
      }
    },
    {
      "cell_type": "code",
      "source": [
        "m + 2"
      ],
      "metadata": {
        "colab": {
          "base_uri": "https://localhost:8080/"
        },
        "id": "jnAEbGL9lS9X",
        "outputId": "6af28997-49f8-48b9-a53b-f0959cd27ebe"
      },
      "execution_count": 9,
      "outputs": [
        {
          "output_type": "execute_result",
          "data": {
            "text/plain": [
              "array([[2, 3],\n",
              "       [4, 5]])"
            ]
          },
          "metadata": {},
          "execution_count": 9
        }
      ]
    },
    {
      "cell_type": "code",
      "source": [
        "m * 2"
      ],
      "metadata": {
        "colab": {
          "base_uri": "https://localhost:8080/"
        },
        "id": "L0_ox8QZltc_",
        "outputId": "5761fd82-b350-4ee5-f2e0-063e955717a5"
      },
      "execution_count": 10,
      "outputs": [
        {
          "output_type": "execute_result",
          "data": {
            "text/plain": [
              "array([[0, 2],\n",
              "       [4, 6]])"
            ]
          },
          "metadata": {},
          "execution_count": 10
        }
      ]
    },
    {
      "cell_type": "markdown",
      "source": [
        "# 01 NumPy 초기화 배열 생성\n",
        "\n",
        "numpy.zeros()\n",
        "\n",
        ": 주어진 모양과 타입대로 0으로 채워진 새로운 배열 생성\n"
      ],
      "metadata": {
        "id": "7cp5YRZMmCrt"
      }
    },
    {
      "cell_type": "code",
      "source": [
        "np.zeros(5)"
      ],
      "metadata": {
        "colab": {
          "base_uri": "https://localhost:8080/"
        },
        "id": "KWjVoWkbluhF",
        "outputId": "28342e9e-5dbb-410d-a5e2-a293531b5b0b"
      },
      "execution_count": 11,
      "outputs": [
        {
          "output_type": "execute_result",
          "data": {
            "text/plain": [
              "array([0., 0., 0., 0., 0.])"
            ]
          },
          "metadata": {},
          "execution_count": 11
        }
      ]
    },
    {
      "cell_type": "code",
      "source": [
        "np.zeros(5, dtype= np.int)"
      ],
      "metadata": {
        "colab": {
          "base_uri": "https://localhost:8080/"
        },
        "id": "en46BK42mcaV",
        "outputId": "a3c83ccd-d7a6-43ec-939b-91b701a63af4"
      },
      "execution_count": 12,
      "outputs": [
        {
          "output_type": "execute_result",
          "data": {
            "text/plain": [
              "array([0, 0, 0, 0, 0])"
            ]
          },
          "metadata": {},
          "execution_count": 12
        }
      ]
    },
    {
      "cell_type": "code",
      "source": [
        "np.zeros((2,1))"
      ],
      "metadata": {
        "colab": {
          "base_uri": "https://localhost:8080/"
        },
        "id": "j2aLHQHfmgiH",
        "outputId": "9f862c32-54d3-436b-e7e1-6210b488dc7d"
      },
      "execution_count": 13,
      "outputs": [
        {
          "output_type": "execute_result",
          "data": {
            "text/plain": [
              "array([[0.],\n",
              "       [0.]])"
            ]
          },
          "metadata": {},
          "execution_count": 13
        }
      ]
    },
    {
      "cell_type": "code",
      "source": [
        "s = (2,2)\n",
        "np.zeros(s)"
      ],
      "metadata": {
        "colab": {
          "base_uri": "https://localhost:8080/"
        },
        "id": "O38SyUKFmiTB",
        "outputId": "9e691259-9555-4b45-d029-4e266081c89e"
      },
      "execution_count": 14,
      "outputs": [
        {
          "output_type": "execute_result",
          "data": {
            "text/plain": [
              "array([[0., 0.],\n",
              "       [0., 0.]])"
            ]
          },
          "metadata": {},
          "execution_count": 14
        }
      ]
    },
    {
      "cell_type": "code",
      "source": [
        "np.zeros((2,),dtype=[('x', 'i4'),('y','i4')])"
      ],
      "metadata": {
        "colab": {
          "base_uri": "https://localhost:8080/"
        },
        "id": "S66mfeSnmld6",
        "outputId": "7e1d8f36-b67b-4b67-b608-ab9ea4952048"
      },
      "execution_count": 15,
      "outputs": [
        {
          "output_type": "execute_result",
          "data": {
            "text/plain": [
              "array([(0, 0), (0, 0)], dtype=[('x', '<i4'), ('y', '<i4')])"
            ]
          },
          "metadata": {},
          "execution_count": 15
        }
      ]
    },
    {
      "cell_type": "markdown",
      "source": [
        "# 01 NumPy 랜덤 배열 생성\n",
        "\n",
        "np.random.randn(d0,d1 ... dn)\n",
        "\n",
        ": 정규화 분산 데이터로부터 랜덤한 값 리턴"
      ],
      "metadata": {
        "id": "6Y05jAvYmyo-"
      }
    },
    {
      "cell_type": "code",
      "source": [
        "np.random.randn()"
      ],
      "metadata": {
        "colab": {
          "base_uri": "https://localhost:8080/"
        },
        "id": "5o-zuxxEmuLa",
        "outputId": "7fa7550f-7e47-4023-bd02-3a5313c3f68a"
      },
      "execution_count": 16,
      "outputs": [
        {
          "output_type": "execute_result",
          "data": {
            "text/plain": [
              "-0.9197872501980081"
            ]
          },
          "metadata": {},
          "execution_count": 16
        }
      ]
    },
    {
      "cell_type": "code",
      "source": [
        "2.5 * np.random.randn(2,4)*3"
      ],
      "metadata": {
        "colab": {
          "base_uri": "https://localhost:8080/"
        },
        "id": "m4oB-WBdnD9z",
        "outputId": "77e7ab47-2bae-440a-d977-2ed11a731325"
      },
      "execution_count": 17,
      "outputs": [
        {
          "output_type": "execute_result",
          "data": {
            "text/plain": [
              "array([[-9.74634566,  9.74971088,  3.6950762 ,  2.95888435],\n",
              "       [ 3.1290509 ,  9.17802977, -2.72446798, -2.5782642 ]])"
            ]
          },
          "metadata": {},
          "execution_count": 17
        }
      ]
    },
    {
      "cell_type": "markdown",
      "source": [
        "### np.random.randint(n1, n2)\n",
        "\n",
        ": n1 ~ n2 사이의 정수 생성"
      ],
      "metadata": {
        "id": "eo2c6mBSnMQ3"
      }
    },
    {
      "cell_type": "code",
      "source": [
        "np.random.randint(2, size = 10)"
      ],
      "metadata": {
        "colab": {
          "base_uri": "https://localhost:8080/"
        },
        "id": "Lw2fKYx2nJ_X",
        "outputId": "451f6c01-1877-4d0d-b6e3-f8465dc040dd"
      },
      "execution_count": 18,
      "outputs": [
        {
          "output_type": "execute_result",
          "data": {
            "text/plain": [
              "array([1, 1, 1, 1, 1, 0, 0, 1, 0, 1])"
            ]
          },
          "metadata": {},
          "execution_count": 18
        }
      ]
    },
    {
      "cell_type": "code",
      "source": [
        "np.random.randint(1, size = 10)"
      ],
      "metadata": {
        "colab": {
          "base_uri": "https://localhost:8080/"
        },
        "id": "sjURdD26nadW",
        "outputId": "57791b90-afb9-43f9-f9fd-dc40e79ff3bf"
      },
      "execution_count": 19,
      "outputs": [
        {
          "output_type": "execute_result",
          "data": {
            "text/plain": [
              "array([0, 0, 0, 0, 0, 0, 0, 0, 0, 0])"
            ]
          },
          "metadata": {},
          "execution_count": 19
        }
      ]
    },
    {
      "cell_type": "markdown",
      "source": [
        "## 연습문제"
      ],
      "metadata": {
        "id": "kruwCEDQnjAZ"
      }
    },
    {
      "cell_type": "code",
      "source": [
        "a = np.array([np.arange(3),np.arange(3)])\n",
        "a"
      ],
      "metadata": {
        "colab": {
          "base_uri": "https://localhost:8080/"
        },
        "id": "N9pcxxl6nsA4",
        "outputId": "3fb11b5e-68de-448c-b116-1e551e4f8838"
      },
      "execution_count": 20,
      "outputs": [
        {
          "output_type": "execute_result",
          "data": {
            "text/plain": [
              "array([[0, 1, 2],\n",
              "       [0, 1, 2]])"
            ]
          },
          "metadata": {},
          "execution_count": 20
        }
      ]
    },
    {
      "cell_type": "code",
      "source": [
        "a = np.array([np.arange(3),np.arange(3)+3,np.arange(3)+6])*3\n",
        "a"
      ],
      "metadata": {
        "colab": {
          "base_uri": "https://localhost:8080/"
        },
        "id": "a2bTk9lwncgX",
        "outputId": "a50fc439-41a9-4aad-c01d-68bc41fda378"
      },
      "execution_count": 21,
      "outputs": [
        {
          "output_type": "execute_result",
          "data": {
            "text/plain": [
              "array([[ 0,  3,  6],\n",
              "       [ 9, 12, 15],\n",
              "       [18, 21, 24]])"
            ]
          },
          "metadata": {},
          "execution_count": 21
        }
      ]
    },
    {
      "cell_type": "code",
      "source": [
        "## 위 문제의 또 다른 풀이코드\n",
        "a = (np.arange(9).reshape(3,3))*3\n",
        "a"
      ],
      "metadata": {
        "colab": {
          "base_uri": "https://localhost:8080/"
        },
        "id": "EOqXziY53r8B",
        "outputId": "5c66438f-b923-4c9b-ff3d-f460bb137726"
      },
      "execution_count": 36,
      "outputs": [
        {
          "output_type": "execute_result",
          "data": {
            "text/plain": [
              "array([[ 0,  3,  6],\n",
              "       [ 9, 12, 15],\n",
              "       [18, 21, 24]])"
            ]
          },
          "metadata": {},
          "execution_count": 36
        }
      ]
    },
    {
      "cell_type": "markdown",
      "source": [
        "# 02 NumPy 자료형\n",
        "\n",
        "일반적인 파이썬에서 해결할 수 없는 다양한 자료형을 내포"
      ],
      "metadata": {
        "id": "UB86fW-w13il"
      }
    },
    {
      "cell_type": "markdown",
      "source": [
        "# 02 NumPy 자료형 - 형 선언하기\n",
        " \n",
        "배열을 만들 때 인자에 dtype을 사용하여 적용 가능"
      ],
      "metadata": {
        "id": "AlEHaHGp2TS-"
      }
    },
    {
      "cell_type": "code",
      "source": [
        "arr1 = np.array([1,2,3],dtype = np.float)\n",
        "arr2 = np.array([1,2,3],dtype = np.int32)"
      ],
      "metadata": {
        "id": "6VKJDnZr1lMv"
      },
      "execution_count": 24,
      "outputs": []
    },
    {
      "cell_type": "code",
      "source": [
        "arr1.dtype"
      ],
      "metadata": {
        "colab": {
          "base_uri": "https://localhost:8080/"
        },
        "id": "6XHA8csl1lPV",
        "outputId": "477f09cf-e1f4-40ac-b709-e17eedb10991"
      },
      "execution_count": 25,
      "outputs": [
        {
          "output_type": "execute_result",
          "data": {
            "text/plain": [
              "dtype('float64')"
            ]
          },
          "metadata": {},
          "execution_count": 25
        }
      ]
    },
    {
      "cell_type": "code",
      "source": [
        "arr2.dtype"
      ],
      "metadata": {
        "colab": {
          "base_uri": "https://localhost:8080/"
        },
        "id": "lpGWiH3i2ly7",
        "outputId": "586fa6fe-e7d7-4f53-ebc5-a4b26b1df77e"
      },
      "execution_count": 26,
      "outputs": [
        {
          "output_type": "execute_result",
          "data": {
            "text/plain": [
              "dtype('int32')"
            ]
          },
          "metadata": {},
          "execution_count": 26
        }
      ]
    },
    {
      "cell_type": "markdown",
      "source": [
        "# 02 NumPy 자료형 - 형 변환하기\n",
        " \n",
        "- ndarray의 astype 함수를 사용하여 배열의 형 변환 가능\n",
        "- float형을 int형으로 변환하는 경우에는 float형의 소수 부분은 버려짐\n",
        "\n"
      ],
      "metadata": {
        "id": "rH_0INkp2qtV"
      }
    },
    {
      "cell_type": "code",
      "source": [
        "arr1 = np.array([1.5, 1.2, 1.4], dtype = np.float)\n",
        "arr2 = arr1.astype(np.int32)"
      ],
      "metadata": {
        "id": "wHVOKevm2nOu"
      },
      "execution_count": 27,
      "outputs": []
    },
    {
      "cell_type": "code",
      "source": [
        "arr1"
      ],
      "metadata": {
        "colab": {
          "base_uri": "https://localhost:8080/"
        },
        "id": "QgqPmk5B3A7b",
        "outputId": "77341f5f-88c8-4926-8661-e48c517679a9"
      },
      "execution_count": 28,
      "outputs": [
        {
          "output_type": "execute_result",
          "data": {
            "text/plain": [
              "array([1.5, 1.2, 1.4])"
            ]
          },
          "metadata": {},
          "execution_count": 28
        }
      ]
    },
    {
      "cell_type": "code",
      "source": [
        "arr2"
      ],
      "metadata": {
        "colab": {
          "base_uri": "https://localhost:8080/"
        },
        "id": "Gb9nFkkO3BRg",
        "outputId": "522e31f6-e13b-459e-e406-efb0d3ad4a85"
      },
      "execution_count": 29,
      "outputs": [
        {
          "output_type": "execute_result",
          "data": {
            "text/plain": [
              "array([1, 1, 1], dtype=int32)"
            ]
          },
          "metadata": {},
          "execution_count": 29
        }
      ]
    },
    {
      "cell_type": "code",
      "source": [
        "arr2.dtype"
      ],
      "metadata": {
        "colab": {
          "base_uri": "https://localhost:8080/"
        },
        "id": "YYJOF36Y3CNy",
        "outputId": "2c49dc23-fe47-4e05-df4d-65801f51a86b"
      },
      "execution_count": 30,
      "outputs": [
        {
          "output_type": "execute_result",
          "data": {
            "text/plain": [
              "dtype('int32')"
            ]
          },
          "metadata": {},
          "execution_count": 30
        }
      ]
    },
    {
      "cell_type": "markdown",
      "source": [
        "# 03 NumPy 속성"
      ],
      "metadata": {
        "id": "1XMbjeiw3gy8"
      }
    },
    {
      "cell_type": "code",
      "source": [
        "import numpy as np\n",
        "a = np.arange(15).reshape(3,5)\n",
        "a"
      ],
      "metadata": {
        "colab": {
          "base_uri": "https://localhost:8080/"
        },
        "id": "55I0Psh73EN7",
        "outputId": "d661ffeb-b309-48b0-b249-158fbbaa923e"
      },
      "execution_count": 44,
      "outputs": [
        {
          "output_type": "execute_result",
          "data": {
            "text/plain": [
              "array([[ 0,  1,  2,  3,  4],\n",
              "       [ 5,  6,  7,  8,  9],\n",
              "       [10, 11, 12, 13, 14]])"
            ]
          },
          "metadata": {},
          "execution_count": 44
        }
      ]
    },
    {
      "cell_type": "code",
      "source": [
        "type(a)"
      ],
      "metadata": {
        "colab": {
          "base_uri": "https://localhost:8080/"
        },
        "id": "G-ryq-TL3fm1",
        "outputId": "4fe42118-d069-44d0-f705-c4d8875e4f84"
      },
      "execution_count": 45,
      "outputs": [
        {
          "output_type": "execute_result",
          "data": {
            "text/plain": [
              "numpy.ndarray"
            ]
          },
          "metadata": {},
          "execution_count": 45
        }
      ]
    },
    {
      "cell_type": "code",
      "source": [
        " # 차원 == > 2차원 (3x5 형태)\n",
        "a.ndim"
      ],
      "metadata": {
        "colab": {
          "base_uri": "https://localhost:8080/"
        },
        "id": "h1FqAQZ13pCu",
        "outputId": "c1b13073-4b61-41f4-a299-7562ddae7a56"
      },
      "execution_count": 46,
      "outputs": [
        {
          "output_type": "execute_result",
          "data": {
            "text/plain": [
              "2"
            ]
          },
          "metadata": {},
          "execution_count": 46
        }
      ]
    },
    {
      "cell_type": "code",
      "source": [
        "a.itemsize"
      ],
      "metadata": {
        "colab": {
          "base_uri": "https://localhost:8080/"
        },
        "id": "zsQgsIlO38Mh",
        "outputId": "1083a60e-ec8b-44de-b0d6-ba9f2c44c030"
      },
      "execution_count": 47,
      "outputs": [
        {
          "output_type": "execute_result",
          "data": {
            "text/plain": [
              "8"
            ]
          },
          "metadata": {},
          "execution_count": 47
        }
      ]
    },
    {
      "cell_type": "code",
      "source": [
        "a.size"
      ],
      "metadata": {
        "colab": {
          "base_uri": "https://localhost:8080/"
        },
        "id": "y43dffwJ3_ad",
        "outputId": "fc386751-ffcf-4c77-d555-2bcd7919df13"
      },
      "execution_count": 48,
      "outputs": [
        {
          "output_type": "execute_result",
          "data": {
            "text/plain": [
              "15"
            ]
          },
          "metadata": {},
          "execution_count": 48
        }
      ]
    },
    {
      "cell_type": "code",
      "source": [
        "a.nbytes"
      ],
      "metadata": {
        "colab": {
          "base_uri": "https://localhost:8080/"
        },
        "id": "uGUn7UVY4JS4",
        "outputId": "ef68ed3c-d26c-4670-a5d9-05a37c4166b7"
      },
      "execution_count": 49,
      "outputs": [
        {
          "output_type": "execute_result",
          "data": {
            "text/plain": [
              "120"
            ]
          },
          "metadata": {},
          "execution_count": 49
        }
      ]
    },
    {
      "cell_type": "code",
      "source": [
        "a.T"
      ],
      "metadata": {
        "colab": {
          "base_uri": "https://localhost:8080/"
        },
        "id": "KXm2UTgj4Xs_",
        "outputId": "88eac4d4-2aa1-47d8-bbbe-6ecbc29d886d"
      },
      "execution_count": 50,
      "outputs": [
        {
          "output_type": "execute_result",
          "data": {
            "text/plain": [
              "array([[ 0,  5, 10],\n",
              "       [ 1,  6, 11],\n",
              "       [ 2,  7, 12],\n",
              "       [ 3,  8, 13],\n",
              "       [ 4,  9, 14]])"
            ]
          },
          "metadata": {},
          "execution_count": 50
        }
      ]
    },
    {
      "cell_type": "code",
      "source": [
        "a.shape"
      ],
      "metadata": {
        "colab": {
          "base_uri": "https://localhost:8080/"
        },
        "id": "U2xk6J6u4YL8",
        "outputId": "8cafa6bc-3a4a-41c6-8ec2-5ea411c94e56"
      },
      "execution_count": 51,
      "outputs": [
        {
          "output_type": "execute_result",
          "data": {
            "text/plain": [
              "(3, 5)"
            ]
          },
          "metadata": {},
          "execution_count": 51
        }
      ]
    },
    {
      "cell_type": "code",
      "source": [
        "a.dtype.name"
      ],
      "metadata": {
        "colab": {
          "base_uri": "https://localhost:8080/",
          "height": 35
        },
        "id": "mY7ovZDF4ZW6",
        "outputId": "6a4f6c44-b041-4dfd-8ae4-fc4f37a9193d"
      },
      "execution_count": 52,
      "outputs": [
        {
          "output_type": "execute_result",
          "data": {
            "application/vnd.google.colaboratory.intrinsic+json": {
              "type": "string"
            },
            "text/plain": [
              "'int64'"
            ]
          },
          "metadata": {},
          "execution_count": 52
        }
      ]
    },
    {
      "cell_type": "markdown",
      "source": [
        "## 연습문제 - NumPy 속성"
      ],
      "metadata": {
        "id": "RJKY2pDA4mVV"
      }
    },
    {
      "cell_type": "code",
      "source": [
        "b = np.array([6,7,8])\n",
        "b"
      ],
      "metadata": {
        "colab": {
          "base_uri": "https://localhost:8080/"
        },
        "id": "9HgEdId74mk4",
        "outputId": "15b63062-6262-4304-f605-e1faaaf17554"
      },
      "execution_count": 53,
      "outputs": [
        {
          "output_type": "execute_result",
          "data": {
            "text/plain": [
              "array([6, 7, 8])"
            ]
          },
          "metadata": {},
          "execution_count": 53
        }
      ]
    },
    {
      "cell_type": "code",
      "source": [
        "type(b)"
      ],
      "metadata": {
        "colab": {
          "base_uri": "https://localhost:8080/"
        },
        "id": "1vntEECB4moq",
        "outputId": "7509a573-304e-4bee-ef29-df75c3023599"
      },
      "execution_count": 54,
      "outputs": [
        {
          "output_type": "execute_result",
          "data": {
            "text/plain": [
              "numpy.ndarray"
            ]
          },
          "metadata": {},
          "execution_count": 54
        }
      ]
    },
    {
      "cell_type": "code",
      "source": [
        "b.ndim"
      ],
      "metadata": {
        "colab": {
          "base_uri": "https://localhost:8080/"
        },
        "id": "8yJ-_hdy4mrc",
        "outputId": "e8290410-5bf8-4ea9-c30b-59fe35d0dc9a"
      },
      "execution_count": 55,
      "outputs": [
        {
          "output_type": "execute_result",
          "data": {
            "text/plain": [
              "1"
            ]
          },
          "metadata": {},
          "execution_count": 55
        }
      ]
    },
    {
      "cell_type": "code",
      "source": [
        "b.itemsize"
      ],
      "metadata": {
        "colab": {
          "base_uri": "https://localhost:8080/"
        },
        "id": "zhskCe3T4mvS",
        "outputId": "7535606d-9592-49e8-d8db-9d5643227f24"
      },
      "execution_count": 56,
      "outputs": [
        {
          "output_type": "execute_result",
          "data": {
            "text/plain": [
              "8"
            ]
          },
          "metadata": {},
          "execution_count": 56
        }
      ]
    },
    {
      "cell_type": "code",
      "source": [
        "b.size"
      ],
      "metadata": {
        "colab": {
          "base_uri": "https://localhost:8080/"
        },
        "id": "9ACooehW41V9",
        "outputId": "4724cdb0-91f6-45a0-bf0c-4fc34d7379dd"
      },
      "execution_count": 57,
      "outputs": [
        {
          "output_type": "execute_result",
          "data": {
            "text/plain": [
              "3"
            ]
          },
          "metadata": {},
          "execution_count": 57
        }
      ]
    },
    {
      "cell_type": "code",
      "source": [
        "b.nbytes"
      ],
      "metadata": {
        "colab": {
          "base_uri": "https://localhost:8080/"
        },
        "id": "sG1PsYZs45_r",
        "outputId": "bdad0e0c-b00d-4b17-d4e6-9943aae23e67"
      },
      "execution_count": 58,
      "outputs": [
        {
          "output_type": "execute_result",
          "data": {
            "text/plain": [
              "24"
            ]
          },
          "metadata": {},
          "execution_count": 58
        }
      ]
    },
    {
      "cell_type": "code",
      "source": [
        "b.T"
      ],
      "metadata": {
        "colab": {
          "base_uri": "https://localhost:8080/"
        },
        "id": "Uxwox26b47FR",
        "outputId": "b30474b0-b1a3-4d8a-8124-076d348cdf1e"
      },
      "execution_count": 59,
      "outputs": [
        {
          "output_type": "execute_result",
          "data": {
            "text/plain": [
              "array([6, 7, 8])"
            ]
          },
          "metadata": {},
          "execution_count": 59
        }
      ]
    },
    {
      "cell_type": "code",
      "source": [
        "b.shape"
      ],
      "metadata": {
        "colab": {
          "base_uri": "https://localhost:8080/"
        },
        "id": "CgEp0-Ja49N-",
        "outputId": "8dd6ea93-b5c6-4d20-c893-b278e6ccf98d"
      },
      "execution_count": 60,
      "outputs": [
        {
          "output_type": "execute_result",
          "data": {
            "text/plain": [
              "(3,)"
            ]
          },
          "metadata": {},
          "execution_count": 60
        }
      ]
    },
    {
      "cell_type": "code",
      "source": [
        "b.dtype.name"
      ],
      "metadata": {
        "colab": {
          "base_uri": "https://localhost:8080/",
          "height": 35
        },
        "id": "blJpwWIT4-Je",
        "outputId": "9126bb75-f077-45d9-a796-231454b334c1"
      },
      "execution_count": 61,
      "outputs": [
        {
          "output_type": "execute_result",
          "data": {
            "application/vnd.google.colaboratory.intrinsic+json": {
              "type": "string"
            },
            "text/plain": [
              "'int64'"
            ]
          },
          "metadata": {},
          "execution_count": 61
        }
      ]
    },
    {
      "cell_type": "markdown",
      "source": [
        "# 04 NumPy 마스킹 - 배열 선택적으로 골라내기\n",
        "\n",
        "- ndarray에 배열을 집어 넣거나 mask를 적용하면 컬럼 선택이 가능\n",
        "- 물결 기호(~) 사용 시 선택 컬럼 반전 가능\n"
      ],
      "metadata": {
        "id": "GOq-5RbX5AXS"
      }
    },
    {
      "cell_type": "code",
      "source": [
        "mask = np.array([0,1,0,1,0,1,0], dtype=bool)\n",
        "mask"
      ],
      "metadata": {
        "colab": {
          "base_uri": "https://localhost:8080/"
        },
        "id": "VRWDimcM5sYx",
        "outputId": "1665a4ba-961c-400c-a070-6f26e77c8d2d"
      },
      "execution_count": 66,
      "outputs": [
        {
          "output_type": "execute_result",
          "data": {
            "text/plain": [
              "array([False,  True, False,  True, False,  True, False])"
            ]
          },
          "metadata": {},
          "execution_count": 66
        }
      ]
    },
    {
      "cell_type": "code",
      "source": [
        "data = np.random.randn(7,4)\n",
        "data"
      ],
      "metadata": {
        "colab": {
          "base_uri": "https://localhost:8080/"
        },
        "id": "6qB-jsge5sbP",
        "outputId": "40d6b604-c4d8-4aad-f9d0-f3741a57d2f0"
      },
      "execution_count": 67,
      "outputs": [
        {
          "output_type": "execute_result",
          "data": {
            "text/plain": [
              "array([[-2.92608506e-01,  1.35330329e+00,  6.99945989e-01,\n",
              "         9.70481244e-02],\n",
              "       [-1.33018923e-01,  1.77998093e-01, -1.52750332e+00,\n",
              "        -1.06024610e+00],\n",
              "       [-1.36608724e+00,  6.87400764e-02, -2.92018539e-01,\n",
              "         2.00321746e-01],\n",
              "       [ 7.67566041e-01, -9.53504920e-01, -1.10200278e-02,\n",
              "        -1.39090926e+00],\n",
              "       [ 7.59585915e-01, -7.65444563e-01,  1.25105790e-03,\n",
              "         3.38967344e-01],\n",
              "       [ 6.99715213e-02,  2.20923449e-01,  3.62925041e-01,\n",
              "        -7.17421380e-01],\n",
              "       [-3.22759468e-03, -6.00892077e-01,  1.29796387e+00,\n",
              "         2.33513189e+00]])"
            ]
          },
          "metadata": {},
          "execution_count": 67
        }
      ]
    },
    {
      "cell_type": "code",
      "source": [
        "data[[1,2,3,4]]"
      ],
      "metadata": {
        "colab": {
          "base_uri": "https://localhost:8080/"
        },
        "id": "x8d2uW5F4_rz",
        "outputId": "998230cf-6211-4c1b-9e75-c566dd215202"
      },
      "execution_count": 68,
      "outputs": [
        {
          "output_type": "execute_result",
          "data": {
            "text/plain": [
              "array([[-1.33018923e-01,  1.77998093e-01, -1.52750332e+00,\n",
              "        -1.06024610e+00],\n",
              "       [-1.36608724e+00,  6.87400764e-02, -2.92018539e-01,\n",
              "         2.00321746e-01],\n",
              "       [ 7.67566041e-01, -9.53504920e-01, -1.10200278e-02,\n",
              "        -1.39090926e+00],\n",
              "       [ 7.59585915e-01, -7.65444563e-01,  1.25105790e-03,\n",
              "         3.38967344e-01]])"
            ]
          },
          "metadata": {},
          "execution_count": 68
        }
      ]
    },
    {
      "cell_type": "code",
      "source": [
        "data[mask]"
      ],
      "metadata": {
        "colab": {
          "base_uri": "https://localhost:8080/"
        },
        "id": "Es4g7ro15gxa",
        "outputId": "ec5332ca-96f6-4049-f14c-7383a3d7a1f6"
      },
      "execution_count": 69,
      "outputs": [
        {
          "output_type": "execute_result",
          "data": {
            "text/plain": [
              "array([[-0.13301892,  0.17799809, -1.52750332, -1.0602461 ],\n",
              "       [ 0.76756604, -0.95350492, -0.01102003, -1.39090926],\n",
              "       [ 0.06997152,  0.22092345,  0.36292504, -0.71742138]])"
            ]
          },
          "metadata": {},
          "execution_count": 69
        }
      ]
    },
    {
      "cell_type": "code",
      "source": [
        "data[~mask]"
      ],
      "metadata": {
        "colab": {
          "base_uri": "https://localhost:8080/"
        },
        "id": "PR3nb-E05kgs",
        "outputId": "9eb84e57-ca4c-48e0-94d3-e7b05a0beaf4"
      },
      "execution_count": 70,
      "outputs": [
        {
          "output_type": "execute_result",
          "data": {
            "text/plain": [
              "array([[-2.92608506e-01,  1.35330329e+00,  6.99945989e-01,\n",
              "         9.70481244e-02],\n",
              "       [-1.36608724e+00,  6.87400764e-02, -2.92018539e-01,\n",
              "         2.00321746e-01],\n",
              "       [ 7.59585915e-01, -7.65444563e-01,  1.25105790e-03,\n",
              "         3.38967344e-01],\n",
              "       [-3.22759468e-03, -6.00892077e-01,  1.29796387e+00,\n",
              "         2.33513189e+00]])"
            ]
          },
          "metadata": {},
          "execution_count": 70
        }
      ]
    },
    {
      "cell_type": "markdown",
      "source": [
        "# 04 NumPy 마스킹 - 배열 선택적으로 골라내기\n",
        "\n",
        "-  [ ]안에 조건을 전달하여 데이터 선택"
      ],
      "metadata": {
        "id": "6excpwtj6KeL"
      }
    },
    {
      "cell_type": "code",
      "source": [
        "over0 = data[data>0]\n",
        "over0"
      ],
      "metadata": {
        "colab": {
          "base_uri": "https://localhost:8080/"
        },
        "id": "NQdtWRL_5m1y",
        "outputId": "e8e6273c-e81d-41fa-ceca-6e3a77044f58"
      },
      "execution_count": 73,
      "outputs": [
        {
          "output_type": "execute_result",
          "data": {
            "text/plain": [
              "array([1.35330329e+00, 6.99945989e-01, 9.70481244e-02, 1.77998093e-01,\n",
              "       6.87400764e-02, 2.00321746e-01, 7.67566041e-01, 7.59585915e-01,\n",
              "       1.25105790e-03, 3.38967344e-01, 6.99715213e-02, 2.20923449e-01,\n",
              "       3.62925041e-01, 1.29796387e+00, 2.33513189e+00])"
            ]
          },
          "metadata": {},
          "execution_count": 73
        }
      ]
    },
    {
      "cell_type": "code",
      "source": [
        "over0.shape"
      ],
      "metadata": {
        "colab": {
          "base_uri": "https://localhost:8080/"
        },
        "id": "sCuDzzAQ6I3p",
        "outputId": "919bcaa9-6e84-43ad-de15-46387eeb67e2"
      },
      "execution_count": 74,
      "outputs": [
        {
          "output_type": "execute_result",
          "data": {
            "text/plain": [
              "(15,)"
            ]
          },
          "metadata": {},
          "execution_count": 74
        }
      ]
    },
    {
      "cell_type": "code",
      "source": [
        "over1 = data[1][data[1]>0]\n",
        "over1"
      ],
      "metadata": {
        "colab": {
          "base_uri": "https://localhost:8080/"
        },
        "id": "JDngifqy6RYa",
        "outputId": "273c1a5b-6ecd-4299-d48a-d7792e0a5976"
      },
      "execution_count": 75,
      "outputs": [
        {
          "output_type": "execute_result",
          "data": {
            "text/plain": [
              "array([0.17799809])"
            ]
          },
          "metadata": {},
          "execution_count": 75
        }
      ]
    },
    {
      "cell_type": "markdown",
      "source": [
        "# 05 NumPy - 배열 모양 변경\n",
        "\n",
        "- Ravel() : 1차원 배열로 바꿈\n",
        "- Flatten() : 1차원 배열로 바꿈\n",
        "  - Ravel과는 다르게 항상 새로운 메모리에 배열 생성\n",
        "- shape 변수 변경 : 튜플을 수정해 모양올 바로 정의\n",
        "  - 해당 변수 메모리 직접 변조\n",
        "- Transpose() : 교차시킴\n",
        "  - 2차행렬 테이블에서 교차는 \"행을 열이 되고 열은 행이 됨\"을 의미\n",
        "- Resize(a,b) : 배열을 원하는 모양으로 바꿈\n",
        "  - reshape는 출력을 변경하지만, resize는 배열을 직접 바꾼다\n",
        "  \n",
        "  "
      ],
      "metadata": {
        "id": "R1fcqqBR6ugd"
      }
    },
    {
      "cell_type": "code",
      "source": [
        "import numpy as np\n",
        "\n",
        "# 테스트 할 배열 b 생성 \n",
        "b = np.arange(24)\n",
        "b"
      ],
      "metadata": {
        "colab": {
          "base_uri": "https://localhost:8080/"
        },
        "id": "Hb7ESLmv6Wze",
        "outputId": "5bf56cee-ee73-4d8f-9f88-e75146f74f78"
      },
      "execution_count": 81,
      "outputs": [
        {
          "output_type": "execute_result",
          "data": {
            "text/plain": [
              "array([ 0,  1,  2,  3,  4,  5,  6,  7,  8,  9, 10, 11, 12, 13, 14, 15, 16,\n",
              "       17, 18, 19, 20, 21, 22, 23])"
            ]
          },
          "metadata": {},
          "execution_count": 81
        }
      ]
    },
    {
      "cell_type": "code",
      "source": [
        "# shape(튜플)을 변경하여 모양 설정하기 : 튜플을 수정하여 모양을 바로 정의\n",
        "\n",
        "b.shape = (6,4)\n",
        "b"
      ],
      "metadata": {
        "colab": {
          "base_uri": "https://localhost:8080/"
        },
        "id": "yX-cfJfM7jzf",
        "outputId": "3ae92649-aa71-4fce-93e4-41cc0fb7b5bb"
      },
      "execution_count": 82,
      "outputs": [
        {
          "output_type": "execute_result",
          "data": {
            "text/plain": [
              "array([[ 0,  1,  2,  3],\n",
              "       [ 4,  5,  6,  7],\n",
              "       [ 8,  9, 10, 11],\n",
              "       [12, 13, 14, 15],\n",
              "       [16, 17, 18, 19],\n",
              "       [20, 21, 22, 23]])"
            ]
          },
          "metadata": {},
          "execution_count": 82
        }
      ]
    },
    {
      "cell_type": "markdown",
      "source": [
        "## Ravel()"
      ],
      "metadata": {
        "id": "LuzNH-CQ71iO"
      }
    },
    {
      "cell_type": "code",
      "source": [
        "b.ravel()"
      ],
      "metadata": {
        "colab": {
          "base_uri": "https://localhost:8080/"
        },
        "id": "KzliCQ_g7xPB",
        "outputId": "2eaaa563-a50d-4aa1-ebde-236107edcd49"
      },
      "execution_count": 84,
      "outputs": [
        {
          "output_type": "execute_result",
          "data": {
            "text/plain": [
              "array([ 0,  1,  2,  3,  4,  5,  6,  7,  8,  9, 10, 11, 12, 13, 14, 15, 16,\n",
              "       17, 18, 19, 20, 21, 22, 23])"
            ]
          },
          "metadata": {},
          "execution_count": 84
        }
      ]
    },
    {
      "cell_type": "markdown",
      "source": [
        "## Flatten() \n",
        "\n",
        "- ravel() 함수와 같은 역할\n",
        "- 그러나 flatten() 함수는 항상 새로운 메모리를 할당\n",
        "- ravel은 해당 배열을 직접 변조\n",
        "\n",
        "\n"
      ],
      "metadata": {
        "id": "lSRr6qcF71nw"
      }
    },
    {
      "cell_type": "code",
      "source": [
        "b.flatten()"
      ],
      "metadata": {
        "colab": {
          "base_uri": "https://localhost:8080/"
        },
        "id": "6tl0ITIX76mz",
        "outputId": "e8b6bfcd-fd19-471c-8079-94a2acde0c6b"
      },
      "execution_count": 85,
      "outputs": [
        {
          "output_type": "execute_result",
          "data": {
            "text/plain": [
              "array([ 0,  1,  2,  3,  4,  5,  6,  7,  8,  9, 10, 11, 12, 13, 14, 15, 16,\n",
              "       17, 18, 19, 20, 21, 22, 23])"
            ]
          },
          "metadata": {},
          "execution_count": 85
        }
      ]
    },
    {
      "cell_type": "markdown",
      "source": [
        "## Transpose ( 교차시키기 )\n",
        "\n",
        "- 선형대수학에서는 행렬을 교차시키는 경우가 많음\n",
        "- 2차행렬 테이블에서 교차는 \"행은 열이 되고 열은 행이 됨을 의미\"\n",
        "\n"
      ],
      "metadata": {
        "id": "RYnOSvGX8mwQ"
      }
    },
    {
      "cell_type": "code",
      "source": [
        "b.transpose()"
      ],
      "metadata": {
        "colab": {
          "base_uri": "https://localhost:8080/"
        },
        "outputId": "860257ea-3ee5-4bf8-9969-e79534904872",
        "id": "RUflkXIO8mwQ"
      },
      "execution_count": 86,
      "outputs": [
        {
          "output_type": "execute_result",
          "data": {
            "text/plain": [
              "array([[ 0,  4,  8, 12, 16, 20],\n",
              "       [ 1,  5,  9, 13, 17, 21],\n",
              "       [ 2,  6, 10, 14, 18, 22],\n",
              "       [ 3,  7, 11, 15, 19, 23]])"
            ]
          },
          "metadata": {},
          "execution_count": 86
        }
      ]
    },
    {
      "cell_type": "markdown",
      "source": [
        "## Resize\n",
        "\n",
        "- resize() 함수는 reshape() 함수처럼 동작\n",
        "- reshape는 출력을 변경하지만, resize는 배열을 직접 변경\n",
        "\n",
        "\n"
      ],
      "metadata": {
        "id": "SvLF52hC8m7N"
      }
    },
    {
      "cell_type": "code",
      "source": [
        "b.resize((2,12))\n",
        "b"
      ],
      "metadata": {
        "colab": {
          "base_uri": "https://localhost:8080/"
        },
        "outputId": "d6f5987a-da9d-45a7-f8f8-a733b874efe5",
        "id": "QOSZ9pn-8m7O"
      },
      "execution_count": 87,
      "outputs": [
        {
          "output_type": "execute_result",
          "data": {
            "text/plain": [
              "array([[ 0,  1,  2,  3,  4,  5,  6,  7,  8,  9, 10, 11],\n",
              "       [12, 13, 14, 15, 16, 17, 18, 19, 20, 21, 22, 23]])"
            ]
          },
          "metadata": {},
          "execution_count": 87
        }
      ]
    },
    {
      "cell_type": "code",
      "source": [
        ""
      ],
      "metadata": {
        "id": "PGZ1AEQf8lYC"
      },
      "execution_count": null,
      "outputs": []
    }
  ]
}