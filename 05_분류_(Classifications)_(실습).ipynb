{
  "cells": [
    {
      "cell_type": "markdown",
      "metadata": {
        "id": "view-in-github",
        "colab_type": "text"
      },
      "source": [
        "<a href=\"https://colab.research.google.com/github/ssyyjj1012/data-analysis/blob/main/05_%EB%B6%84%EB%A5%98_(Classifications)_(%EC%8B%A4%EC%8A%B5).ipynb\" target=\"_parent\"><img src=\"https://colab.research.google.com/assets/colab-badge.svg\" alt=\"Open In Colab\"/></a>"
      ]
    },
    {
      "cell_type": "code",
      "execution_count": 1,
      "metadata": {
        "id": "1cWkghx3RFGh"
      },
      "outputs": [],
      "source": [
        "from IPython.display import Image\n",
        "import numpy as np\n",
        "import pandas as pd\n",
        "import matplotlib.pyplot as plt\n",
        "import seaborn as sns\n",
        "import warnings\n",
        "\n",
        "# 경고 메시지 출력 표기 생략\n",
        "warnings.filterwarnings('ignore')\n",
        "\n",
        "# unicode 에러\n",
        "plt.rcParams['axes.unicode_minus'] = False"
      ]
    },
    {
      "cell_type": "markdown",
      "metadata": {
        "id": "T-QQ0XVTQ91J"
      },
      "source": [
        "# 분류 (Classification)"
      ]
    },
    {
      "cell_type": "markdown",
      "metadata": {
        "id": "cEMQoty0RCVc"
      },
      "source": [
        "## K Nearest Neighbors (k-최근접 이웃 분류 알고리즘)"
      ]
    },
    {
      "cell_type": "markdown",
      "metadata": {
        "id": "FhAahW-Pk0eI"
      },
      "source": [
        "가장 중요한 hyperparameter인 **K**값은 근처에 참고(reference)할 **이웃의 숫자**"
      ]
    },
    {
      "cell_type": "markdown",
      "metadata": {
        "id": "_HV_AON2k0eJ"
      },
      "source": [
        "- k-최근접 이웃 분류 알고리즘\n",
        "- 가장 고전적이고 직관적인 머신러닝 분류 알고리즘\n",
        "- 기하학적 거리 분류기\n",
        "- 가장 **가깝게 위치하는 멤버로 분류**하는 방식"
      ]
    },
    {
      "cell_type": "code",
      "execution_count": 2,
      "metadata": {
        "id": "H3rT6Nkfk0eJ",
        "colab": {
          "base_uri": "https://localhost:8080/",
          "height": 447
        },
        "outputId": "1653f932-c99f-4839-a0e8-4484828a25fc"
      },
      "outputs": [
        {
          "output_type": "execute_result",
          "data": {
            "text/html": [
              "<img src=\"https://miro.medium.com/max/405/0*QyWp7J6eSz0tayc0.png\" width=\"500\"/>"
            ],
            "text/plain": [
              "<IPython.core.display.Image object>"
            ]
          },
          "metadata": {},
          "execution_count": 2
        }
      ],
      "source": [
        "Image(url='https://miro.medium.com/max/405/0*QyWp7J6eSz0tayc0.png', width=500)"
      ]
    },
    {
      "cell_type": "markdown",
      "metadata": {
        "id": "3rc_3G2uRVqw"
      },
      "source": [
        "## mnist (손글씨) 데이터셋을 활용한 분류"
      ]
    },
    {
      "cell_type": "markdown",
      "metadata": {
        "id": "ZuEa43dDk0eQ"
      },
      "source": [
        "mnist (손글씨) 데이터셋을 활용하여 0~9까지 분류하는 분류기를 만듭니다.\n",
        "\n",
        "`sklearn.datasets` 보다 고해상도 이미지이기 때문에 `tensorflow.keras.datasets`을 활용합니다."
      ]
    },
    {
      "cell_type": "code",
      "execution_count": 3,
      "metadata": {
        "id": "hGQadlAgvda-"
      },
      "outputs": [],
      "source": [
        "#!pip install tensorflow"
      ]
    },
    {
      "cell_type": "code",
      "execution_count": 4,
      "metadata": {
        "id": "sCSjEMovSoCR",
        "colab": {
          "base_uri": "https://localhost:8080/"
        },
        "outputId": "2fbf2138-8d04-4d7f-85f1-ba2034277b17"
      },
      "outputs": [
        {
          "output_type": "execute_result",
          "data": {
            "text/plain": [
              "(5000, 784)"
            ]
          },
          "metadata": {},
          "execution_count": 4
        }
      ],
      "source": [
        "from tensorflow.keras.datasets import mnist\n",
        "\n",
        "(x_digit, y_digit), (_, _15) = mnist.load_data()\n",
        "x_digit, y_digit = x_digit[:5000], y_digit[:5000]\n",
        "x_digit = x_digit.reshape(-1, 28*28)\n",
        "x_digit.shape"
      ]
    },
    {
      "cell_type": "markdown",
      "metadata": {
        "id": "SZJfMBLMk0eV"
      },
      "source": [
        "### mnist (손글씨) 데이터 시각화"
      ]
    },
    {
      "cell_type": "code",
      "execution_count": 5,
      "metadata": {
        "id": "wxPRGWYFVaDs",
        "colab": {
          "base_uri": "https://localhost:8080/",
          "height": 365
        },
        "outputId": "af6289bb-3b2d-4c33-c62a-9acc30d6019c"
      },
      "outputs": [
        {
          "output_type": "display_data",
          "data": {
            "image/png": "[encoded data removed]",
            "text/plain": [
              "<Figure size 864x432 with 10 Axes>"
            ]
          },
          "metadata": {
            "needs_background": "light"
          }
        }
      ],
      "source": [
        "w, h = 2, 5\n",
        "fig, axes = plt.subplots(w, h)\n",
        "fig.set_size_inches(12, 6)\n",
        "for i in range(w*h):\n",
        "    axes[i//h, i%h].imshow(x_digit[i].reshape(-1, 28), cmap='gray')\n",
        "    axes[i//h, i%h].set_title(y_digit[i], fontsize=20)\n",
        "    axes[i//h, i%h].axis('off')\n",
        "plt.tight_layout()\n",
        "plt.show()"
      ]
    },
    {
      "cell_type": "markdown",
      "metadata": {
        "id": "nCBsm5YEVlH9"
      },
      "source": [
        "## 데이터 셋 분할"
      ]
    },
    {
      "cell_type": "markdown",
      "metadata": {
        "id": "fgShO0jTk0eX"
      },
      "source": [
        "학습용(train) 데이터셋과 검증 (혹은 테스트)용 데이터 셋을 분할 합니다."
      ]
    },
    {
      "cell_type": "code",
      "execution_count": 6,
      "metadata": {
        "id": "994h8nWyZT3n"
      },
      "outputs": [],
      "source": [
        "from sklearn.model_selection import train_test_split\n",
        "\n",
        "SEED = 123"
      ]
    },
    {
      "cell_type": "markdown",
      "metadata": {
        "id": "mhbzmJP9vdbE"
      },
      "source": [
        "- `random_state`에 SEED(123) 적용\n",
        "- `test_size`는 0.1 로 설정\n",
        "- `stratify` 옵션 지정"
      ]
    },
    {
      "cell_type": "code",
      "execution_count": 7,
      "metadata": {
        "id": "QAKP-grlZYhD"
      },
      "outputs": [],
      "source": [
        "# 코드를 입력해 주세요\n",
        "x_train, x_test, y_train, y_test = train_test_split(x_digit, y_digit, stratify=y_digit, random_state=SEED, test_size=0.1)"
      ]
    },
    {
      "cell_type": "code",
      "execution_count": 8,
      "metadata": {
        "id": "m9gbpWSOZpCc",
        "colab": {
          "base_uri": "https://localhost:8080/"
        },
        "outputId": "570a3bc7-defc-43f2-bac6-90ac850632bb"
      },
      "outputs": [
        {
          "output_type": "execute_result",
          "data": {
            "text/plain": [
              "((4500, 784), (500, 784))"
            ]
          },
          "metadata": {},
          "execution_count": 8
        }
      ],
      "source": [
        "# 코드를 입력해 주세요\n",
        "x_train.shape, x_test.shape"
      ]
    },
    {
      "cell_type": "markdown",
      "metadata": {
        "id": "BnqtqPWMvdbF"
      },
      "source": [
        "<p><strong>[출력 결과]</strong></p><pre>((4500, 784), (500, 784))</pre>"
      ]
    },
    {
      "cell_type": "markdown",
      "metadata": {
        "id": "yZuWLIp-Zuqs"
      },
      "source": [
        "### 모델 정의"
      ]
    },
    {
      "cell_type": "markdown",
      "metadata": {
        "id": "eKxX35bkk0ed"
      },
      "source": [
        "`KNeighborsClassifier`를 정의 하고 핵심 hyperparameter 인 `n_neighbors`를 지정합니다.\n",
        "\n",
        "임의로 5개의 이웃을 보도록 `n_neighbors=5`로 지정하겠습니다."
      ]
    },
    {
      "cell_type": "code",
      "execution_count": 9,
      "metadata": {
        "id": "fs6khtgGZsI8"
      },
      "outputs": [],
      "source": [
        "# 코드를 입력해 주세요\n",
        "from sklearn.neighbors import KNeighborsClassifier\n",
        "from sklearn.datasets import make_classification\n",
        "knn = KNeighborsClassifier(n_neighbors=5)"
      ]
    },
    {
      "cell_type": "markdown",
      "metadata": {
        "id": "7TmM9j3-ZySH"
      },
      "source": [
        "### 학습 (fit)"
      ]
    },
    {
      "cell_type": "code",
      "execution_count": 10,
      "metadata": {
        "id": "9GGFrR-cZzps",
        "colab": {
          "base_uri": "https://localhost:8080/"
        },
        "outputId": "ec3828bf-4219-4ca4-ae4d-33b3313e966e"
      },
      "outputs": [
        {
          "output_type": "execute_result",
          "data": {
            "text/plain": [
              "KNeighborsClassifier()"
            ]
          },
          "metadata": {},
          "execution_count": 10
        }
      ],
      "source": [
        "# 코드를 입력해 주세요\n",
        "knn.fit(x_train, y_train)"
      ]
    },
    {
      "cell_type": "markdown",
      "metadata": {
        "id": "3mGqtqCPvdbI"
      },
      "source": [
        "<p><strong>[출력 결과]</strong></p><pre>KNeighborsClassifier()</pre>"
      ]
    },
    {
      "cell_type": "markdown",
      "metadata": {
        "id": "nwx2j2HxaNfV"
      },
      "source": [
        "### 예측 (predict)"
      ]
    },
    {
      "cell_type": "code",
      "execution_count": 11,
      "metadata": {
        "id": "IWPKTrb2Z10L"
      },
      "outputs": [],
      "source": [
        "# 코드를 입력해 주세요\n",
        "prediction = knn.predict(x_test)"
      ]
    },
    {
      "cell_type": "markdown",
      "metadata": {
        "id": "RmzBxLlgaQq1"
      },
      "source": [
        "### 검증 (evaluation)"
      ]
    },
    {
      "cell_type": "markdown",
      "metadata": {
        "id": "sERcDxh-k0ek"
      },
      "source": [
        "정확도 (Accuracy) 산출"
      ]
    },
    {
      "cell_type": "code",
      "execution_count": 12,
      "metadata": {
        "id": "3FnUvsNtaTN7",
        "colab": {
          "base_uri": "https://localhost:8080/"
        },
        "outputId": "383fecd1-a9d7-4663-cc0e-a2aa1efb5c26"
      },
      "outputs": [
        {
          "output_type": "execute_result",
          "data": {
            "text/plain": [
              "0.938"
            ]
          },
          "metadata": {},
          "execution_count": 12
        }
      ],
      "source": [
        "# 코드를 입력해 주세요\n",
        "#(prediction == y_test).mean()\n",
        "knn.score(x_test, y_test)"
      ]
    },
    {
      "cell_type": "markdown",
      "metadata": {
        "id": "sjUgQmZ1vdbK"
      },
      "source": [
        "<p><strong>[출력 결과]</strong></p><pre>0.938</pre>"
      ]
    },
    {
      "cell_type": "markdown",
      "metadata": {
        "id": "oPDmQE0JaWEr"
      },
      "source": [
        "### 최적의 n_neighbors 찾기"
      ]
    },
    {
      "cell_type": "markdown",
      "metadata": {
        "id": "YxT0J786vdbK"
      },
      "source": [
        "- `k=1` ~ `k=10`까지의 정확도를 출력"
      ]
    },
    {
      "cell_type": "code",
      "execution_count": 27,
      "metadata": {
        "colab": {
          "base_uri": "https://localhost:8080/"
        },
        "id": "T7wBOqwjbmVq",
        "outputId": "962093a9-6e85-489b-e067-79539e461c62"
      },
      "outputs": [
        {
          "output_type": "stream",
          "name": "stdout",
          "text": [
            "k: 1, accuracy: 95.00\n",
            "k: 2, accuracy: 93.40\n",
            "k: 3, accuracy: 94.40\n",
            "k: 4, accuracy: 94.20\n",
            "k: 5, accuracy: 94.40\n",
            "k: 6, accuracy: 94.50\n",
            "k: 7, accuracy: 94.50\n",
            "k: 8, accuracy: 94.30\n",
            "k: 9, accuracy: 94.40\n",
            "k: 10, accuracy: 94.10\n"
          ]
        }
      ],
      "source": [
        "# 코드를 입력해 주세요\n",
        "for k in range(1, 11):\n",
        "    # 1. 알고리즘 선언: k의 계수 설정 (hyper-parameter 설정)\n",
        "    knn = KNeighborsClassifier(n_neighbors=k)\n",
        "    # 2. 학습(fit)\n",
        "    knn.fit(x_train, y_train)\n",
        "    # 3. 예측(predict)\n",
        "    pred = knn.predict(x_test)\n",
        "    # 4. 정확도 계산(accuracy)\n",
        "    acc = (pred == y_test).mean()\n",
        "    print(f'k: {k}, accuracy: {acc*100:.2f}')"
      ]
    },
    {
      "cell_type": "markdown",
      "metadata": {
        "id": "fM5fLWpvvdbM"
      },
      "source": [
        "<p><strong>[출력 결과]</strong></p><pre>k: 1, accuracy: 94.40\n",
        "k: 2, accuracy: 93.20\n",
        "k: 3, accuracy: 94.20\n",
        "k: 4, accuracy: 93.80\n",
        "k: 5, accuracy: 93.80\n",
        "k: 6, accuracy: 93.40\n",
        "k: 7, accuracy: 93.80\n",
        "k: 8, accuracy: 93.60\n",
        "k: 9, accuracy: 94.00\n",
        "k: 10, accuracy: 92.80\n",
        "</pre>"
      ]
    },
    {
      "cell_type": "markdown",
      "metadata": {
        "id": "8y2R04Ocb-hK"
      },
      "source": [
        "## Iris 붓꽃 데이터셋을 활용한 실습"
      ]
    },
    {
      "cell_type": "markdown",
      "metadata": {
        "id": "4Z82385Ic3rx"
      },
      "source": [
        "### 필요한 데이터셋 불러오기 (load_iris)"
      ]
    },
    {
      "cell_type": "code",
      "execution_count": 14,
      "metadata": {
        "id": "5RFEaXq1c8X2"
      },
      "outputs": [],
      "source": [
        "from sklearn.datasets import load_iris"
      ]
    },
    {
      "cell_type": "code",
      "execution_count": 15,
      "metadata": {
        "id": "RRv4zgw-c_SC"
      },
      "outputs": [],
      "source": [
        "# 코드를 입력해 주세요\n",
        "iris = load_iris()"
      ]
    },
    {
      "cell_type": "markdown",
      "metadata": {
        "id": "8IPVL172k0ev"
      },
      "source": [
        "### 데이터프레임 (DataFrame) 만들기"
      ]
    },
    {
      "cell_type": "markdown",
      "metadata": {
        "id": "WvgijczovdbO"
      },
      "source": [
        "`df` 변수에 데이터 프레임 생성합니다."
      ]
    },
    {
      "cell_type": "code",
      "execution_count": 16,
      "metadata": {
        "id": "52qpFNoUdArv",
        "colab": {
          "base_uri": "https://localhost:8080/",
          "height": 206
        },
        "outputId": "977784f0-d5ac-4239-ec23-17648bea662c"
      },
      "outputs": [
        {
          "output_type": "execute_result",
          "data": {
            "text/html": [
              "\n",
              "  <div id=\"df-2a9203da-6d27-4c46-8c22-942fd9acc7b1\">\n",
              "    <div class=\"colab-df-container\">\n",
              "      <div>\n",
              "<style scoped>\n",
              "    .dataframe tbody tr th:only-of-type {\n",
              "        vertical-align: middle;\n",
              "    }\n",
              "\n",
              "    .dataframe tbody tr th {\n",
              "        vertical-align: top;\n",
              "    }\n",
              "\n",
              "    .dataframe thead th {\n",
              "        text-align: right;\n",
              "    }\n",
              "</style>\n",
              "<table border=\"1\" class=\"dataframe\">\n",
              "  <thead>\n",
              "    <tr style=\"text-align: right;\">\n",
              "      <th></th>\n",
              "      <th>sepal length (cm)</th>\n",
              "      <th>sepal width (cm)</th>\n",
              "      <th>petal length (cm)</th>\n",
              "      <th>petal width (cm)</th>\n",
              "      <th>target</th>\n",
              "    </tr>\n",
              "  </thead>\n",
              "  <tbody>\n",
              "    <tr>\n",
              "      <th>0</th>\n",
              "      <td>5.1</td>\n",
              "      <td>3.5</td>\n",
              "      <td>1.4</td>\n",
              "      <td>0.2</td>\n",
              "      <td>0</td>\n",
              "    </tr>\n",
              "    <tr>\n",
              "      <th>1</th>\n",
              "      <td>4.9</td>\n",
              "      <td>3.0</td>\n",
              "      <td>1.4</td>\n",
              "      <td>0.2</td>\n",
              "      <td>0</td>\n",
              "    </tr>\n",
              "    <tr>\n",
              "      <th>2</th>\n",
              "      <td>4.7</td>\n",
              "      <td>3.2</td>\n",
              "      <td>1.3</td>\n",
              "      <td>0.2</td>\n",
              "      <td>0</td>\n",
              "    </tr>\n",
              "    <tr>\n",
              "      <th>3</th>\n",
              "      <td>4.6</td>\n",
              "      <td>3.1</td>\n",
              "      <td>1.5</td>\n",
              "      <td>0.2</td>\n",
              "      <td>0</td>\n",
              "    </tr>\n",
              "    <tr>\n",
              "      <th>4</th>\n",
              "      <td>5.0</td>\n",
              "      <td>3.6</td>\n",
              "      <td>1.4</td>\n",
              "      <td>0.2</td>\n",
              "      <td>0</td>\n",
              "    </tr>\n",
              "  </tbody>\n",
              "</table>\n",
              "</div>\n",
              "      <button class=\"colab-df-convert\" onclick=\"convertToInteractive('df-2a9203da-6d27-4c46-8c22-942fd9acc7b1')\"\n",
              "              title=\"Convert this dataframe to an interactive table.\"\n",
              "              style=\"display:none;\">\n",
              "        \n",
              "  <svg xmlns=\"http://www.w3.org/2000/svg\" height=\"24px\"viewBox=\"0 0 24 24\"\n",
              "       width=\"24px\">\n",
              "    <path d=\"M0 0h24v24H0V0z\" fill=\"none\"/>\n",
              "    <path d=\"M18.56 5.44l.94 2.06.94-2.06 2.06-.94-2.06-.94-.94-2.06-.94 2.06-2.06.94zm-11 1L8.5 8.5l.94-2.06 2.06-.94-2.06-.94L8.5 2.5l-.94 2.06-2.06.94zm10 10l.94 2.06.94-2.06 2.06-.94-2.06-.94-.94-2.06-.94 2.06-2.06.94z\"/><path d=\"M17.41 7.96l-1.37-1.37c-.4-.4-.92-.59-1.43-.59-.52 0-1.04.2-1.43.59L10.3 9.45l-7.72 7.72c-.78.78-.78 2.05 0 2.83L4 21.41c.39.39.9.59 1.41.59.51 0 1.02-.2 1.41-.59l7.78-7.78 2.81-2.81c.8-.78.8-2.07 0-2.86zM5.41 20L4 18.59l7.72-7.72 1.47 1.35L5.41 20z\"/>\n",
              "  </svg>\n",
              "      </button>\n",
              "      \n",
              "  <style>\n",
              "    .colab-df-container {\n",
              "      display:flex;\n",
              "      flex-wrap:wrap;\n",
              "      gap: 12px;\n",
              "    }\n",
              "\n",
              "    .colab-df-convert {\n",
              "      background-color: #E8F0FE;\n",
              "      border: none;\n",
              "      border-radius: 50%;\n",
              "      cursor: pointer;\n",
              "      display: none;\n",
              "      fill: #1967D2;\n",
              "      height: 32px;\n",
              "      padding: 0 0 0 0;\n",
              "      width: 32px;\n",
              "    }\n",
              "\n",
              "    .colab-df-convert:hover {\n",
              "      background-color: #E2EBFA;\n",
              "      box-shadow: 0px 1px 2px rgba(60, 64, 67, 0.3), 0px 1px 3px 1px rgba(60, 64, 67, 0.15);\n",
              "      fill: #174EA6;\n",
              "    }\n",
              "\n",
              "    [theme=dark] .colab-df-convert {\n",
              "      background-color: #3B4455;\n",
              "      fill: #D2E3FC;\n",
              "    }\n",
              "\n",
              "    [theme=dark] .colab-df-convert:hover {\n",
              "      background-color: #434B5C;\n",
              "      box-shadow: 0px 1px 3px 1px rgba(0, 0, 0, 0.15);\n",
              "      filter: drop-shadow(0px 1px 2px rgba(0, 0, 0, 0.3));\n",
              "      fill: #FFFFFF;\n",
              "    }\n",
              "  </style>\n",
              "\n",
              "      <script>\n",
              "        const buttonEl =\n",
              "          document.querySelector('#df-2a9203da-6d27-4c46-8c22-942fd9acc7b1 button.colab-df-convert');\n",
              "        buttonEl.style.display =\n",
              "          google.colab.kernel.accessAllowed ? 'block' : 'none';\n",
              "\n",
              "        async function convertToInteractive(key) {\n",
              "          const element = document.querySelector('#df-2a9203da-6d27-4c46-8c22-942fd9acc7b1');\n",
              "          const dataTable =\n",
              "            await google.colab.kernel.invokeFunction('convertToInteractive',\n",
              "                                                     [key], {});\n",
              "          if (!dataTable) return;\n",
              "\n",
              "          const docLinkHtml = 'Like what you see? Visit the ' +\n",
              "            '<a target=\"_blank\" href=https://colab.research.google.com/notebooks/data_table.ipynb>data table notebook</a>'\n",
              "            + ' to learn more about interactive tables.';\n",
              "          element.innerHTML = '';\n",
              "          dataTable['output_type'] = 'display_data';\n",
              "          await google.colab.output.renderOutput(dataTable, element);\n",
              "          const docLink = document.createElement('div');\n",
              "          docLink.innerHTML = docLinkHtml;\n",
              "          element.appendChild(docLink);\n",
              "        }\n",
              "      </script>\n",
              "    </div>\n",
              "  </div>\n",
              "  "
            ],
            "text/plain": [
              "   sepal length (cm)  sepal width (cm)  ...  petal width (cm)  target\n",
              "0                5.1               3.5  ...               0.2       0\n",
              "1                4.9               3.0  ...               0.2       0\n",
              "2                4.7               3.2  ...               0.2       0\n",
              "3                4.6               3.1  ...               0.2       0\n",
              "4                5.0               3.6  ...               0.2       0\n",
              "\n",
              "[5 rows x 5 columns]"
            ]
          },
          "metadata": {},
          "execution_count": 16
        }
      ],
      "source": [
        "# 코드를 입력해 주세요\n",
        "df = pd.DataFrame(iris['data'], columns=iris['feature_names'])\n",
        "df['target']=iris['target']\n",
        "\n",
        "df.head()"
      ]
    },
    {
      "cell_type": "markdown",
      "metadata": {
        "id": "tiv6yUJ_vdbP"
      },
      "source": [
        "<p><strong>[출력 결과]</strong></p><div>\n",
        "<style scoped>\n",
        "    .dataframe tbody tr th:only-of-type {\n",
        "        vertical-align: middle;\n",
        "    }\n",
        "\n",
        "    .dataframe tbody tr th {\n",
        "        vertical-align: top;\n",
        "    }\n",
        "\n",
        "    .dataframe thead th {\n",
        "        text-align: right;\n",
        "    }\n",
        "</style>\n",
        "<table border=\"1\" class=\"dataframe\">\n",
        "  <thead>\n",
        "    <tr style=\"text-align: right;\">\n",
        "      <th></th>\n",
        "      <th>sepal length (cm)</th>\n",
        "      <th>sepal width (cm)</th>\n",
        "      <th>petal length (cm)</th>\n",
        "      <th>petal width (cm)</th>\n",
        "      <th>target</th>\n",
        "    </tr>\n",
        "  </thead>\n",
        "  <tbody>\n",
        "    <tr>\n",
        "      <th>0</th>\n",
        "      <td>5.1</td>\n",
        "      <td>3.5</td>\n",
        "      <td>1.4</td>\n",
        "      <td>0.2</td>\n",
        "      <td>0</td>\n",
        "    </tr>\n",
        "    <tr>\n",
        "      <th>1</th>\n",
        "      <td>4.9</td>\n",
        "      <td>3.0</td>\n",
        "      <td>1.4</td>\n",
        "      <td>0.2</td>\n",
        "      <td>0</td>\n",
        "    </tr>\n",
        "    <tr>\n",
        "      <th>2</th>\n",
        "      <td>4.7</td>\n",
        "      <td>3.2</td>\n",
        "      <td>1.3</td>\n",
        "      <td>0.2</td>\n",
        "      <td>0</td>\n",
        "    </tr>\n",
        "    <tr>\n",
        "      <th>3</th>\n",
        "      <td>4.6</td>\n",
        "      <td>3.1</td>\n",
        "      <td>1.5</td>\n",
        "      <td>0.2</td>\n",
        "      <td>0</td>\n",
        "    </tr>\n",
        "    <tr>\n",
        "      <th>4</th>\n",
        "      <td>5.0</td>\n",
        "      <td>3.6</td>\n",
        "      <td>1.4</td>\n",
        "      <td>0.2</td>\n",
        "      <td>0</td>\n",
        "    </tr>\n",
        "  </tbody>\n",
        "</table>\n",
        "</div>"
      ]
    },
    {
      "cell_type": "markdown",
      "metadata": {
        "id": "A9mj1JNik0ex"
      },
      "source": [
        "## 데이터 셋 분할"
      ]
    },
    {
      "cell_type": "markdown",
      "metadata": {
        "id": "bArriDBQk0ex"
      },
      "source": [
        "학습용(train) 데이터셋과 검증 (혹은 테스트)용 데이터 셋을 분할 합니다."
      ]
    },
    {
      "cell_type": "code",
      "source": [
        "x_digit = df.iloc[:, :4]\n",
        "y_digit = df['target']"
      ],
      "metadata": {
        "id": "D9qBkyrZ3AiM"
      },
      "execution_count": 32,
      "outputs": []
    },
    {
      "cell_type": "code",
      "execution_count": 33,
      "metadata": {
        "id": "AidK226gvdbR"
      },
      "outputs": [],
      "source": [
        "SEED = 123"
      ]
    },
    {
      "cell_type": "markdown",
      "metadata": {
        "id": "Sn6y0iUVvdbR"
      },
      "source": [
        "- test_size=0.2\n",
        "- random_state=SEED(123) 로 설정합니다.\n",
        "- stratify 옵션을 지정합니다."
      ]
    },
    {
      "cell_type": "code",
      "execution_count": 34,
      "metadata": {
        "id": "WnIjXWWjdQAB"
      },
      "outputs": [],
      "source": [
        "# 코드를 입력해 주세요\n",
        "x_train, x_test, y_train, y_test = train_test_split(x_digit, y_digit, \n",
        "                                                    stratify=y_digit, \n",
        "                                                    random_state=SEED, \n",
        "                                                    test_size=0.2)"
      ]
    },
    {
      "cell_type": "markdown",
      "metadata": {
        "id": "T6AmJybik0ez"
      },
      "source": [
        "잘 로드가 되었는지 **shape를 확인**하도록 합니다.\n",
        "\n",
        "`x_train`, `y_train` shape 출력"
      ]
    },
    {
      "cell_type": "code",
      "execution_count": 36,
      "metadata": {
        "id": "9_L7oiG4dcWR",
        "colab": {
          "base_uri": "https://localhost:8080/"
        },
        "outputId": "4ea34841-76d0-4506-c90e-3b6b805c2b88"
      },
      "outputs": [
        {
          "output_type": "execute_result",
          "data": {
            "text/plain": [
              "((120, 4), (120,))"
            ]
          },
          "metadata": {},
          "execution_count": 36
        }
      ],
      "source": [
        "# 코드를 입력해 주세요\n",
        "x_train.shape, y_train.shape"
      ]
    },
    {
      "cell_type": "markdown",
      "metadata": {
        "id": "qZlNLWDzvdbU"
      },
      "source": [
        "<p><strong>[출력 결과]</strong></p><pre>((120, 4), (120,))</pre>"
      ]
    },
    {
      "cell_type": "markdown",
      "metadata": {
        "id": "FW2KZooYvdbU"
      },
      "source": [
        "`x_test`, `y_test` shape 확인"
      ]
    },
    {
      "cell_type": "code",
      "execution_count": 37,
      "metadata": {
        "id": "Gwm62b__k0e1",
        "colab": {
          "base_uri": "https://localhost:8080/"
        },
        "outputId": "03a46447-18f8-43d9-c88b-39863ea939bd"
      },
      "outputs": [
        {
          "output_type": "execute_result",
          "data": {
            "text/plain": [
              "((30, 4), (30,))"
            ]
          },
          "metadata": {},
          "execution_count": 37
        }
      ],
      "source": [
        "# 코드를 입력해 주세요\n",
        "x_test.shape, y_test.shape"
      ]
    },
    {
      "cell_type": "markdown",
      "metadata": {
        "id": "e8FM-8zAvdbV"
      },
      "source": [
        "<p><strong>[출력 결과]</strong></p><pre>((30, 4), (30,))</pre>"
      ]
    },
    {
      "cell_type": "markdown",
      "metadata": {
        "id": "b4-Lf8Jfdet6"
      },
      "source": [
        "### 모델 정의"
      ]
    },
    {
      "cell_type": "code",
      "execution_count": 38,
      "metadata": {
        "id": "apXts12pdioy"
      },
      "outputs": [],
      "source": [
        "# 코드를 입력해 주세요\n",
        "knn = KNeighborsClassifier(n_neighbors=5)"
      ]
    },
    {
      "cell_type": "markdown",
      "metadata": {
        "id": "bKZ7mEj5dkEQ"
      },
      "source": [
        "### 학습 (fit)"
      ]
    },
    {
      "cell_type": "code",
      "execution_count": 39,
      "metadata": {
        "id": "K-ZeTnoKdl0C",
        "colab": {
          "base_uri": "https://localhost:8080/"
        },
        "outputId": "08f8e603-ffe7-4dfb-f632-790ce40a619b"
      },
      "outputs": [
        {
          "output_type": "execute_result",
          "data": {
            "text/plain": [
              "KNeighborsClassifier()"
            ]
          },
          "metadata": {},
          "execution_count": 39
        }
      ],
      "source": [
        "# 코드를 입력해 주세요\n",
        "knn.fit(x_train, y_train)"
      ]
    },
    {
      "cell_type": "markdown",
      "metadata": {
        "id": "9L1zpQKIvdbW"
      },
      "source": [
        "<p><strong>[출력 결과]</strong></p><pre>KNeighborsClassifier()</pre>"
      ]
    },
    {
      "cell_type": "markdown",
      "metadata": {
        "id": "as_5-1srdnoS"
      },
      "source": [
        "### 예측(predict)"
      ]
    },
    {
      "cell_type": "markdown",
      "metadata": {
        "id": "zKwHNCiyvdbX"
      },
      "source": [
        "예측한 결과를 `prediction` 변수에 대입합니다."
      ]
    },
    {
      "cell_type": "code",
      "execution_count": 40,
      "metadata": {
        "id": "N6aTbxz1d9PF"
      },
      "outputs": [],
      "source": [
        "# 코드를 입력해 주세요\n",
        "prediction = knn.predict(x_test)"
      ]
    },
    {
      "cell_type": "markdown",
      "metadata": {
        "id": "GCwpuwoqvdbY"
      },
      "source": [
        "### 검증 (evaluation)"
      ]
    },
    {
      "cell_type": "markdown",
      "metadata": {
        "id": "YY0zwfIEvdbY"
      },
      "source": [
        "예측한 결과에 대한 **정확도**를 출력합니다."
      ]
    },
    {
      "cell_type": "code",
      "execution_count": 41,
      "metadata": {
        "id": "JsfE_sRneARB",
        "colab": {
          "base_uri": "https://localhost:8080/"
        },
        "outputId": "e2e68091-05b4-4915-d575-68397eb58cd8"
      },
      "outputs": [
        {
          "output_type": "execute_result",
          "data": {
            "text/plain": [
              "0.9333333333333333"
            ]
          },
          "metadata": {},
          "execution_count": 41
        }
      ],
      "source": [
        "# 코드를 입력해 주세요\n",
        "(prediction == y_test).mean()"
      ]
    },
    {
      "cell_type": "markdown",
      "metadata": {
        "id": "qfuPoXw_vdbY"
      },
      "source": [
        "<p><strong>[출력 결과]</strong></p><pre>0.9333333333333333</pre>"
      ]
    },
    {
      "cell_type": "markdown",
      "metadata": {
        "id": "1YU-AEERdtDF"
      },
      "source": [
        "### 최적의 k 값 찾기"
      ]
    },
    {
      "cell_type": "markdown",
      "metadata": {
        "id": "YTTlL-BzvdbZ"
      },
      "source": [
        "k=1 ~ 10까지 중 최적의 k 값 찾기"
      ]
    },
    {
      "cell_type": "code",
      "execution_count": 42,
      "metadata": {
        "colab": {
          "base_uri": "https://localhost:8080/"
        },
        "id": "aHKxR-MxdvnA",
        "outputId": "76fe4625-03c4-442f-a2c0-36d8969e1d56"
      },
      "outputs": [
        {
          "output_type": "stream",
          "name": "stdout",
          "text": [
            "k: 1, accuracy: 93.33\n",
            "k: 2, accuracy: 93.33\n",
            "k: 3, accuracy: 93.33\n",
            "k: 4, accuracy: 93.33\n",
            "k: 5, accuracy: 93.33\n",
            "k: 6, accuracy: 90.00\n",
            "k: 7, accuracy: 90.00\n",
            "k: 8, accuracy: 93.33\n",
            "k: 9, accuracy: 93.33\n",
            "k: 10, accuracy: 93.33\n"
          ]
        }
      ],
      "source": [
        "# 코드를 입력해 주세요\n",
        "for k in range(1, 11):\n",
        "    # 1. 알고리즘 선언: k의 계수 설정 (hyper-parameter 설정)\n",
        "    knn = KNeighborsClassifier(n_neighbors=k)\n",
        "    # 2. 학습(fit)\n",
        "    knn.fit(x_train, y_train)\n",
        "    # 3. 예측(predict)\n",
        "    pred = knn.predict(x_test)\n",
        "    # 4. 정확도 계산(accuracy)\n",
        "    acc = (pred == y_test).mean()\n",
        "    print(f'k: {k}, accuracy: {acc*100:.2f}')"
      ]
    },
    {
      "cell_type": "markdown",
      "metadata": {
        "id": "udaKTSh9vdba"
      },
      "source": [
        "<p><strong>[출력 결과]</strong></p><pre>k: 1, accuracy: 93.33\n",
        "k: 2, accuracy: 93.33\n",
        "k: 3, accuracy: 93.33\n",
        "k: 4, accuracy: 93.33\n",
        "k: 5, accuracy: 93.33\n",
        "k: 6, accuracy: 90.00\n",
        "k: 7, accuracy: 90.00\n",
        "k: 8, accuracy: 93.33\n",
        "k: 9, accuracy: 93.33\n",
        "k: 10, accuracy: 93.33\n",
        "</pre>"
      ]
    },
    {
      "cell_type": "code",
      "source": [
        ""
      ],
      "metadata": {
        "id": "Ja6T3GPo39FM"
      },
      "execution_count": null,
      "outputs": []
    }
  ],
  "metadata": {
    "colab": {
      "collapsed_sections": [],
      "name": "05-분류-(Classifications)-(실습)의 사본",
      "provenance": [],
      "include_colab_link": true
    },
    "kernelspec": {
      "display_name": "Python 3 (ipykernel)",
      "language": "python",
      "name": "python3"
    },
    "language_info": {
      "codemirror_mode": {
        "name": "ipython",
        "version": 3
      },
      "file_extension": ".py",
      "mimetype": "text/x-python",
      "name": "python",
      "nbconvert_exporter": "python",
      "pygments_lexer": "ipython3",
      "version": "3.7.10"
    }
  },
  "nbformat": 4,
  "nbformat_minor": 0
}