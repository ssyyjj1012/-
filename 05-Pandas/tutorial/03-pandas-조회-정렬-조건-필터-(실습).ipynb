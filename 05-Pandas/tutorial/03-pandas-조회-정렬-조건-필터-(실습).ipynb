{
  "cells": [
    {
      "cell_type": "markdown",
      "metadata": {
        "id": "TvDB5TmKaTLQ"
      },
      "source": [
        "## 모듈 import"
      ]
    },
    {
      "cell_type": "code",
      "execution_count": null,
      "metadata": {
        "id": "RGhyFtVF0F0m"
      },
      "outputs": [],
      "source": [
        "from IPython.display import Image\n",
        "import numpy as np\n",
        "import pandas as pd\n",
        "import seaborn as sns"
      ]
    },
    {
      "cell_type": "markdown",
      "metadata": {
        "id": "Kz2KgmX6aTLc"
      },
      "source": [
        "## 실습에 활용할 데이터셋"
      ]
    },
    {
      "cell_type": "markdown",
      "metadata": {
        "id": "nB3jhFvgGvz-"
      },
      "source": [
        "### 타이타닉: 탑승객의 사망자와 생존자 데이터 분석"
      ]
    },
    {
      "cell_type": "code",
      "execution_count": null,
      "metadata": {
        "id": "jMy-SPLIGvz-"
      },
      "outputs": [],
      "source": [
        "Image('https://www.gukjenews.com/news/photo/201912/1212183_991659_1921.jpg')"
      ]
    },
    {
      "cell_type": "code",
      "execution_count": null,
      "metadata": {
        "id": "3jtdXieZGvz_"
      },
      "outputs": [],
      "source": [
        "Image('https://1.bp.blogspot.com/-vTBB13E6mtA/WzmniMnyWnI/AAAAAAACzLs/4EL_VcYCGZoO1z2QLLAIqlnO4GlYbZdZACLcBGAs/s1600/1_32.jpg')"
      ]
    },
    {
      "cell_type": "markdown",
      "metadata": {
        "id": "P8hCX5H5aTLh"
      },
      "source": [
        "[큰 이미지로 보기](https://static1.squarespace.com/static/5006453fe4b09ef2252ba068/t/5090b249e4b047ba54dfd258/1351660113175/TItanic-Survival-Infographic.jpg?format=1500w)"
      ]
    },
    {
      "cell_type": "code",
      "execution_count": null,
      "metadata": {
        "id": "V4d-zyoQGv0A"
      },
      "outputs": [],
      "source": [
        "Image('https://static1.squarespace.com/static/5006453fe4b09ef2252ba068/t/5090b249e4b047ba54dfd258/1351660113175/TItanic-Survival-Infographic.jpg')"
      ]
    },
    {
      "cell_type": "markdown",
      "metadata": {
        "id": "eyPz8A8xH99H"
      },
      "source": [
        "건조 당시 세계 최대의 여객선이었지만,**1912년의 최초이자 최후의 항해 때 빙산과 충돌해 침몰한 비운의 여객선**. 아마도 세상에서 가장 유명한 여객선이자 침몰선일 것입니다. \n",
        "\n",
        "침몰한 지 100년이 넘었지만 아직까지 세계에서 가장 유명한 침몰선입니다. \n",
        "\n",
        "사망자 수는 1위는 아니지만, 세계적으로 유명한 영화의 영향도 있고, 당시 최첨단 기술에 대해 기대감이 컸던 사회에 큰 영향을 끼치기도 한데다가, 근대 사회에서 들어서자마자 얼마 안된, 그리고 **유명인사들이 여럿 희생된 대참사**이기 때문에 가장 유명한 침몰선이 되었습니다. 또한 이 사건을 기점으로 여러가지 안전 조약들이 생겨났으니 더더욱 그렇습니다."
      ]
    },
    {
      "cell_type": "code",
      "execution_count": null,
      "metadata": {
        "id": "3tA1j6YHGv0C"
      },
      "outputs": [],
      "source": [
        "df = sns.load_dataset(\"titanic\")\n",
        "df.head()"
      ]
    },
    {
      "cell_type": "markdown",
      "metadata": {
        "id": "q-0PKFgHGv0D"
      },
      "source": [
        "### 컬럼 (column) 설명 "
      ]
    },
    {
      "cell_type": "markdown",
      "metadata": {
        "id": "DQlZN1gyGv0D"
      },
      "source": [
        "- survivied: 생존여부 (1: 생존, 0: 사망)\n",
        "- pclass: 좌석 등급 (1등급, 2등급, 3등급)\n",
        "- sex: 성별\n",
        "- age: 나이\n",
        "- sibsp: 형제 + 배우자 수\n",
        "- parch: 부모 + 자녀 수\n",
        "- fare: 좌석 요금\n",
        "- embarked: 탑승 항구 (S, C, Q)\n",
        "- class: pclass와 동일\n",
        "- who: 성별과 동일\n",
        "- adult_male: 성인 남자 여부\n",
        "- deck: 데크 번호 (알파벳 + 숫자 혼용)\n",
        "- embark_town: 탑승 항구 이름\n",
        "- alive: 생존여부 (yes, no)\n",
        "- alone: 혼자 탑승 여부"
      ]
    },
    {
      "cell_type": "markdown",
      "metadata": {
        "id": "xqjegx-waTLs"
      },
      "source": [
        "### 데이터 분석!\n",
        "\n",
        "**주요 목표**\n",
        "- Pandas를 활용하여 타이타닉호 생존자, 사망자 **데이터를 분석**합니다.\n",
        "- 데이터를 토대로 생존율이 높은 승객, 생존율이 낮은 승객은 누구인지 판단합니다."
      ]
    },
    {
      "cell_type": "markdown",
      "metadata": {
        "id": "XjFgPD49zOE9"
      },
      "source": [
        "## head() 앞 부분 / tail() 뒷 부분 조회\n",
        "\n",
        "- default 옵션 값으로 **5개의 행이 조회**됩니다.\n",
        "- 괄호 안에 숫자를 넣어 명시적으로 조회하고 싶은 행의 갯수를 지정할 수 있습니다."
      ]
    },
    {
      "cell_type": "code",
      "execution_count": null,
      "metadata": {
        "id": "pgAYrjFcGvw1"
      },
      "outputs": [],
      "source": [
        "df.head()"
      ]
    },
    {
      "cell_type": "code",
      "execution_count": null,
      "metadata": {
        "id": "G359MRGKzOFA"
      },
      "outputs": [],
      "source": [
        "df.tail()"
      ]
    },
    {
      "cell_type": "code",
      "execution_count": null,
      "metadata": {
        "id": "-J_54hG9zOFC"
      },
      "outputs": [],
      "source": [
        "df.head(10)"
      ]
    },
    {
      "cell_type": "code",
      "execution_count": null,
      "metadata": {
        "id": "rvozMm4pzOFD"
      },
      "outputs": [],
      "source": [
        "df.tail(10)"
      ]
    },
    {
      "cell_type": "markdown",
      "metadata": {
        "id": "N3tMCgrkaTLw"
      },
      "source": [
        "## info()\n",
        "\n",
        "- 컬럼별 정보(information)를 보여줍니다.\n",
        "- 데이터의 갯수, 그리고 데이터 타입(dtype)을 확인할 때 사용합니다."
      ]
    },
    {
      "cell_type": "code",
      "execution_count": null,
      "metadata": {
        "id": "l75rE_yFaTLx"
      },
      "outputs": [],
      "source": [
        "df.info()"
      ]
    },
    {
      "cell_type": "markdown",
      "metadata": {
        "id": "Irq6Fn71aTLy"
      },
      "source": [
        "**object** 타입은 쉽게 문자열이라고 생각하면 됩니다.\n",
        "\n",
        "그런데, **category** 타입도 있습니다. category 타입은 문자열이지만, '남자' / '여자'처럼 카테고리화 할 수 있는 컬럼을 의미 합니다. 나중에 별도로 다루겠습니다."
      ]
    },
    {
      "cell_type": "markdown",
      "metadata": {
        "id": "cjMdBLLazOFF"
      },
      "source": [
        "## describe()"
      ]
    },
    {
      "cell_type": "markdown",
      "metadata": {
        "id": "dzTox9KMzOFF"
      },
      "source": [
        "- 각 컬럼에 대한 요약 통계 제공\n",
        "- 수치형 컬럼 (numerical column)의 통계를 기본으로 보여 줍니다."
      ]
    },
    {
      "cell_type": "code",
      "execution_count": null,
      "metadata": {
        "id": "jaUMhqkZzOFF"
      },
      "outputs": [],
      "source": [
        "df.describe()"
      ]
    },
    {
      "cell_type": "markdown",
      "metadata": {
        "id": "6a_wdlLJaTL1"
      },
      "source": [
        "categorical column (문자열 컬럼)에 적용해 볼 수 없지 않습니다.\n",
        "\n",
        "아래와 같이 `include='object'`를 통해 categorical column에 대한 요약 통계를 확인할 수 있습니다."
      ]
    },
    {
      "cell_type": "code",
      "execution_count": null,
      "metadata": {
        "id": "xB069I04aTL1"
      },
      "outputs": [],
      "source": [
        "df.describe(include='object')"
      ]
    },
    {
      "cell_type": "markdown",
      "metadata": {
        "id": "6kFiXYhBaTL1"
      },
      "source": [
        "## value_counts()"
      ]
    },
    {
      "cell_type": "markdown",
      "metadata": {
        "id": "IhodL4nkaTL2"
      },
      "source": [
        "column 별 **값의 분포를 확인**할 때 사용합니다."
      ]
    },
    {
      "cell_type": "markdown",
      "metadata": {
        "id": "MZ0HV0TuaTL2"
      },
      "source": [
        "**남자, 여자, 아이의 데이터 분포를 확인**하고 싶다면 다음과 같이 실행합니다."
      ]
    },
    {
      "cell_type": "code",
      "execution_count": null,
      "metadata": {
        "id": "BENETReFaTL2"
      },
      "outputs": [],
      "source": [
        "df['who'].value_counts()"
      ]
    },
    {
      "cell_type": "markdown",
      "metadata": {
        "id": "RHnmUCPCaTL3"
      },
      "source": [
        "### 연습문제\n",
        "\n",
        "`embark_town`은 승객의 탑승 항구를 나타내는 column 입니다. 탑승 항구별 승객 데이터 분포를 확인해 주세요."
      ]
    },
    {
      "cell_type": "code",
      "execution_count": null,
      "metadata": {
        "id": "Edmr1ItsaTL3"
      },
      "outputs": [],
      "source": [
        "# 코드를 입력해 주세요\n"
      ]
    },
    {
      "cell_type": "markdown",
      "metadata": {
        "id": "ZliQmnVbaTL4"
      },
      "source": [
        "<p><strong>[출력 결과]</strong></p><pre>Southampton    644\n",
        "Cherbourg      168\n",
        "Queenstown      77\n",
        "Name: embark_town, dtype: int64</pre>"
      ]
    },
    {
      "cell_type": "markdown",
      "metadata": {
        "id": "ZHABYQaZzOFP"
      },
      "source": [
        "## 속성: Attributes\n",
        "\n",
        "속성 값은 **함수형으로 조회하지 않습니다.**\n",
        "\n",
        "자주 활용하는 DataFrame은 **속성 값**들은 다음과 같습니다.\n",
        "\n",
        "- ndim\n",
        "- shape\n",
        "- index\n",
        "- columns\n",
        "- values\n",
        "- T"
      ]
    },
    {
      "cell_type": "markdown",
      "metadata": {
        "id": "XkKOmlNgaTL4"
      },
      "source": [
        "**차원**을 나타냅니다. DataFrame은 2가 출력됩니다."
      ]
    },
    {
      "cell_type": "code",
      "execution_count": null,
      "metadata": {
        "id": "l15UCrkCaTL5"
      },
      "outputs": [],
      "source": [
        "df.ndim"
      ]
    },
    {
      "cell_type": "markdown",
      "metadata": {
        "id": "4M8xS1b9aTL5"
      },
      "source": [
        "**(행, 열)** 순서로 출력됩니다."
      ]
    },
    {
      "cell_type": "code",
      "execution_count": null,
      "metadata": {
        "id": "w0bazVjBaTL6"
      },
      "outputs": [],
      "source": [
        "df.shape"
      ]
    },
    {
      "cell_type": "markdown",
      "metadata": {
        "id": "mP7RMZAHaTL6"
      },
      "source": [
        "index는 기본 설정된 **RangeIndex가 출력**됩니다."
      ]
    },
    {
      "cell_type": "code",
      "execution_count": null,
      "metadata": {
        "id": "X5WZBpFrzOFP"
      },
      "outputs": [],
      "source": [
        "df.index"
      ]
    },
    {
      "cell_type": "markdown",
      "metadata": {
        "id": "8vgHJneQaTL7"
      },
      "source": [
        "columns는 **열**을 출력 합니다. "
      ]
    },
    {
      "cell_type": "code",
      "execution_count": null,
      "metadata": {
        "id": "olS22PJuzOFR"
      },
      "outputs": [],
      "source": [
        "df.columns"
      ]
    },
    {
      "cell_type": "markdown",
      "metadata": {
        "id": "4wBm8f_6aTL8"
      },
      "source": [
        "values는 모든 값을 출력하며, **numpy array 형식으로 출력**됩니다."
      ]
    },
    {
      "cell_type": "code",
      "execution_count": null,
      "metadata": {
        "id": "FN0dU1cvzOFT"
      },
      "outputs": [],
      "source": [
        "df.values"
      ]
    },
    {
      "cell_type": "markdown",
      "metadata": {
        "id": "TZhXG7pz0F2Y"
      },
      "source": [
        "T: **전치 (Transpose)** 는 Index와 Column의 축을 교환합니다."
      ]
    },
    {
      "cell_type": "code",
      "execution_count": null,
      "metadata": {
        "id": "ZncI7eWEzOFU"
      },
      "outputs": [],
      "source": [
        "df.T"
      ]
    },
    {
      "cell_type": "markdown",
      "metadata": {
        "id": "_YWQwJtOzOFW"
      },
      "source": [
        "## 타입 변환 (astype)"
      ]
    },
    {
      "cell_type": "code",
      "execution_count": null,
      "metadata": {
        "id": "LCO3erWZzOFW"
      },
      "outputs": [],
      "source": [
        "df.info()"
      ]
    },
    {
      "cell_type": "markdown",
      "metadata": {
        "id": "OC5WP_TaaTL-"
      },
      "source": [
        "`int32`로 변경"
      ]
    },
    {
      "cell_type": "code",
      "execution_count": null,
      "metadata": {
        "id": "z1bS6w4HzOFX"
      },
      "outputs": [],
      "source": [
        "df['pclass'].astype('int32').head()"
      ]
    },
    {
      "cell_type": "markdown",
      "metadata": {
        "id": "zSOCF-VaaTL_"
      },
      "source": [
        "`float32`로 변경"
      ]
    },
    {
      "cell_type": "code",
      "execution_count": null,
      "metadata": {
        "id": "-WwFzYANaTL_"
      },
      "outputs": [],
      "source": [
        "df['pclass'].astype('float32').head()"
      ]
    },
    {
      "cell_type": "markdown",
      "metadata": {
        "id": "gvXNU7SFaTL_"
      },
      "source": [
        "`object`로 변경"
      ]
    },
    {
      "cell_type": "code",
      "execution_count": null,
      "metadata": {
        "id": "Rylb1tANaTMA"
      },
      "outputs": [],
      "source": [
        "df['pclass'].astype('str').head()"
      ]
    },
    {
      "cell_type": "markdown",
      "metadata": {
        "id": "TOJMRwv-aTMA"
      },
      "source": [
        "`category`로 변경.\n",
        "\n",
        "`category`로 변경시에는 Categories가 같이 출력 됩니다."
      ]
    },
    {
      "cell_type": "code",
      "execution_count": null,
      "metadata": {
        "id": "n3MxxF73aTMB"
      },
      "outputs": [],
      "source": [
        "df['pclass'].astype('category').head()"
      ]
    },
    {
      "cell_type": "markdown",
      "metadata": {
        "id": "KBeme6roaTMC"
      },
      "source": [
        "## 정렬 (sort)"
      ]
    },
    {
      "cell_type": "markdown",
      "metadata": {
        "id": "_OKcmm0SzOFc"
      },
      "source": [
        "### sort_index: index 정렬\n",
        "\n",
        "- index 기준으로 정렬합니다. (기본 오름차순이 적용되어 있습니다.\n",
        "- 내림차순 정렬을 적용하려면, `ascending=False`를 옵션 값으로 설정합니다."
      ]
    },
    {
      "cell_type": "code",
      "execution_count": null,
      "metadata": {
        "id": "5dlGQCuizOFc"
      },
      "outputs": [],
      "source": [
        "df.sort_index().head(5)"
      ]
    },
    {
      "cell_type": "code",
      "execution_count": null,
      "metadata": {
        "id": "o3vQm-orzOFe"
      },
      "outputs": [],
      "source": [
        "df.sort_index(ascending=False).head(5)"
      ]
    },
    {
      "cell_type": "markdown",
      "metadata": {
        "id": "zFSt8aTIzOFf"
      },
      "source": [
        "### sort_values: 값에 대한 정렬\n",
        "\n",
        "- 값을 기준으로 행을 정렬합니다.\n",
        "- by에 기준이 되는 행을 설정합니다.\n",
        "- by에 2개 이상의 컬럼을 지정하여 정렬할 수 있습니다.\n",
        "- 오름차순/내림차순을 컬럼 별로 지정할 수 있습니다."
      ]
    },
    {
      "cell_type": "code",
      "execution_count": null,
      "metadata": {
        "id": "7Qvy2g7YzOFf"
      },
      "outputs": [],
      "source": [
        "df.sort_values(by='age').head()"
      ]
    },
    {
      "cell_type": "markdown",
      "metadata": {
        "id": "aNVT-GcoaTMH"
      },
      "source": [
        "내림차순 정렬: `ascending=False`"
      ]
    },
    {
      "cell_type": "code",
      "execution_count": null,
      "metadata": {
        "id": "_9IvAa4baTMI"
      },
      "outputs": [],
      "source": [
        "df.sort_values(by='age', ascending=False).head()"
      ]
    },
    {
      "cell_type": "markdown",
      "metadata": {
        "id": "i0S_4xcGaTMI"
      },
      "source": [
        "**문자열 컬럼도 오름차순/내림차순 정렬이 가능**하며 알파벳 순서로 정렬됩니다."
      ]
    },
    {
      "cell_type": "code",
      "execution_count": null,
      "metadata": {
        "id": "CSct1GxaaTMI"
      },
      "outputs": [],
      "source": [
        "df.sort_values(by='class', ascending=False).head()"
      ]
    },
    {
      "cell_type": "markdown",
      "metadata": {
        "id": "UJrMgyjwaTMJ"
      },
      "source": [
        "**2개 이상의 컬럼**을 기준으로 값 정렬 할 수 있습니다."
      ]
    },
    {
      "cell_type": "code",
      "execution_count": null,
      "metadata": {
        "id": "pfkAKVzMzOFg"
      },
      "outputs": [],
      "source": [
        "df.sort_values(by=['fare', 'age']).head()"
      ]
    },
    {
      "cell_type": "markdown",
      "metadata": {
        "id": "xC7j5YZVaTMJ"
      },
      "source": [
        "오름차순/내림차순 정렬도 컬럼 **각각에 지정**해 줄 수 있습니다."
      ]
    },
    {
      "cell_type": "code",
      "execution_count": null,
      "metadata": {
        "id": "_2KQ8pM6zOFi"
      },
      "outputs": [],
      "source": [
        "df.sort_values(by=['fare', 'age'], ascending=[False, True]).head()"
      ]
    },
    {
      "cell_type": "markdown",
      "metadata": {
        "id": "fg9aZ7ZFaTMK"
      },
      "source": [
        "### 연습문제"
      ]
    },
    {
      "cell_type": "markdown",
      "metadata": {
        "id": "pR2oilaqaTML"
      },
      "source": [
        "`tips` 데이터는 미국 레스토랑의 매출과 웨이터에게 지불한 팁을 나타내는 데이터입니다."
      ]
    },
    {
      "cell_type": "code",
      "execution_count": null,
      "metadata": {
        "id": "_uWYRfmraTML"
      },
      "outputs": [],
      "source": [
        "tips = sns.load_dataset('tips')\n",
        "tips.head()"
      ]
    },
    {
      "cell_type": "markdown",
      "metadata": {
        "id": "7JdHU6iGaTML"
      },
      "source": [
        "- `total_bill`과 `tip`에 대한 내림차순 정렬을 해주세요\n",
        "- 상위 10개만 출력하세요"
      ]
    },
    {
      "cell_type": "code",
      "execution_count": null,
      "metadata": {
        "id": "ELUfCCu5aTMM"
      },
      "outputs": [],
      "source": [
        "# 코드를 입력해 주세요\n"
      ]
    },
    {
      "cell_type": "markdown",
      "metadata": {
        "id": "ZXSYhJfuaTMM"
      },
      "source": [
        "<p><strong>[출력 결과]</strong></p><div>\n",
        "<style scoped>\n",
        "    .dataframe tbody tr th:only-of-type {\n",
        "        vertical-align: middle;\n",
        "    }\n",
        "\n",
        "    .dataframe tbody tr th {\n",
        "        vertical-align: top;\n",
        "    }\n",
        "\n",
        "    .dataframe thead th {\n",
        "        text-align: right;\n",
        "    }\n",
        "</style>\n",
        "<table border=\"1\" class=\"dataframe\">\n",
        "  <thead>\n",
        "    <tr style=\"text-align: right;\">\n",
        "      <th></th>\n",
        "      <th>total_bill</th>\n",
        "      <th>tip</th>\n",
        "      <th>sex</th>\n",
        "      <th>smoker</th>\n",
        "      <th>day</th>\n",
        "      <th>time</th>\n",
        "      <th>size</th>\n",
        "    </tr>\n",
        "  </thead>\n",
        "  <tbody>\n",
        "    <tr>\n",
        "      <th>170</th>\n",
        "      <td>50.81</td>\n",
        "      <td>10.00</td>\n",
        "      <td>Male</td>\n",
        "      <td>Yes</td>\n",
        "      <td>Sat</td>\n",
        "      <td>Dinner</td>\n",
        "      <td>3</td>\n",
        "    </tr>\n",
        "    <tr>\n",
        "      <th>212</th>\n",
        "      <td>48.33</td>\n",
        "      <td>9.00</td>\n",
        "      <td>Male</td>\n",
        "      <td>No</td>\n",
        "      <td>Sat</td>\n",
        "      <td>Dinner</td>\n",
        "      <td>4</td>\n",
        "    </tr>\n",
        "    <tr>\n",
        "      <th>59</th>\n",
        "      <td>48.27</td>\n",
        "      <td>6.73</td>\n",
        "      <td>Male</td>\n",
        "      <td>No</td>\n",
        "      <td>Sat</td>\n",
        "      <td>Dinner</td>\n",
        "      <td>4</td>\n",
        "    </tr>\n",
        "    <tr>\n",
        "      <th>156</th>\n",
        "      <td>48.17</td>\n",
        "      <td>5.00</td>\n",
        "      <td>Male</td>\n",
        "      <td>No</td>\n",
        "      <td>Sun</td>\n",
        "      <td>Dinner</td>\n",
        "      <td>6</td>\n",
        "    </tr>\n",
        "    <tr>\n",
        "      <th>182</th>\n",
        "      <td>45.35</td>\n",
        "      <td>3.50</td>\n",
        "      <td>Male</td>\n",
        "      <td>Yes</td>\n",
        "      <td>Sun</td>\n",
        "      <td>Dinner</td>\n",
        "      <td>3</td>\n",
        "    </tr>\n",
        "    <tr>\n",
        "      <th>102</th>\n",
        "      <td>44.30</td>\n",
        "      <td>2.50</td>\n",
        "      <td>Female</td>\n",
        "      <td>Yes</td>\n",
        "      <td>Sat</td>\n",
        "      <td>Dinner</td>\n",
        "      <td>3</td>\n",
        "    </tr>\n",
        "    <tr>\n",
        "      <th>197</th>\n",
        "      <td>43.11</td>\n",
        "      <td>5.00</td>\n",
        "      <td>Female</td>\n",
        "      <td>Yes</td>\n",
        "      <td>Thur</td>\n",
        "      <td>Lunch</td>\n",
        "      <td>4</td>\n",
        "    </tr>\n",
        "    <tr>\n",
        "      <th>142</th>\n",
        "      <td>41.19</td>\n",
        "      <td>5.00</td>\n",
        "      <td>Male</td>\n",
        "      <td>No</td>\n",
        "      <td>Thur</td>\n",
        "      <td>Lunch</td>\n",
        "      <td>5</td>\n",
        "    </tr>\n",
        "    <tr>\n",
        "      <th>184</th>\n",
        "      <td>40.55</td>\n",
        "      <td>3.00</td>\n",
        "      <td>Male</td>\n",
        "      <td>Yes</td>\n",
        "      <td>Sun</td>\n",
        "      <td>Dinner</td>\n",
        "      <td>2</td>\n",
        "    </tr>\n",
        "    <tr>\n",
        "      <th>95</th>\n",
        "      <td>40.17</td>\n",
        "      <td>4.73</td>\n",
        "      <td>Male</td>\n",
        "      <td>Yes</td>\n",
        "      <td>Fri</td>\n",
        "      <td>Dinner</td>\n",
        "      <td>4</td>\n",
        "    </tr>\n",
        "  </tbody>\n",
        "</table>\n",
        "</div>"
      ]
    },
    {
      "cell_type": "markdown",
      "metadata": {
        "id": "C5yThYcUaTMN"
      },
      "source": [
        "- `size`를 기준으로 내림차순, `tip`을 기준으로는 오름차순 정렬을 해주세요\n",
        "- 상위 10개의 데이터만 출력하세요"
      ]
    },
    {
      "cell_type": "code",
      "execution_count": null,
      "metadata": {
        "id": "55Qvu5VxaTMO"
      },
      "outputs": [],
      "source": [
        "# 코드를 입력해 주세요\n"
      ]
    },
    {
      "cell_type": "markdown",
      "metadata": {
        "id": "IUa_-ibCaTMO"
      },
      "source": [
        "<p><strong>[출력 결과]</strong></p><div>\n",
        "<style scoped>\n",
        "    .dataframe tbody tr th:only-of-type {\n",
        "        vertical-align: middle;\n",
        "    }\n",
        "\n",
        "    .dataframe tbody tr th {\n",
        "        vertical-align: top;\n",
        "    }\n",
        "\n",
        "    .dataframe thead th {\n",
        "        text-align: right;\n",
        "    }\n",
        "</style>\n",
        "<table border=\"1\" class=\"dataframe\">\n",
        "  <thead>\n",
        "    <tr style=\"text-align: right;\">\n",
        "      <th></th>\n",
        "      <th>total_bill</th>\n",
        "      <th>tip</th>\n",
        "      <th>sex</th>\n",
        "      <th>smoker</th>\n",
        "      <th>day</th>\n",
        "      <th>time</th>\n",
        "      <th>size</th>\n",
        "    </tr>\n",
        "  </thead>\n",
        "  <tbody>\n",
        "    <tr>\n",
        "      <th>125</th>\n",
        "      <td>29.80</td>\n",
        "      <td>4.20</td>\n",
        "      <td>Female</td>\n",
        "      <td>No</td>\n",
        "      <td>Thur</td>\n",
        "      <td>Lunch</td>\n",
        "      <td>6</td>\n",
        "    </tr>\n",
        "    <tr>\n",
        "      <th>143</th>\n",
        "      <td>27.05</td>\n",
        "      <td>5.00</td>\n",
        "      <td>Female</td>\n",
        "      <td>No</td>\n",
        "      <td>Thur</td>\n",
        "      <td>Lunch</td>\n",
        "      <td>6</td>\n",
        "    </tr>\n",
        "    <tr>\n",
        "      <th>156</th>\n",
        "      <td>48.17</td>\n",
        "      <td>5.00</td>\n",
        "      <td>Male</td>\n",
        "      <td>No</td>\n",
        "      <td>Sun</td>\n",
        "      <td>Dinner</td>\n",
        "      <td>6</td>\n",
        "    </tr>\n",
        "    <tr>\n",
        "      <th>141</th>\n",
        "      <td>34.30</td>\n",
        "      <td>6.70</td>\n",
        "      <td>Male</td>\n",
        "      <td>No</td>\n",
        "      <td>Thur</td>\n",
        "      <td>Lunch</td>\n",
        "      <td>6</td>\n",
        "    </tr>\n",
        "    <tr>\n",
        "      <th>187</th>\n",
        "      <td>30.46</td>\n",
        "      <td>2.00</td>\n",
        "      <td>Male</td>\n",
        "      <td>Yes</td>\n",
        "      <td>Sun</td>\n",
        "      <td>Dinner</td>\n",
        "      <td>5</td>\n",
        "    </tr>\n",
        "    <tr>\n",
        "      <th>216</th>\n",
        "      <td>28.15</td>\n",
        "      <td>3.00</td>\n",
        "      <td>Male</td>\n",
        "      <td>Yes</td>\n",
        "      <td>Sat</td>\n",
        "      <td>Dinner</td>\n",
        "      <td>5</td>\n",
        "    </tr>\n",
        "    <tr>\n",
        "      <th>142</th>\n",
        "      <td>41.19</td>\n",
        "      <td>5.00</td>\n",
        "      <td>Male</td>\n",
        "      <td>No</td>\n",
        "      <td>Thur</td>\n",
        "      <td>Lunch</td>\n",
        "      <td>5</td>\n",
        "    </tr>\n",
        "    <tr>\n",
        "      <th>185</th>\n",
        "      <td>20.69</td>\n",
        "      <td>5.00</td>\n",
        "      <td>Male</td>\n",
        "      <td>No</td>\n",
        "      <td>Sun</td>\n",
        "      <td>Dinner</td>\n",
        "      <td>5</td>\n",
        "    </tr>\n",
        "    <tr>\n",
        "      <th>155</th>\n",
        "      <td>29.85</td>\n",
        "      <td>5.14</td>\n",
        "      <td>Female</td>\n",
        "      <td>No</td>\n",
        "      <td>Sun</td>\n",
        "      <td>Dinner</td>\n",
        "      <td>5</td>\n",
        "    </tr>\n",
        "    <tr>\n",
        "      <th>153</th>\n",
        "      <td>24.55</td>\n",
        "      <td>2.00</td>\n",
        "      <td>Male</td>\n",
        "      <td>No</td>\n",
        "      <td>Sun</td>\n",
        "      <td>Dinner</td>\n",
        "      <td>4</td>\n",
        "    </tr>\n",
        "  </tbody>\n",
        "</table>\n",
        "</div>"
      ]
    },
    {
      "cell_type": "markdown",
      "metadata": {
        "id": "1NxM4bUDaTMP"
      },
      "source": [
        "## Indexing, Slicing, 조건 필터링"
      ]
    },
    {
      "cell_type": "code",
      "execution_count": null,
      "metadata": {
        "id": "cd1wNfU-aTMP"
      },
      "outputs": [],
      "source": [
        "df.head()"
      ]
    },
    {
      "cell_type": "markdown",
      "metadata": {
        "id": "1Y6d2PHTGvw4"
      },
      "source": [
        "### loc - indexing / slicing"
      ]
    },
    {
      "cell_type": "markdown",
      "metadata": {
        "id": "foIDoxH6aTMQ"
      },
      "source": [
        "- indexing과 slicing을 할 수 있습니다.\n",
        "- slicing은 [**시작(포함)**: **끝(포함)**] 규칙에 유의합니다. 둘 다 포함 합니다."
      ]
    },
    {
      "cell_type": "markdown",
      "metadata": {
        "id": "h1mh9-1gaTMR"
      },
      "source": [
        "**indexing 예시**"
      ]
    },
    {
      "cell_type": "code",
      "execution_count": null,
      "metadata": {
        "id": "x_-VmOy0aTMR"
      },
      "outputs": [],
      "source": [
        "df.loc[5, 'class']"
      ]
    },
    {
      "cell_type": "markdown",
      "metadata": {
        "id": "8pMcCi9laTMR"
      },
      "source": [
        "**fancy indexing 예시**"
      ]
    },
    {
      "cell_type": "code",
      "execution_count": null,
      "metadata": {
        "id": "KWVyHGb5aTMS"
      },
      "outputs": [],
      "source": [
        "df.loc[2:5, ['age', 'fare', 'who']]"
      ]
    },
    {
      "cell_type": "markdown",
      "metadata": {
        "id": "4PAJkTNoaTMS"
      },
      "source": [
        "**slicing 예시**"
      ]
    },
    {
      "cell_type": "code",
      "execution_count": null,
      "metadata": {
        "id": "S6pFyxFcaTMS"
      },
      "outputs": [],
      "source": [
        "df.loc[2:5, 'class':'deck'].head()"
      ]
    },
    {
      "cell_type": "code",
      "execution_count": null,
      "metadata": {
        "id": "YT4jEop0Gvw6"
      },
      "outputs": [],
      "source": [
        "df.loc[:6, 'class':'deck']"
      ]
    },
    {
      "cell_type": "markdown",
      "metadata": {
        "id": "ERbVCqTPGvw9"
      },
      "source": [
        "### loc - 조건 필터\n",
        "\n",
        "boolean index을 만들어 조건에 맞는 데이터만 추출해 낼 수 있습니다."
      ]
    },
    {
      "cell_type": "code",
      "execution_count": null,
      "metadata": {
        "id": "49DhbtRDGvw-"
      },
      "outputs": [],
      "source": [
        "condition = df['who'] == 'man'\n",
        "condition"
      ]
    },
    {
      "cell_type": "markdown",
      "metadata": {
        "id": "CuIFfa8baTMU"
      },
      "source": [
        "다음 **2가지의 케이스**로 조건에 맞는 데이터만 추출 할 수 있습니다.\n",
        "\n",
        "결과는 같습니다."
      ]
    },
    {
      "cell_type": "markdown",
      "metadata": {
        "id": "_d-2bhQRaTMU"
      },
      "source": [
        "#### 케이스 1: df[condition]"
      ]
    },
    {
      "cell_type": "code",
      "execution_count": null,
      "metadata": {
        "id": "0xspLKD0aTMV"
      },
      "outputs": [],
      "source": [
        "df[condition].head()"
      ]
    },
    {
      "cell_type": "markdown",
      "metadata": {
        "id": "Z-fVH8ONaTMX"
      },
      "source": [
        "#### 케이스 2: df.loc[condition]"
      ]
    },
    {
      "cell_type": "code",
      "execution_count": null,
      "metadata": {
        "id": "obs7h2RHzOFq"
      },
      "outputs": [],
      "source": [
        "df.loc[condition].head()"
      ]
    },
    {
      "cell_type": "markdown",
      "metadata": {
        "id": "8LaDv9_3zOFt"
      },
      "source": [
        "다만, **loc를 사용하는 것을 추천**합니다. (값 대입시 issue 발생)"
      ]
    },
    {
      "cell_type": "code",
      "execution_count": null,
      "metadata": {
        "id": "UyJR2B1ZzOFt"
      },
      "outputs": [],
      "source": [
        "df[condition]['age']"
      ]
    },
    {
      "cell_type": "code",
      "execution_count": null,
      "metadata": {
        "id": "y6rbjcx_zOFu"
      },
      "outputs": [],
      "source": [
        "df[condition]['age'] = 2"
      ]
    },
    {
      "cell_type": "markdown",
      "metadata": {
        "id": "nKgd9oxfzOFv"
      },
      "source": [
        "다음과 같은 **경고 창**이 뜹니다."
      ]
    },
    {
      "cell_type": "markdown",
      "metadata": {
        "id": "haEVj1LCzOFw"
      },
      "source": [
        "/home/ubuntu/anaconda3/envs/tensorflow2_p36/lib/python3.6/site-packages/ipykernel_launcher.py:1: SettingWithCopyWarning: <br>\n",
        "A value is trying to be set on a copy of a slice from a DataFrame.<br>\n",
        "**Try using .loc[row_indexer,col_indexer] = value instead**<br>\n",
        "<br>\n",
        "See the caveats in the documentation: http://pandas.pydata.org/pandas-docs/stable/indexing.html#indexing-view-versus-copy<br>\n",
        "  \"\"\"Entry point for launching an IPython kernel.<br>"
      ]
    },
    {
      "cell_type": "markdown",
      "metadata": {
        "id": "9Du323mhaTMb"
      },
      "source": [
        "값을 대입하여 변경했음에도 불구하고 **값이 변경 되지 않습니다.**"
      ]
    },
    {
      "cell_type": "code",
      "execution_count": null,
      "metadata": {
        "id": "KEBtff_xaTMb"
      },
      "outputs": [],
      "source": [
        "df[condition]['age']"
      ]
    },
    {
      "cell_type": "markdown",
      "metadata": {
        "id": "Qm9vQ9wiaTMc"
      },
      "source": [
        "`loc`를 사용하면 이러한 문제가 발생하지 않아 **실수를 줄일** 수 있습니다."
      ]
    },
    {
      "cell_type": "code",
      "execution_count": null,
      "metadata": {
        "id": "hjZ5W5Q0zOFw"
      },
      "outputs": [],
      "source": [
        "df.loc[condition, 'age'] = 10"
      ]
    },
    {
      "cell_type": "code",
      "execution_count": null,
      "metadata": {
        "id": "5HDCRPpyzOFy"
      },
      "outputs": [],
      "source": [
        "df[condition].head()"
      ]
    },
    {
      "cell_type": "markdown",
      "metadata": {
        "id": "PRNxX42MaTMd"
      },
      "source": [
        "### loc - 다중 조건"
      ]
    },
    {
      "cell_type": "markdown",
      "metadata": {
        "id": "Iqm6I1JizOF0"
      },
      "source": [
        "다중 조건은 먼저 condition을 정의하고 **&** 와 **|** 연산자로 **복합 조건을 생성**합니다."
      ]
    },
    {
      "cell_type": "code",
      "execution_count": null,
      "metadata": {
        "id": "bQcYr9nfaTMd"
      },
      "outputs": [],
      "source": [
        "# 조건1 정의\n",
        "condition1 = (df['fare'] > 30)\n",
        "\n",
        "# 조건2 정의\n",
        "condition2 = (df['who'] == 'woman')"
      ]
    },
    {
      "cell_type": "code",
      "execution_count": null,
      "metadata": {
        "id": "dAXaucNrzOF1"
      },
      "outputs": [],
      "source": [
        "df.loc[condition1 & condition2]"
      ]
    },
    {
      "cell_type": "code",
      "execution_count": null,
      "metadata": {
        "id": "ysqP9iCWaTMe"
      },
      "outputs": [],
      "source": [
        "df.loc[condition1 | condition2]"
      ]
    },
    {
      "cell_type": "markdown",
      "metadata": {
        "id": "z8m7WCb8aTMf"
      },
      "source": [
        "### 연습문제"
      ]
    },
    {
      "cell_type": "markdown",
      "metadata": {
        "id": "1LLWUhxuaTMf"
      },
      "source": [
        "데이터를 다시 로드 합니다."
      ]
    },
    {
      "cell_type": "code",
      "execution_count": null,
      "metadata": {
        "id": "VqG7PE1zaTMf"
      },
      "outputs": [],
      "source": [
        "df = sns.load_dataset(\"titanic\")\n",
        "df.head()"
      ]
    },
    {
      "cell_type": "markdown",
      "metadata": {
        "id": "NWqYzFTOzOF8"
      },
      "source": [
        "다음 조건을 만족하는 코드를 입력하세요.\n",
        "\n",
        "- 나이가 30살 이상 남자 승객 조건 필터링\n",
        "- `fare`를 많이 낸 순서로 내림차순 정렬\n",
        "- 상위 10개를 출력"
      ]
    },
    {
      "cell_type": "code",
      "execution_count": null,
      "metadata": {
        "id": "tnL9d1uaaTMg"
      },
      "outputs": [],
      "source": [
        "# 코드를 입력해 주세요\n"
      ]
    },
    {
      "cell_type": "markdown",
      "metadata": {
        "id": "Enuh51GVaTMg"
      },
      "source": [
        "<p><strong>[출력 결과]</strong></p><div>\n",
        "<style scoped>\n",
        "    .dataframe tbody tr th:only-of-type {\n",
        "        vertical-align: middle;\n",
        "    }\n",
        "\n",
        "    .dataframe tbody tr th {\n",
        "        vertical-align: top;\n",
        "    }\n",
        "\n",
        "    .dataframe thead th {\n",
        "        text-align: right;\n",
        "    }\n",
        "</style>\n",
        "<table border=\"1\" class=\"dataframe\">\n",
        "  <thead>\n",
        "    <tr style=\"text-align: right;\">\n",
        "      <th></th>\n",
        "      <th>survived</th>\n",
        "      <th>pclass</th>\n",
        "      <th>sex</th>\n",
        "      <th>age</th>\n",
        "      <th>sibsp</th>\n",
        "      <th>parch</th>\n",
        "      <th>fare</th>\n",
        "      <th>embarked</th>\n",
        "      <th>class</th>\n",
        "      <th>who</th>\n",
        "      <th>adult_male</th>\n",
        "      <th>deck</th>\n",
        "      <th>embark_town</th>\n",
        "      <th>alive</th>\n",
        "      <th>alone</th>\n",
        "    </tr>\n",
        "  </thead>\n",
        "  <tbody>\n",
        "    <tr>\n",
        "      <th>679</th>\n",
        "      <td>1</td>\n",
        "      <td>1</td>\n",
        "      <td>male</td>\n",
        "      <td>36.0</td>\n",
        "      <td>0</td>\n",
        "      <td>1</td>\n",
        "      <td>512.3292</td>\n",
        "      <td>C</td>\n",
        "      <td>First</td>\n",
        "      <td>man</td>\n",
        "      <td>True</td>\n",
        "      <td>B</td>\n",
        "      <td>Cherbourg</td>\n",
        "      <td>yes</td>\n",
        "      <td>False</td>\n",
        "    </tr>\n",
        "    <tr>\n",
        "      <th>737</th>\n",
        "      <td>1</td>\n",
        "      <td>1</td>\n",
        "      <td>male</td>\n",
        "      <td>35.0</td>\n",
        "      <td>0</td>\n",
        "      <td>0</td>\n",
        "      <td>512.3292</td>\n",
        "      <td>C</td>\n",
        "      <td>First</td>\n",
        "      <td>man</td>\n",
        "      <td>True</td>\n",
        "      <td>B</td>\n",
        "      <td>Cherbourg</td>\n",
        "      <td>yes</td>\n",
        "      <td>True</td>\n",
        "    </tr>\n",
        "    <tr>\n",
        "      <th>438</th>\n",
        "      <td>0</td>\n",
        "      <td>1</td>\n",
        "      <td>male</td>\n",
        "      <td>64.0</td>\n",
        "      <td>1</td>\n",
        "      <td>4</td>\n",
        "      <td>263.0000</td>\n",
        "      <td>S</td>\n",
        "      <td>First</td>\n",
        "      <td>man</td>\n",
        "      <td>True</td>\n",
        "      <td>C</td>\n",
        "      <td>Southampton</td>\n",
        "      <td>no</td>\n",
        "      <td>False</td>\n",
        "    </tr>\n",
        "    <tr>\n",
        "      <th>332</th>\n",
        "      <td>0</td>\n",
        "      <td>1</td>\n",
        "      <td>male</td>\n",
        "      <td>38.0</td>\n",
        "      <td>0</td>\n",
        "      <td>1</td>\n",
        "      <td>153.4625</td>\n",
        "      <td>S</td>\n",
        "      <td>First</td>\n",
        "      <td>man</td>\n",
        "      <td>True</td>\n",
        "      <td>C</td>\n",
        "      <td>Southampton</td>\n",
        "      <td>no</td>\n",
        "      <td>False</td>\n",
        "    </tr>\n",
        "    <tr>\n",
        "      <th>660</th>\n",
        "      <td>1</td>\n",
        "      <td>1</td>\n",
        "      <td>male</td>\n",
        "      <td>50.0</td>\n",
        "      <td>2</td>\n",
        "      <td>0</td>\n",
        "      <td>133.6500</td>\n",
        "      <td>S</td>\n",
        "      <td>First</td>\n",
        "      <td>man</td>\n",
        "      <td>True</td>\n",
        "      <td>NaN</td>\n",
        "      <td>Southampton</td>\n",
        "      <td>yes</td>\n",
        "      <td>False</td>\n",
        "    </tr>\n",
        "    <tr>\n",
        "      <th>390</th>\n",
        "      <td>1</td>\n",
        "      <td>1</td>\n",
        "      <td>male</td>\n",
        "      <td>36.0</td>\n",
        "      <td>1</td>\n",
        "      <td>2</td>\n",
        "      <td>120.0000</td>\n",
        "      <td>S</td>\n",
        "      <td>First</td>\n",
        "      <td>man</td>\n",
        "      <td>True</td>\n",
        "      <td>B</td>\n",
        "      <td>Southampton</td>\n",
        "      <td>yes</td>\n",
        "      <td>False</td>\n",
        "    </tr>\n",
        "    <tr>\n",
        "      <th>659</th>\n",
        "      <td>0</td>\n",
        "      <td>1</td>\n",
        "      <td>male</td>\n",
        "      <td>58.0</td>\n",
        "      <td>0</td>\n",
        "      <td>2</td>\n",
        "      <td>113.2750</td>\n",
        "      <td>C</td>\n",
        "      <td>First</td>\n",
        "      <td>man</td>\n",
        "      <td>True</td>\n",
        "      <td>D</td>\n",
        "      <td>Cherbourg</td>\n",
        "      <td>no</td>\n",
        "      <td>False</td>\n",
        "    </tr>\n",
        "    <tr>\n",
        "      <th>698</th>\n",
        "      <td>0</td>\n",
        "      <td>1</td>\n",
        "      <td>male</td>\n",
        "      <td>49.0</td>\n",
        "      <td>1</td>\n",
        "      <td>1</td>\n",
        "      <td>110.8833</td>\n",
        "      <td>C</td>\n",
        "      <td>First</td>\n",
        "      <td>man</td>\n",
        "      <td>True</td>\n",
        "      <td>C</td>\n",
        "      <td>Cherbourg</td>\n",
        "      <td>no</td>\n",
        "      <td>False</td>\n",
        "    </tr>\n",
        "    <tr>\n",
        "      <th>544</th>\n",
        "      <td>0</td>\n",
        "      <td>1</td>\n",
        "      <td>male</td>\n",
        "      <td>50.0</td>\n",
        "      <td>1</td>\n",
        "      <td>0</td>\n",
        "      <td>106.4250</td>\n",
        "      <td>C</td>\n",
        "      <td>First</td>\n",
        "      <td>man</td>\n",
        "      <td>True</td>\n",
        "      <td>C</td>\n",
        "      <td>Cherbourg</td>\n",
        "      <td>no</td>\n",
        "      <td>False</td>\n",
        "    </tr>\n",
        "    <tr>\n",
        "      <th>224</th>\n",
        "      <td>1</td>\n",
        "      <td>1</td>\n",
        "      <td>male</td>\n",
        "      <td>38.0</td>\n",
        "      <td>1</td>\n",
        "      <td>0</td>\n",
        "      <td>90.0000</td>\n",
        "      <td>S</td>\n",
        "      <td>First</td>\n",
        "      <td>man</td>\n",
        "      <td>True</td>\n",
        "      <td>C</td>\n",
        "      <td>Southampton</td>\n",
        "      <td>yes</td>\n",
        "      <td>False</td>\n",
        "    </tr>\n",
        "  </tbody>\n",
        "</table>\n",
        "</div>"
      ]
    },
    {
      "cell_type": "markdown",
      "metadata": {
        "id": "giDswCmPzOF_"
      },
      "source": [
        "다음 조건을 만족하는 코드를 입력하세요.\n",
        "\n",
        "- 나이가 20살 이상 40살 미만인 승객\n",
        "- `pclass`가 1등급 혹은 2등급인 승객\n",
        "- 열(column)은 `survived`, `pclass`, `age`, `fare` 만 나오게 출력\n",
        "- 10개만 출력"
      ]
    },
    {
      "cell_type": "code",
      "execution_count": null,
      "metadata": {
        "id": "J4ksDo04aTMh"
      },
      "outputs": [],
      "source": [
        "# 코드를 입력해 주세요\n"
      ]
    },
    {
      "cell_type": "markdown",
      "metadata": {
        "id": "AgI00cQaaTMi"
      },
      "source": [
        "<p><strong>[출력 결과]</strong></p><div>\n",
        "<style scoped>\n",
        "    .dataframe tbody tr th:only-of-type {\n",
        "        vertical-align: middle;\n",
        "    }\n",
        "\n",
        "    .dataframe tbody tr th {\n",
        "        vertical-align: top;\n",
        "    }\n",
        "\n",
        "    .dataframe thead th {\n",
        "        text-align: right;\n",
        "    }\n",
        "</style>\n",
        "<table border=\"1\" class=\"dataframe\">\n",
        "  <thead>\n",
        "    <tr style=\"text-align: right;\">\n",
        "      <th></th>\n",
        "      <th>survived</th>\n",
        "      <th>pclass</th>\n",
        "      <th>age</th>\n",
        "      <th>fare</th>\n",
        "    </tr>\n",
        "  </thead>\n",
        "  <tbody>\n",
        "    <tr>\n",
        "      <th>1</th>\n",
        "      <td>1</td>\n",
        "      <td>1</td>\n",
        "      <td>38.0</td>\n",
        "      <td>71.2833</td>\n",
        "    </tr>\n",
        "    <tr>\n",
        "      <th>3</th>\n",
        "      <td>1</td>\n",
        "      <td>1</td>\n",
        "      <td>35.0</td>\n",
        "      <td>53.1000</td>\n",
        "    </tr>\n",
        "    <tr>\n",
        "      <th>20</th>\n",
        "      <td>0</td>\n",
        "      <td>2</td>\n",
        "      <td>35.0</td>\n",
        "      <td>26.0000</td>\n",
        "    </tr>\n",
        "    <tr>\n",
        "      <th>21</th>\n",
        "      <td>1</td>\n",
        "      <td>2</td>\n",
        "      <td>34.0</td>\n",
        "      <td>13.0000</td>\n",
        "    </tr>\n",
        "    <tr>\n",
        "      <th>23</th>\n",
        "      <td>1</td>\n",
        "      <td>1</td>\n",
        "      <td>28.0</td>\n",
        "      <td>35.5000</td>\n",
        "    </tr>\n",
        "    <tr>\n",
        "      <th>34</th>\n",
        "      <td>0</td>\n",
        "      <td>1</td>\n",
        "      <td>28.0</td>\n",
        "      <td>82.1708</td>\n",
        "    </tr>\n",
        "    <tr>\n",
        "      <th>41</th>\n",
        "      <td>0</td>\n",
        "      <td>2</td>\n",
        "      <td>27.0</td>\n",
        "      <td>21.0000</td>\n",
        "    </tr>\n",
        "    <tr>\n",
        "      <th>53</th>\n",
        "      <td>1</td>\n",
        "      <td>2</td>\n",
        "      <td>29.0</td>\n",
        "      <td>26.0000</td>\n",
        "    </tr>\n",
        "    <tr>\n",
        "      <th>56</th>\n",
        "      <td>1</td>\n",
        "      <td>2</td>\n",
        "      <td>21.0</td>\n",
        "      <td>10.5000</td>\n",
        "    </tr>\n",
        "    <tr>\n",
        "      <th>61</th>\n",
        "      <td>1</td>\n",
        "      <td>1</td>\n",
        "      <td>38.0</td>\n",
        "      <td>80.0000</td>\n",
        "    </tr>\n",
        "  </tbody>\n",
        "</table>\n",
        "</div>"
      ]
    },
    {
      "cell_type": "markdown",
      "metadata": {
        "id": "rQgjkrCdaTMi"
      },
      "source": [
        "다음 조건을 만족하는 코드를 입력하세요\n",
        "\n",
        "- `pclass`가 1, 2등급인 승객 중 나이 값이 없는(NaN) 데이터는 나이의 평균 값으로 채워주세요"
      ]
    },
    {
      "cell_type": "code",
      "execution_count": null,
      "metadata": {
        "id": "fcQHnS8WaTMj"
      },
      "outputs": [],
      "source": [
        "# 코드를 입력해 주세요\n"
      ]
    },
    {
      "cell_type": "code",
      "execution_count": null,
      "metadata": {
        "id": "Kiiyh1QraTMj",
        "outputId": "e3193494-475a-46d0-d7d9-ee30100f6939"
      },
      "outputs": [
        {
          "name": "stdout",
          "output_type": "stream",
          "text": []
        }
      ],
      "source": [
        "# 검증코드\n",
        "print(df['age'].isnull().sum())\n",
        "print(df['age'].mean())"
      ]
    },
    {
      "cell_type": "markdown",
      "metadata": {
        "id": "OLHYzNVNaTMl"
      },
      "source": [
        "<p><strong>[출력 결과]</strong></p><pre>136\n",
        "29.69911764705882\n",
        "</pre>"
      ]
    },
    {
      "cell_type": "markdown",
      "metadata": {
        "id": "N0nevPVOGvxJ"
      },
      "source": [
        "## iloc\n",
        "\n",
        "- `loc`와 유사하지만, index만 허용합니다.\n",
        "- loc와 마찬가지고, indexing / slicing 모두 가능합니다."
      ]
    },
    {
      "cell_type": "code",
      "execution_count": null,
      "metadata": {
        "id": "9ofCe19ZaTMn"
      },
      "outputs": [],
      "source": [
        "df.head()"
      ]
    },
    {
      "cell_type": "markdown",
      "metadata": {
        "id": "zuZOoiW2aTMn"
      },
      "source": [
        "### indexing"
      ]
    },
    {
      "cell_type": "code",
      "execution_count": null,
      "metadata": {
        "id": "tLfVUZ5bGvxJ"
      },
      "outputs": [],
      "source": [
        "df.iloc[1, 3]"
      ]
    },
    {
      "cell_type": "markdown",
      "metadata": {
        "id": "UPAOcBq3aTMo"
      },
      "source": [
        "### Fancy Indexing"
      ]
    },
    {
      "cell_type": "code",
      "execution_count": null,
      "metadata": {
        "id": "fC8Qq1JyaTMp"
      },
      "outputs": [],
      "source": [
        "df.iloc[[0, 3, 4], [0, 1, 5, 6]]"
      ]
    },
    {
      "cell_type": "markdown",
      "metadata": {
        "id": "zwcZ2l8BaTMp"
      },
      "source": [
        "### Slicing"
      ]
    },
    {
      "cell_type": "code",
      "execution_count": null,
      "metadata": {
        "id": "s86WXYm3GvxL"
      },
      "outputs": [],
      "source": [
        "df.iloc[:3, :5]"
      ]
    },
    {
      "cell_type": "markdown",
      "metadata": {
        "id": "fjjns8qAGvxP"
      },
      "source": [
        "## at"
      ]
    },
    {
      "cell_type": "markdown",
      "metadata": {
        "id": "rJLk_yIKGvxP"
      },
      "source": [
        "하나의 인덱스만 가져옵니다. `loc`보다 속도가 빠르다는 장점은 있지만, 실질적인 효용성은 떨어집니다. 그냥 `loc`를 사용해도 똑같은 결과를 얻을 수 있습니다."
      ]
    },
    {
      "cell_type": "code",
      "execution_count": null,
      "metadata": {
        "id": "SPeamqyVaTMq"
      },
      "outputs": [],
      "source": [
        "%timeit df.loc[0, 'fare']"
      ]
    },
    {
      "cell_type": "code",
      "execution_count": null,
      "metadata": {
        "id": "ovKFkgUGaTMq"
      },
      "outputs": [],
      "source": [
        "%timeit df.at[0, 'fare']"
      ]
    },
    {
      "cell_type": "markdown",
      "metadata": {
        "id": "usC8ZSZYzOGI"
      },
      "source": [
        "## iat"
      ]
    },
    {
      "cell_type": "markdown",
      "metadata": {
        "id": "eBMU63COzOGI"
      },
      "source": [
        "하나의 인덱스만 가져옵니다. 속도가 빠르다는 장점은 있지만, 1개의 데이터만 조회 가능합니다. `iloc`로 대체 사용가능합니다."
      ]
    },
    {
      "cell_type": "code",
      "execution_count": null,
      "metadata": {
        "id": "Nexb48H8aTMr"
      },
      "outputs": [],
      "source": [
        "%timeit df.iloc[0, 5]"
      ]
    },
    {
      "cell_type": "code",
      "execution_count": null,
      "metadata": {
        "id": "4IQnPGHXGvxR"
      },
      "outputs": [],
      "source": [
        "%timeit df.iat[0, 5]"
      ]
    },
    {
      "cell_type": "markdown",
      "metadata": {
        "id": "PdTxd7bi0F3D"
      },
      "source": [
        "## where"
      ]
    },
    {
      "cell_type": "markdown",
      "metadata": {
        "id": "28yos4BE0F3D"
      },
      "source": [
        "[도큐먼트](https://pandas.pydata.org/pandas-docs/stable/reference/api/pandas.DataFrame.where.html)\n",
        "\n",
        "`DataFrame.where(cond, other=nan, inplace=False, axis=None, level=None, errors='raise', try_cast=False)`\n",
        "\n",
        "Pandas의 `where`는 Numpy의 `where`와 동작이 다릅니다.\n",
        "\n",
        "- cond: True/False로 판단될 수 있는 식\n",
        "- other: condition을 만족하지 못하는 요소에 할당 할 값"
      ]
    },
    {
      "cell_type": "code",
      "execution_count": null,
      "metadata": {
        "id": "qCbj47Y30F3E"
      },
      "outputs": [],
      "source": [
        "df.tail(5)"
      ]
    },
    {
      "cell_type": "markdown",
      "metadata": {
        "id": "rp7fQj_eaTMs"
      },
      "source": [
        "**fare 컬럼**에 적용하는 예시"
      ]
    },
    {
      "cell_type": "code",
      "execution_count": null,
      "metadata": {
        "id": "YuDpYKX-0F3F"
      },
      "outputs": [],
      "source": [
        "df['fare'].where(df['fare'] < 20, 0).tail(10)"
      ]
    },
    {
      "cell_type": "markdown",
      "metadata": {
        "id": "7jGs8_rNaTMt"
      },
      "source": [
        "전체 DataFrame에 적용시 다음과 같이 조건이 해당하는 값 외에는 모두 NaN 값으로 채워지게 됩니다."
      ]
    },
    {
      "cell_type": "code",
      "execution_count": null,
      "metadata": {
        "id": "dJmc0cM6aTMt"
      },
      "outputs": [],
      "source": [
        "df.where(df['fare'] < 10)"
      ]
    },
    {
      "cell_type": "markdown",
      "metadata": {
        "id": "CQ6DZJtY0F3G"
      },
      "source": [
        "## isin"
      ]
    },
    {
      "cell_type": "markdown",
      "metadata": {
        "id": "6CHXco-f0F3G"
      },
      "source": [
        "특정 값의 포함 여부는 isin 함수를 통해 비교가 가능합니다. (파이썬의 in 키워드는 사용 불가 합니다.)"
      ]
    },
    {
      "cell_type": "code",
      "execution_count": null,
      "metadata": {
        "id": "Skzm8XPe0F3G"
      },
      "outputs": [],
      "source": [
        "sample = pd.DataFrame({'name': ['kim', 'lee', 'park', 'choi'], \n",
        "                        'age': [24, 27, 34, 19]\n",
        "                      })\n",
        "sample"
      ]
    },
    {
      "cell_type": "code",
      "execution_count": null,
      "metadata": {
        "id": "gFdTkGel0F3H"
      },
      "outputs": [],
      "source": [
        "sample['name'].isin(['kim', 'lee'])"
      ]
    },
    {
      "cell_type": "code",
      "execution_count": null,
      "metadata": {
        "id": "jxKNI7nq0F3I"
      },
      "outputs": [],
      "source": [
        "sample.isin(['kim', 'lee'])"
      ]
    },
    {
      "cell_type": "markdown",
      "metadata": {
        "id": "qmY5TE7l0F3J"
      },
      "source": [
        "`loc`를 활용한 **조건 필터링**으로도 찰떡궁합입니다."
      ]
    },
    {
      "cell_type": "code",
      "execution_count": null,
      "metadata": {
        "id": "S2mKcfVe0F3J"
      },
      "outputs": [],
      "source": [
        "condition = sample['name'].isin(['kim', 'lee'])"
      ]
    },
    {
      "cell_type": "code",
      "execution_count": null,
      "metadata": {
        "id": "UAyzqgfg0F3K"
      },
      "outputs": [],
      "source": [
        "sample.loc[condition]"
      ]
    },
    {
      "cell_type": "markdown",
      "metadata": {
        "id": "JS0ON1WOaTMw"
      },
      "source": [
        "### 연습문제"
      ]
    },
    {
      "cell_type": "code",
      "execution_count": null,
      "metadata": {
        "id": "mcCeug91aTMw"
      },
      "outputs": [],
      "source": [
        "tips = sns.load_dataset('tips')\n",
        "tips.head()"
      ]
    },
    {
      "cell_type": "markdown",
      "metadata": {
        "id": "-7xodDviaTMw"
      },
      "source": [
        "- `tips` 데이터셋 중 `day`가 **금요일(Fri), 토요일(Sat)** 만 필터링 합니다.\n",
        "- `tip`이 $10보다 적게 낸 데이터만 필터링합니다.\n",
        "- 컬럼은 `total_bill`, `tip`, `smoker`, `time`만 출력합니다.\n",
        "- 상위 10개 행만 출력합니다."
      ]
    },
    {
      "cell_type": "code",
      "execution_count": null,
      "metadata": {
        "id": "dY2AomHhaTMw"
      },
      "outputs": [],
      "source": [
        "# 코드를 입력해 주세요\n"
      ]
    },
    {
      "cell_type": "markdown",
      "metadata": {
        "id": "Gu-2Qc6waTMx"
      },
      "source": [
        "<p><strong>[출력 결과]</strong></p><div>\n",
        "<style scoped>\n",
        "    .dataframe tbody tr th:only-of-type {\n",
        "        vertical-align: middle;\n",
        "    }\n",
        "\n",
        "    .dataframe tbody tr th {\n",
        "        vertical-align: top;\n",
        "    }\n",
        "\n",
        "    .dataframe thead th {\n",
        "        text-align: right;\n",
        "    }\n",
        "</style>\n",
        "<table border=\"1\" class=\"dataframe\">\n",
        "  <thead>\n",
        "    <tr style=\"text-align: right;\">\n",
        "      <th></th>\n",
        "      <th>total_bill</th>\n",
        "      <th>tip</th>\n",
        "      <th>smoker</th>\n",
        "      <th>time</th>\n",
        "    </tr>\n",
        "  </thead>\n",
        "  <tbody>\n",
        "    <tr>\n",
        "      <th>19</th>\n",
        "      <td>20.65</td>\n",
        "      <td>3.35</td>\n",
        "      <td>No</td>\n",
        "      <td>Dinner</td>\n",
        "    </tr>\n",
        "    <tr>\n",
        "      <th>20</th>\n",
        "      <td>17.92</td>\n",
        "      <td>4.08</td>\n",
        "      <td>No</td>\n",
        "      <td>Dinner</td>\n",
        "    </tr>\n",
        "    <tr>\n",
        "      <th>21</th>\n",
        "      <td>20.29</td>\n",
        "      <td>2.75</td>\n",
        "      <td>No</td>\n",
        "      <td>Dinner</td>\n",
        "    </tr>\n",
        "    <tr>\n",
        "      <th>22</th>\n",
        "      <td>15.77</td>\n",
        "      <td>2.23</td>\n",
        "      <td>No</td>\n",
        "      <td>Dinner</td>\n",
        "    </tr>\n",
        "    <tr>\n",
        "      <th>23</th>\n",
        "      <td>39.42</td>\n",
        "      <td>7.58</td>\n",
        "      <td>No</td>\n",
        "      <td>Dinner</td>\n",
        "    </tr>\n",
        "    <tr>\n",
        "      <th>24</th>\n",
        "      <td>19.82</td>\n",
        "      <td>3.18</td>\n",
        "      <td>No</td>\n",
        "      <td>Dinner</td>\n",
        "    </tr>\n",
        "    <tr>\n",
        "      <th>25</th>\n",
        "      <td>17.81</td>\n",
        "      <td>2.34</td>\n",
        "      <td>No</td>\n",
        "      <td>Dinner</td>\n",
        "    </tr>\n",
        "    <tr>\n",
        "      <th>26</th>\n",
        "      <td>13.37</td>\n",
        "      <td>2.00</td>\n",
        "      <td>No</td>\n",
        "      <td>Dinner</td>\n",
        "    </tr>\n",
        "    <tr>\n",
        "      <th>27</th>\n",
        "      <td>12.69</td>\n",
        "      <td>2.00</td>\n",
        "      <td>No</td>\n",
        "      <td>Dinner</td>\n",
        "    </tr>\n",
        "    <tr>\n",
        "      <th>28</th>\n",
        "      <td>21.70</td>\n",
        "      <td>4.30</td>\n",
        "      <td>No</td>\n",
        "      <td>Dinner</td>\n",
        "    </tr>\n",
        "  </tbody>\n",
        "</table>\n",
        "</div>"
      ]
    }
  ],
  "metadata": {
    "colab": {
      "collapsed_sections": [],
      "name": "03-pandas-조회-정렬-조건-필터 (실습)",
      "provenance": []
    },
    "kernelspec": {
      "display_name": "Python 3",
      "language": "python",
      "name": "python3"
    },
    "language_info": {
      "codemirror_mode": {
        "name": "ipython",
        "version": 3
      },
      "file_extension": ".py",
      "mimetype": "text/x-python",
      "name": "python",
      "nbconvert_exporter": "python",
      "pygments_lexer": "ipython3",
      "version": "3.7.10"
    }
  },
  "nbformat": 4,
  "nbformat_minor": 0
}