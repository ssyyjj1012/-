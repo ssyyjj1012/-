{
  "nbformat": 4,
  "nbformat_minor": 0,
  "metadata": {
    "colab": {
      "name": "자동화 툴을 위한 정규표현식(실습)",
      "provenance": [],
      "authorship_tag": "ABX9TyOdtK26FKy87TMSz9YR+5L5",
      "include_colab_link": true
    },
    "kernelspec": {
      "name": "python3",
      "display_name": "Python 3"
    },
    "language_info": {
      "name": "python"
    }
  },
  "cells": [
    {
      "cell_type": "markdown",
      "metadata": {
        "id": "view-in-github",
        "colab_type": "text"
      },
      "source": [
        "<a href=\"https://colab.research.google.com/github/ssyyjj1012/data-analysis/blob/main/%EC%9E%90%EB%8F%99%ED%99%94_%ED%88%B4%EC%9D%84_%EC%9C%84%ED%95%9C_%EC%A0%95%EA%B7%9C%ED%91%9C%ED%98%84%EC%8B%9D(%EC%8B%A4%EC%8A%B5).ipynb\" target=\"_parent\"><img src=\"https://colab.research.google.com/assets/colab-badge.svg\" alt=\"Open In Colab\"/></a>"
      ]
    },
    {
      "cell_type": "markdown",
      "source": [
        "### 자동화 툴을 위한 정규표현식\n",
        "\n",
        "- 정규표현식(Regular Expression)\n",
        "  - 문자열 처리할 때 사용하는 기법\n",
        "  - 문자열을 처리하는 모든 곳에서 사용\n",
        "\n",
        "  * re 라이브러리 사용"
      ],
      "metadata": {
        "id": "7TN6lQG8mPqG"
      }
    },
    {
      "cell_type": "code",
      "source": [
        "import re"
      ],
      "metadata": {
        "id": "k2ZUoNrpmaki"
      },
      "execution_count": 1,
      "outputs": []
    },
    {
      "cell_type": "code",
      "source": [
        "data = \"\"\"\n",
        "010-1234-4567\n",
        "011-1234-4567\n",
        "032-1234-4567\n",
        "001012-1234567\n",
        "999999-1234567\n",
        "978-89-6848-841-2\n",
        "978-89-6848-841-4\n",
        "\"\"\""
      ],
      "metadata": {
        "id": "7dHVPzLHm2F_"
      },
      "execution_count": 11,
      "outputs": []
    },
    {
      "cell_type": "markdown",
      "source": [
        "## 1. 유효한 핸드폰 전화번호 확인하기"
      ],
      "metadata": {
        "id": "GoQJrMIQnI48"
      }
    },
    {
      "cell_type": "code",
      "source": [
        "pat = re.compile(\"01[0-9][-]\\d{4}-\\d{4}\")\n",
        "result = pat.findall(data)\n",
        "print(result)"
      ],
      "metadata": {
        "colab": {
          "base_uri": "https://localhost:8080/"
        },
        "id": "4ojHduxXnGi-",
        "outputId": "eb72359e-8150-4120-bac4-0a14e8ce543e"
      },
      "execution_count": 13,
      "outputs": [
        {
          "output_type": "stream",
          "name": "stdout",
          "text": [
            "['010-1234-4567', '011-1234-4567']\n"
          ]
        }
      ]
    },
    {
      "cell_type": "markdown",
      "source": [
        "## 2. 유효한 주민번호 확인하기"
      ],
      "metadata": {
        "id": "S32qLdnmnsEY"
      }
    },
    {
      "cell_type": "code",
      "source": [
        "pat = re.compile(\"\\d{2}[0-1][0-9][0-3][0-9][-]\\d{7}\")\n",
        "result = pat.findall(data)\n",
        "print(result)"
      ],
      "metadata": {
        "colab": {
          "base_uri": "https://localhost:8080/"
        },
        "outputId": "4c50ca3d-770a-4db5-deb9-eb953beddb18",
        "id": "1i4LftzPnsEY"
      },
      "execution_count": 8,
      "outputs": [
        {
          "output_type": "stream",
          "name": "stdout",
          "text": [
            "['001012-1234567']\n"
          ]
        }
      ]
    },
    {
      "cell_type": "markdown",
      "source": [
        "## 3. 유효한 ISBN 확인하기"
      ],
      "metadata": {
        "id": "Z6dD9VT9oQ5c"
      }
    },
    {
      "cell_type": "code",
      "source": [
        "pat = re.compile(\"\\d{3}-\\d{2}-\\d{4}-\\d{3}-\\d{1}\")\n",
        "result = pat.findall(data)\n",
        "new_result = []\n",
        "\n",
        "for i in result : \n",
        "  i_array = i.replace(\"-\",\"\")\n",
        "  check_num = 0\n",
        "\n",
        "  for j in range(len(i_array)-1) :\n",
        "    j_num = int(i_array[j])\n",
        "    if j % 2==0:\n",
        "      check_num += j_num*1\n",
        "    else :\n",
        "      check_num += j_num*3\n",
        "\n",
        "    x = 10 - (check_num % 10) % 10\n",
        "\n",
        "  if(str(x) ==i[-1]):\n",
        "    new_result.append(i)\n",
        "\n",
        "print(new_result)"
      ],
      "metadata": {
        "colab": {
          "base_uri": "https://localhost:8080/"
        },
        "outputId": "8fad5e85-4196-4792-daf8-02a755326c23",
        "id": "ky3Zfi2eoQ5c"
      },
      "execution_count": 15,
      "outputs": [
        {
          "output_type": "stream",
          "name": "stdout",
          "text": [
            "['978-89-6848-841-2']\n"
          ]
        }
      ]
    }
  ]
}