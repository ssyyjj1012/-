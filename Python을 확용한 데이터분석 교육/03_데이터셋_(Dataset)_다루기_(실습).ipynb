{
  "cells": [
    {
      "cell_type": "markdown",
      "metadata": {
        "id": "view-in-github",
        "colab_type": "text"
      },
      "source": [
        "<a href=\"https://colab.research.google.com/github/ssyyjj1012/data-analysis/blob/main/03_%EB%8D%B0%EC%9D%B4%ED%84%B0%EC%85%8B_(Dataset)_%EB%8B%A4%EB%A3%A8%EA%B8%B0_(%EC%8B%A4%EC%8A%B5).ipynb\" target=\"_parent\"><img src=\"https://colab.research.google.com/assets/colab-badge.svg\" alt=\"Open In Colab\"/></a>"
      ]
    },
    {
      "cell_type": "markdown",
      "metadata": {
        "id": "r8AY69BKVHsc"
      },
      "source": [
        "# 데이터 셋 (Dataset) 다루기"
      ]
    },
    {
      "cell_type": "markdown",
      "metadata": {
        "id": "eL2KgpFGVHsd"
      },
      "source": [
        "`sklearn.dataset` 안에는 빌트인 (built-in) 데이터 셋들이 존재합니다. 물론 튜토리얼 진행을 위한 수준이므로, 규모가 크지는 않습니다 (Toy Dataset 이라고도 불리웁니다.)\n",
        "\n",
        "그렇지만, mldata.org 데이터 셋은 조금 더 규모가 큰 데이터 셋을 제공하며, 온라인에서 동적으로 다운로드를 받을 수 있습니다.\n",
        "\n",
        "이번 튜토리얼에서는 Built-in 데이터 셋을 활용하는 방법에 대해서 알아보도록 하겠습니다."
      ]
    },
    {
      "cell_type": "code",
      "execution_count": 62,
      "metadata": {
        "id": "0kS8graVT26v"
      },
      "outputs": [],
      "source": [
        "import warnings\n",
        "\n",
        "# 경고 메시지 출력 표기 생략\n",
        "warnings.filterwarnings('ignore')"
      ]
    },
    {
      "cell_type": "markdown",
      "metadata": {
        "id": "92ExO_F7VHsd"
      },
      "source": [
        "## 빌트인 (Built-in) 데이터셋 활용"
      ]
    },
    {
      "cell_type": "markdown",
      "metadata": {
        "id": "mxTsZpI3VHse"
      },
      "source": [
        "### 데이터 셋의 종류"
      ]
    },
    {
      "cell_type": "markdown",
      "metadata": {
        "id": "un8ZRUX_VHse"
      },
      "source": [
        "- `load_boston`: 보스톤 집값 데이터\n",
        "- `load_iris`: 아이리스 붓꽃 데이터\n",
        "- `load_diabetes`: 당뇨병 환자 데이터\n",
        "- `load_digits`: 손글씨 데이터\n",
        "- `load_linnerud`: multi-output regression 용 데이터\n",
        "- `load_wine`: 와인 데이터\n",
        "- `load_breast_cancer`: 위스콘신 유방암 환자 데이터"
      ]
    },
    {
      "cell_type": "markdown",
      "metadata": {
        "id": "hLgTsdXxVHse"
      },
      "source": [
        "### 데이터 셋 조회"
      ]
    },
    {
      "cell_type": "markdown",
      "metadata": {
        "id": "Ei7RW6dmVHsf"
      },
      "source": [
        "빌트인 데이터셋은 `sklearn.utils.Bunch` 라는 자료구조를 활용합니다.\n",
        "\n",
        "**key-value** 형식으로 구성되어 있으며, 사전(dict)형 타입과 유사한 구조를 가지고 있습니다.\n",
        "\n",
        "공통 **key**는 다음과 같습니다.\n",
        "\n",
        "- `data`: 샘플 데이터, Numpy 배열로 이루어져 있습니다.\n",
        "- `target`: Label 데이터, Numpy 배열로 이루어져 있습니다.\n",
        "- `feature_names`: Feature 데이터의 이름\n",
        "- `target_names`: Label 데이터의 이름\n",
        "- `DESCR`: 데이터 셋의 설명\n",
        "- `filename`: 데이터 셋의 파일 저장 위치 (csv)\n"
      ]
    },
    {
      "cell_type": "markdown",
      "metadata": {
        "id": "0gmCPA1BVHsf"
      },
      "source": [
        " 간단한 실습으로 빌트인 데이터셋의 활용법에 대하여 알아보겠습니다."
      ]
    },
    {
      "cell_type": "markdown",
      "metadata": {
        "id": "rIQnvIlpVHsg"
      },
      "source": [
        "### iris 붓꽃 데이터 로드하기"
      ]
    },
    {
      "cell_type": "code",
      "execution_count": 63,
      "metadata": {
        "id": "YoyR1Vh5VHsg",
        "colab": {
          "base_uri": "https://localhost:8080/",
          "height": 322
        },
        "outputId": "81f7d614-0304-4663-a2f4-21dd6d400c4b"
      },
      "outputs": [
        {
          "output_type": "execute_result",
          "data": {
            "text/html": [
              "<img src=\"https://user-images.githubusercontent.com/15958325/56006707-f69f3680-5d10-11e9-8609-25ba5034607e.png\"/>"
            ],
            "text/plain": [
              "<IPython.core.display.Image object>"
            ]
          },
          "metadata": {},
          "execution_count": 63
        }
      ],
      "source": [
        "from IPython.display import Image\n",
        "\n",
        "Image(url='https://user-images.githubusercontent.com/15958325/56006707-f69f3680-5d10-11e9-8609-25ba5034607e.png')"
      ]
    },
    {
      "cell_type": "code",
      "execution_count": 64,
      "metadata": {
        "id": "ffKcq0gJVHsl"
      },
      "outputs": [],
      "source": [
        "# iris 붓꽃 데이터 로드\n",
        "from sklearn.datasets import load_iris"
      ]
    },
    {
      "cell_type": "markdown",
      "metadata": {
        "id": "k8acyXyJVHsn"
      },
      "source": [
        "`load_iris`로 데이터 셋을 불러와서 `iris` 변수에 저장합니다."
      ]
    },
    {
      "cell_type": "code",
      "execution_count": 65,
      "metadata": {
        "id": "T9xuvCmXVHsn"
      },
      "outputs": [],
      "source": [
        "# 코드를 입력해 주세요\n",
        "iris =  load_iris()"
      ]
    },
    {
      "cell_type": "markdown",
      "metadata": {
        "id": "Gj6tjjODVHsp"
      },
      "source": [
        "변수를 출력해 보면 다음과 같이 key-value 로 이루어진 데이터셋이 로드됩니다."
      ]
    },
    {
      "cell_type": "code",
      "execution_count": 66,
      "metadata": {
        "id": "1G-JPUOAVHsp",
        "colab": {
          "base_uri": "https://localhost:8080/"
        },
        "outputId": "f3d22559-7c49-4ae4-f027-8dd063b53537"
      },
      "outputs": [
        {
          "output_type": "execute_result",
          "data": {
            "text/plain": [
              "{'DESCR': '.. _iris_dataset:\\n\\nIris plants dataset\\n--------------------\\n\\n**Data Set Characteristics:**\\n\\n    :Number of Instances: 150 (50 in each of three classes)\\n    :Number of Attributes: 4 numeric, predictive attributes and the class\\n    :Attribute Information:\\n        - sepal length in cm\\n        - sepal width in cm\\n        - petal length in cm\\n        - petal width in cm\\n        - class:\\n                - Iris-Setosa\\n                - Iris-Versicolour\\n                - Iris-Virginica\\n                \\n    :Summary Statistics:\\n\\n    ============== ==== ==== ======= ===== ====================\\n                    Min  Max   Mean    SD   Class Correlation\\n    ============== ==== ==== ======= ===== ====================\\n    sepal length:   4.3  7.9   5.84   0.83    0.7826\\n    sepal width:    2.0  4.4   3.05   0.43   -0.4194\\n    petal length:   1.0  6.9   3.76   1.76    0.9490  (high!)\\n    petal width:    0.1  2.5   1.20   0.76    0.9565  (high!)\\n    ============== ==== ==== ======= ===== ====================\\n\\n    :Missing Attribute Values: None\\n    :Class Distribution: 33.3% for each of 3 classes.\\n    :Creator: R.A. Fisher\\n    :Donor: Michael Marshall (MARSHALL%PLU@io.arc.nasa.gov)\\n    :Date: July, 1988\\n\\nThe famous Iris database, first used by Sir R.A. Fisher. The dataset is taken\\nfrom Fisher\\'s paper. Note that it\\'s the same as in R, but not as in the UCI\\nMachine Learning Repository, which has two wrong data points.\\n\\nThis is perhaps the best known database to be found in the\\npattern recognition literature.  Fisher\\'s paper is a classic in the field and\\nis referenced frequently to this day.  (See Duda & Hart, for example.)  The\\ndata set contains 3 classes of 50 instances each, where each class refers to a\\ntype of iris plant.  One class is linearly separable from the other 2; the\\nlatter are NOT linearly separable from each other.\\n\\n.. topic:: References\\n\\n   - Fisher, R.A. \"The use of multiple measurements in taxonomic problems\"\\n     Annual Eugenics, 7, Part II, 179-188 (1936); also in \"Contributions to\\n     Mathematical Statistics\" (John Wiley, NY, 1950).\\n   - Duda, R.O., & Hart, P.E. (1973) Pattern Classification and Scene Analysis.\\n     (Q327.D83) John Wiley & Sons.  ISBN 0-471-22361-1.  See page 218.\\n   - Dasarathy, B.V. (1980) \"Nosing Around the Neighborhood: A New System\\n     Structure and Classification Rule for Recognition in Partially Exposed\\n     Environments\".  IEEE Transactions on Pattern Analysis and Machine\\n     Intelligence, Vol. PAMI-2, No. 1, 67-71.\\n   - Gates, G.W. (1972) \"The Reduced Nearest Neighbor Rule\".  IEEE Transactions\\n     on Information Theory, May 1972, 431-433.\\n   - See also: 1988 MLC Proceedings, 54-64.  Cheeseman et al\"s AUTOCLASS II\\n     conceptual clustering system finds 3 classes in the data.\\n   - Many, many more ...',\n",
              " 'data': array([[5.1, 3.5, 1.4, 0.2],\n",
              "        [4.9, 3. , 1.4, 0.2],\n",
              "        [4.7, 3.2, 1.3, 0.2],\n",
              "        [4.6, 3.1, 1.5, 0.2],\n",
              "        [5. , 3.6, 1.4, 0.2],\n",
              "        [5.4, 3.9, 1.7, 0.4],\n",
              "        [4.6, 3.4, 1.4, 0.3],\n",
              "        [5. , 3.4, 1.5, 0.2],\n",
              "        [4.4, 2.9, 1.4, 0.2],\n",
              "        [4.9, 3.1, 1.5, 0.1],\n",
              "        [5.4, 3.7, 1.5, 0.2],\n",
              "        [4.8, 3.4, 1.6, 0.2],\n",
              "        [4.8, 3. , 1.4, 0.1],\n",
              "        [4.3, 3. , 1.1, 0.1],\n",
              "        [5.8, 4. , 1.2, 0.2],\n",
              "        [5.7, 4.4, 1.5, 0.4],\n",
              "        [5.4, 3.9, 1.3, 0.4],\n",
              "        [5.1, 3.5, 1.4, 0.3],\n",
              "        [5.7, 3.8, 1.7, 0.3],\n",
              "        [5.1, 3.8, 1.5, 0.3],\n",
              "        [5.4, 3.4, 1.7, 0.2],\n",
              "        [5.1, 3.7, 1.5, 0.4],\n",
              "        [4.6, 3.6, 1. , 0.2],\n",
              "        [5.1, 3.3, 1.7, 0.5],\n",
              "        [4.8, 3.4, 1.9, 0.2],\n",
              "        [5. , 3. , 1.6, 0.2],\n",
              "        [5. , 3.4, 1.6, 0.4],\n",
              "        [5.2, 3.5, 1.5, 0.2],\n",
              "        [5.2, 3.4, 1.4, 0.2],\n",
              "        [4.7, 3.2, 1.6, 0.2],\n",
              "        [4.8, 3.1, 1.6, 0.2],\n",
              "        [5.4, 3.4, 1.5, 0.4],\n",
              "        [5.2, 4.1, 1.5, 0.1],\n",
              "        [5.5, 4.2, 1.4, 0.2],\n",
              "        [4.9, 3.1, 1.5, 0.2],\n",
              "        [5. , 3.2, 1.2, 0.2],\n",
              "        [5.5, 3.5, 1.3, 0.2],\n",
              "        [4.9, 3.6, 1.4, 0.1],\n",
              "        [4.4, 3. , 1.3, 0.2],\n",
              "        [5.1, 3.4, 1.5, 0.2],\n",
              "        [5. , 3.5, 1.3, 0.3],\n",
              "        [4.5, 2.3, 1.3, 0.3],\n",
              "        [4.4, 3.2, 1.3, 0.2],\n",
              "        [5. , 3.5, 1.6, 0.6],\n",
              "        [5.1, 3.8, 1.9, 0.4],\n",
              "        [4.8, 3. , 1.4, 0.3],\n",
              "        [5.1, 3.8, 1.6, 0.2],\n",
              "        [4.6, 3.2, 1.4, 0.2],\n",
              "        [5.3, 3.7, 1.5, 0.2],\n",
              "        [5. , 3.3, 1.4, 0.2],\n",
              "        [7. , 3.2, 4.7, 1.4],\n",
              "        [6.4, 3.2, 4.5, 1.5],\n",
              "        [6.9, 3.1, 4.9, 1.5],\n",
              "        [5.5, 2.3, 4. , 1.3],\n",
              "        [6.5, 2.8, 4.6, 1.5],\n",
              "        [5.7, 2.8, 4.5, 1.3],\n",
              "        [6.3, 3.3, 4.7, 1.6],\n",
              "        [4.9, 2.4, 3.3, 1. ],\n",
              "        [6.6, 2.9, 4.6, 1.3],\n",
              "        [5.2, 2.7, 3.9, 1.4],\n",
              "        [5. , 2. , 3.5, 1. ],\n",
              "        [5.9, 3. , 4.2, 1.5],\n",
              "        [6. , 2.2, 4. , 1. ],\n",
              "        [6.1, 2.9, 4.7, 1.4],\n",
              "        [5.6, 2.9, 3.6, 1.3],\n",
              "        [6.7, 3.1, 4.4, 1.4],\n",
              "        [5.6, 3. , 4.5, 1.5],\n",
              "        [5.8, 2.7, 4.1, 1. ],\n",
              "        [6.2, 2.2, 4.5, 1.5],\n",
              "        [5.6, 2.5, 3.9, 1.1],\n",
              "        [5.9, 3.2, 4.8, 1.8],\n",
              "        [6.1, 2.8, 4. , 1.3],\n",
              "        [6.3, 2.5, 4.9, 1.5],\n",
              "        [6.1, 2.8, 4.7, 1.2],\n",
              "        [6.4, 2.9, 4.3, 1.3],\n",
              "        [6.6, 3. , 4.4, 1.4],\n",
              "        [6.8, 2.8, 4.8, 1.4],\n",
              "        [6.7, 3. , 5. , 1.7],\n",
              "        [6. , 2.9, 4.5, 1.5],\n",
              "        [5.7, 2.6, 3.5, 1. ],\n",
              "        [5.5, 2.4, 3.8, 1.1],\n",
              "        [5.5, 2.4, 3.7, 1. ],\n",
              "        [5.8, 2.7, 3.9, 1.2],\n",
              "        [6. , 2.7, 5.1, 1.6],\n",
              "        [5.4, 3. , 4.5, 1.5],\n",
              "        [6. , 3.4, 4.5, 1.6],\n",
              "        [6.7, 3.1, 4.7, 1.5],\n",
              "        [6.3, 2.3, 4.4, 1.3],\n",
              "        [5.6, 3. , 4.1, 1.3],\n",
              "        [5.5, 2.5, 4. , 1.3],\n",
              "        [5.5, 2.6, 4.4, 1.2],\n",
              "        [6.1, 3. , 4.6, 1.4],\n",
              "        [5.8, 2.6, 4. , 1.2],\n",
              "        [5. , 2.3, 3.3, 1. ],\n",
              "        [5.6, 2.7, 4.2, 1.3],\n",
              "        [5.7, 3. , 4.2, 1.2],\n",
              "        [5.7, 2.9, 4.2, 1.3],\n",
              "        [6.2, 2.9, 4.3, 1.3],\n",
              "        [5.1, 2.5, 3. , 1.1],\n",
              "        [5.7, 2.8, 4.1, 1.3],\n",
              "        [6.3, 3.3, 6. , 2.5],\n",
              "        [5.8, 2.7, 5.1, 1.9],\n",
              "        [7.1, 3. , 5.9, 2.1],\n",
              "        [6.3, 2.9, 5.6, 1.8],\n",
              "        [6.5, 3. , 5.8, 2.2],\n",
              "        [7.6, 3. , 6.6, 2.1],\n",
              "        [4.9, 2.5, 4.5, 1.7],\n",
              "        [7.3, 2.9, 6.3, 1.8],\n",
              "        [6.7, 2.5, 5.8, 1.8],\n",
              "        [7.2, 3.6, 6.1, 2.5],\n",
              "        [6.5, 3.2, 5.1, 2. ],\n",
              "        [6.4, 2.7, 5.3, 1.9],\n",
              "        [6.8, 3. , 5.5, 2.1],\n",
              "        [5.7, 2.5, 5. , 2. ],\n",
              "        [5.8, 2.8, 5.1, 2.4],\n",
              "        [6.4, 3.2, 5.3, 2.3],\n",
              "        [6.5, 3. , 5.5, 1.8],\n",
              "        [7.7, 3.8, 6.7, 2.2],\n",
              "        [7.7, 2.6, 6.9, 2.3],\n",
              "        [6. , 2.2, 5. , 1.5],\n",
              "        [6.9, 3.2, 5.7, 2.3],\n",
              "        [5.6, 2.8, 4.9, 2. ],\n",
              "        [7.7, 2.8, 6.7, 2. ],\n",
              "        [6.3, 2.7, 4.9, 1.8],\n",
              "        [6.7, 3.3, 5.7, 2.1],\n",
              "        [7.2, 3.2, 6. , 1.8],\n",
              "        [6.2, 2.8, 4.8, 1.8],\n",
              "        [6.1, 3. , 4.9, 1.8],\n",
              "        [6.4, 2.8, 5.6, 2.1],\n",
              "        [7.2, 3. , 5.8, 1.6],\n",
              "        [7.4, 2.8, 6.1, 1.9],\n",
              "        [7.9, 3.8, 6.4, 2. ],\n",
              "        [6.4, 2.8, 5.6, 2.2],\n",
              "        [6.3, 2.8, 5.1, 1.5],\n",
              "        [6.1, 2.6, 5.6, 1.4],\n",
              "        [7.7, 3. , 6.1, 2.3],\n",
              "        [6.3, 3.4, 5.6, 2.4],\n",
              "        [6.4, 3.1, 5.5, 1.8],\n",
              "        [6. , 3. , 4.8, 1.8],\n",
              "        [6.9, 3.1, 5.4, 2.1],\n",
              "        [6.7, 3.1, 5.6, 2.4],\n",
              "        [6.9, 3.1, 5.1, 2.3],\n",
              "        [5.8, 2.7, 5.1, 1.9],\n",
              "        [6.8, 3.2, 5.9, 2.3],\n",
              "        [6.7, 3.3, 5.7, 2.5],\n",
              "        [6.7, 3. , 5.2, 2.3],\n",
              "        [6.3, 2.5, 5. , 1.9],\n",
              "        [6.5, 3. , 5.2, 2. ],\n",
              "        [6.2, 3.4, 5.4, 2.3],\n",
              "        [5.9, 3. , 5.1, 1.8]]),\n",
              " 'data_module': 'sklearn.datasets.data',\n",
              " 'feature_names': ['sepal length (cm)',\n",
              "  'sepal width (cm)',\n",
              "  'petal length (cm)',\n",
              "  'petal width (cm)'],\n",
              " 'filename': 'iris.csv',\n",
              " 'frame': None,\n",
              " 'target': array([0, 0, 0, 0, 0, 0, 0, 0, 0, 0, 0, 0, 0, 0, 0, 0, 0, 0, 0, 0, 0, 0,\n",
              "        0, 0, 0, 0, 0, 0, 0, 0, 0, 0, 0, 0, 0, 0, 0, 0, 0, 0, 0, 0, 0, 0,\n",
              "        0, 0, 0, 0, 0, 0, 1, 1, 1, 1, 1, 1, 1, 1, 1, 1, 1, 1, 1, 1, 1, 1,\n",
              "        1, 1, 1, 1, 1, 1, 1, 1, 1, 1, 1, 1, 1, 1, 1, 1, 1, 1, 1, 1, 1, 1,\n",
              "        1, 1, 1, 1, 1, 1, 1, 1, 1, 1, 1, 1, 2, 2, 2, 2, 2, 2, 2, 2, 2, 2,\n",
              "        2, 2, 2, 2, 2, 2, 2, 2, 2, 2, 2, 2, 2, 2, 2, 2, 2, 2, 2, 2, 2, 2,\n",
              "        2, 2, 2, 2, 2, 2, 2, 2, 2, 2, 2, 2, 2, 2, 2, 2, 2, 2]),\n",
              " 'target_names': array(['setosa', 'versicolor', 'virginica'], dtype='<U10')}"
            ]
          },
          "metadata": {},
          "execution_count": 66
        }
      ],
      "source": [
        "iris"
      ]
    },
    {
      "cell_type": "markdown",
      "metadata": {
        "id": "aYW41ufpVHss"
      },
      "source": [
        "## Feature 데이터 (X)"
      ]
    },
    {
      "cell_type": "markdown",
      "metadata": {
        "id": "y7IKsbadVHss"
      },
      "source": [
        "### feature 데이터 값 조회하기"
      ]
    },
    {
      "cell_type": "markdown",
      "metadata": {
        "id": "ANHqlChEVHss"
      },
      "source": [
        "feature data는 `data` 키로 접근하여 가져올 수 있습니다.\n",
        "\n",
        "`features` 변수에 `data`를 대입해 주세요."
      ]
    },
    {
      "cell_type": "code",
      "execution_count": 67,
      "metadata": {
        "id": "ayrg67GnVHst"
      },
      "outputs": [],
      "source": [
        "# 코드를 입력해 주세요\n",
        "features = iris['data']"
      ]
    },
    {
      "cell_type": "markdown",
      "metadata": {
        "id": "GmAE4YMjVHsu"
      },
      "source": [
        "5개만 출력해 본다면 다음과 같은 모양새를 띄고 있습니다."
      ]
    },
    {
      "cell_type": "code",
      "execution_count": 68,
      "metadata": {
        "id": "Pp0NBIrJVHsv",
        "colab": {
          "base_uri": "https://localhost:8080/"
        },
        "outputId": "c7ce20c8-099b-485d-d826-4bd88b03a52d"
      },
      "outputs": [
        {
          "output_type": "execute_result",
          "data": {
            "text/plain": [
              "array([[5.1, 3.5, 1.4, 0.2],\n",
              "       [4.9, 3. , 1.4, 0.2],\n",
              "       [4.7, 3.2, 1.3, 0.2],\n",
              "       [4.6, 3.1, 1.5, 0.2],\n",
              "       [5. , 3.6, 1.4, 0.2]])"
            ]
          },
          "metadata": {},
          "execution_count": 68
        }
      ],
      "source": [
        "features[:5]"
      ]
    },
    {
      "cell_type": "markdown",
      "metadata": {
        "id": "DC0V9a33VHsx"
      },
      "source": [
        "feature data 에 대한 이름은 `feature_names` 로 가져올 수 있습니다.\n",
        "\n",
        "iris 데이터의 경우 총 **4개의 feature**를 가지고 있음을 확인할 수 있습니다.\n",
        "\n",
        "[참고]\n",
        "- **sepal**: 꽃받침\n",
        "- **petal**: 꽃잎"
      ]
    },
    {
      "cell_type": "code",
      "execution_count": 69,
      "metadata": {
        "id": "w9VXhfBdVHsx",
        "colab": {
          "base_uri": "https://localhost:8080/"
        },
        "outputId": "7e9f5138-26e6-458d-dd4d-21d74e2269a2"
      },
      "outputs": [
        {
          "output_type": "execute_result",
          "data": {
            "text/plain": [
              "['sepal length (cm)',\n",
              " 'sepal width (cm)',\n",
              " 'petal length (cm)',\n",
              " 'petal width (cm)']"
            ]
          },
          "metadata": {},
          "execution_count": 69
        }
      ],
      "source": [
        "feature_names = iris['feature_names']\n",
        "feature_names"
      ]
    },
    {
      "cell_type": "markdown",
      "metadata": {
        "id": "hwrdfnPCVHsz"
      },
      "source": [
        "## Label 데이터 (Y)"
      ]
    },
    {
      "cell_type": "markdown",
      "metadata": {
        "id": "YLAAHky7VHsz"
      },
      "source": [
        "label data는 `target` 키로 접근하여 가져올 수 있습니다."
      ]
    },
    {
      "cell_type": "code",
      "execution_count": 70,
      "metadata": {
        "id": "lcf1zqnBVHs0",
        "colab": {
          "base_uri": "https://localhost:8080/"
        },
        "outputId": "5df433c2-5d05-4471-bd48-5403fe34bb8e"
      },
      "outputs": [
        {
          "output_type": "execute_result",
          "data": {
            "text/plain": [
              "array([0, 0, 0, 0, 0, 0, 0, 0, 0, 0, 0, 0, 0, 0, 0, 0, 0, 0, 0, 0, 0, 0,\n",
              "       0, 0, 0, 0, 0, 0, 0, 0, 0, 0, 0, 0, 0, 0, 0, 0, 0, 0, 0, 0, 0, 0,\n",
              "       0, 0, 0, 0, 0, 0, 1, 1, 1, 1, 1, 1, 1, 1, 1, 1, 1, 1, 1, 1, 1, 1,\n",
              "       1, 1, 1, 1, 1, 1, 1, 1, 1, 1, 1, 1, 1, 1, 1, 1, 1, 1, 1, 1, 1, 1,\n",
              "       1, 1, 1, 1, 1, 1, 1, 1, 1, 1, 1, 1, 2, 2, 2, 2, 2, 2, 2, 2, 2, 2,\n",
              "       2, 2, 2, 2, 2, 2, 2, 2, 2, 2, 2, 2, 2, 2, 2, 2, 2, 2, 2, 2, 2, 2,\n",
              "       2, 2, 2, 2, 2, 2, 2, 2, 2, 2, 2, 2, 2, 2, 2, 2, 2, 2])"
            ]
          },
          "metadata": {},
          "execution_count": 70
        }
      ],
      "source": [
        "labels = iris['target']\n",
        "labels"
      ]
    },
    {
      "cell_type": "markdown",
      "metadata": {
        "id": "_fPtnVjsVHs2"
      },
      "source": [
        "feature data와 마찬가지로, label 데이터도 `target_names`라는 키로 target에 대한 클래쓰 이름을 확인해 볼 수 있습니다."
      ]
    },
    {
      "cell_type": "markdown",
      "metadata": {
        "id": "HY7mIBPWVHs2"
      },
      "source": [
        "## 데이터 셋을 DataFrame으로 변환"
      ]
    },
    {
      "cell_type": "code",
      "execution_count": 71,
      "metadata": {
        "id": "6rJOeGoCVHs2"
      },
      "outputs": [],
      "source": [
        "import pandas as pd"
      ]
    },
    {
      "cell_type": "markdown",
      "metadata": {
        "id": "MaDZJ13jVHs4"
      },
      "source": [
        "첫번째로 `data`와 `feature_names` 키로 가져온 데이터를 활용하여 데이터 프레임을 만들어 줍니다."
      ]
    },
    {
      "cell_type": "code",
      "execution_count": 72,
      "metadata": {
        "id": "RRNH0JTuVHs4",
        "colab": {
          "base_uri": "https://localhost:8080/",
          "height": 206
        },
        "outputId": "e9466840-bccc-47ae-ce73-5f25145db6bd"
      },
      "outputs": [
        {
          "output_type": "execute_result",
          "data": {
            "text/html": [
              "\n",
              "  <div id=\"df-2c02212e-9caf-4c4e-98df-b55bfe07a5ac\">\n",
              "    <div class=\"colab-df-container\">\n",
              "      <div>\n",
              "<style scoped>\n",
              "    .dataframe tbody tr th:only-of-type {\n",
              "        vertical-align: middle;\n",
              "    }\n",
              "\n",
              "    .dataframe tbody tr th {\n",
              "        vertical-align: top;\n",
              "    }\n",
              "\n",
              "    .dataframe thead th {\n",
              "        text-align: right;\n",
              "    }\n",
              "</style>\n",
              "<table border=\"1\" class=\"dataframe\">\n",
              "  <thead>\n",
              "    <tr style=\"text-align: right;\">\n",
              "      <th></th>\n",
              "      <th>sepal length (cm)</th>\n",
              "      <th>sepal width (cm)</th>\n",
              "      <th>petal length (cm)</th>\n",
              "      <th>petal width (cm)</th>\n",
              "    </tr>\n",
              "  </thead>\n",
              "  <tbody>\n",
              "    <tr>\n",
              "      <th>0</th>\n",
              "      <td>5.1</td>\n",
              "      <td>3.5</td>\n",
              "      <td>1.4</td>\n",
              "      <td>0.2</td>\n",
              "    </tr>\n",
              "    <tr>\n",
              "      <th>1</th>\n",
              "      <td>4.9</td>\n",
              "      <td>3.0</td>\n",
              "      <td>1.4</td>\n",
              "      <td>0.2</td>\n",
              "    </tr>\n",
              "    <tr>\n",
              "      <th>2</th>\n",
              "      <td>4.7</td>\n",
              "      <td>3.2</td>\n",
              "      <td>1.3</td>\n",
              "      <td>0.2</td>\n",
              "    </tr>\n",
              "    <tr>\n",
              "      <th>3</th>\n",
              "      <td>4.6</td>\n",
              "      <td>3.1</td>\n",
              "      <td>1.5</td>\n",
              "      <td>0.2</td>\n",
              "    </tr>\n",
              "    <tr>\n",
              "      <th>4</th>\n",
              "      <td>5.0</td>\n",
              "      <td>3.6</td>\n",
              "      <td>1.4</td>\n",
              "      <td>0.2</td>\n",
              "    </tr>\n",
              "  </tbody>\n",
              "</table>\n",
              "</div>\n",
              "      <button class=\"colab-df-convert\" onclick=\"convertToInteractive('df-2c02212e-9caf-4c4e-98df-b55bfe07a5ac')\"\n",
              "              title=\"Convert this dataframe to an interactive table.\"\n",
              "              style=\"display:none;\">\n",
              "        \n",
              "  <svg xmlns=\"http://www.w3.org/2000/svg\" height=\"24px\"viewBox=\"0 0 24 24\"\n",
              "       width=\"24px\">\n",
              "    <path d=\"M0 0h24v24H0V0z\" fill=\"none\"/>\n",
              "    <path d=\"M18.56 5.44l.94 2.06.94-2.06 2.06-.94-2.06-.94-.94-2.06-.94 2.06-2.06.94zm-11 1L8.5 8.5l.94-2.06 2.06-.94-2.06-.94L8.5 2.5l-.94 2.06-2.06.94zm10 10l.94 2.06.94-2.06 2.06-.94-2.06-.94-.94-2.06-.94 2.06-2.06.94z\"/><path d=\"M17.41 7.96l-1.37-1.37c-.4-.4-.92-.59-1.43-.59-.52 0-1.04.2-1.43.59L10.3 9.45l-7.72 7.72c-.78.78-.78 2.05 0 2.83L4 21.41c.39.39.9.59 1.41.59.51 0 1.02-.2 1.41-.59l7.78-7.78 2.81-2.81c.8-.78.8-2.07 0-2.86zM5.41 20L4 18.59l7.72-7.72 1.47 1.35L5.41 20z\"/>\n",
              "  </svg>\n",
              "      </button>\n",
              "      \n",
              "  <style>\n",
              "    .colab-df-container {\n",
              "      display:flex;\n",
              "      flex-wrap:wrap;\n",
              "      gap: 12px;\n",
              "    }\n",
              "\n",
              "    .colab-df-convert {\n",
              "      background-color: #E8F0FE;\n",
              "      border: none;\n",
              "      border-radius: 50%;\n",
              "      cursor: pointer;\n",
              "      display: none;\n",
              "      fill: #1967D2;\n",
              "      height: 32px;\n",
              "      padding: 0 0 0 0;\n",
              "      width: 32px;\n",
              "    }\n",
              "\n",
              "    .colab-df-convert:hover {\n",
              "      background-color: #E2EBFA;\n",
              "      box-shadow: 0px 1px 2px rgba(60, 64, 67, 0.3), 0px 1px 3px 1px rgba(60, 64, 67, 0.15);\n",
              "      fill: #174EA6;\n",
              "    }\n",
              "\n",
              "    [theme=dark] .colab-df-convert {\n",
              "      background-color: #3B4455;\n",
              "      fill: #D2E3FC;\n",
              "    }\n",
              "\n",
              "    [theme=dark] .colab-df-convert:hover {\n",
              "      background-color: #434B5C;\n",
              "      box-shadow: 0px 1px 3px 1px rgba(0, 0, 0, 0.15);\n",
              "      filter: drop-shadow(0px 1px 2px rgba(0, 0, 0, 0.3));\n",
              "      fill: #FFFFFF;\n",
              "    }\n",
              "  </style>\n",
              "\n",
              "      <script>\n",
              "        const buttonEl =\n",
              "          document.querySelector('#df-2c02212e-9caf-4c4e-98df-b55bfe07a5ac button.colab-df-convert');\n",
              "        buttonEl.style.display =\n",
              "          google.colab.kernel.accessAllowed ? 'block' : 'none';\n",
              "\n",
              "        async function convertToInteractive(key) {\n",
              "          const element = document.querySelector('#df-2c02212e-9caf-4c4e-98df-b55bfe07a5ac');\n",
              "          const dataTable =\n",
              "            await google.colab.kernel.invokeFunction('convertToInteractive',\n",
              "                                                     [key], {});\n",
              "          if (!dataTable) return;\n",
              "\n",
              "          const docLinkHtml = 'Like what you see? Visit the ' +\n",
              "            '<a target=\"_blank\" href=https://colab.research.google.com/notebooks/data_table.ipynb>data table notebook</a>'\n",
              "            + ' to learn more about interactive tables.';\n",
              "          element.innerHTML = '';\n",
              "          dataTable['output_type'] = 'display_data';\n",
              "          await google.colab.output.renderOutput(dataTable, element);\n",
              "          const docLink = document.createElement('div');\n",
              "          docLink.innerHTML = docLinkHtml;\n",
              "          element.appendChild(docLink);\n",
              "        }\n",
              "      </script>\n",
              "    </div>\n",
              "  </div>\n",
              "  "
            ],
            "text/plain": [
              "   sepal length (cm)  sepal width (cm)  petal length (cm)  petal width (cm)\n",
              "0                5.1               3.5                1.4               0.2\n",
              "1                4.9               3.0                1.4               0.2\n",
              "2                4.7               3.2                1.3               0.2\n",
              "3                4.6               3.1                1.5               0.2\n",
              "4                5.0               3.6                1.4               0.2"
            ]
          },
          "metadata": {},
          "execution_count": 72
        }
      ],
      "source": [
        "# 코드를 입력해 주세요\n",
        "df = pd.DataFrame(features, columns=feature_names)\n",
        "df.head()"
      ]
    },
    {
      "cell_type": "markdown",
      "metadata": {
        "id": "PNTduHbrT27o"
      },
      "source": [
        "<p><strong>[출력 결과]</strong></p><div>\n",
        "<style scoped>\n",
        "    .dataframe tbody tr th:only-of-type {\n",
        "        vertical-align: middle;\n",
        "    }\n",
        "\n",
        "    .dataframe tbody tr th {\n",
        "        vertical-align: top;\n",
        "    }\n",
        "\n",
        "    .dataframe thead th {\n",
        "        text-align: right;\n",
        "    }\n",
        "</style>\n",
        "<table border=\"1\" class=\"dataframe\">\n",
        "  <thead>\n",
        "    <tr style=\"text-align: right;\">\n",
        "      <th></th>\n",
        "      <th>sepal length (cm)</th>\n",
        "      <th>sepal width (cm)</th>\n",
        "      <th>petal length (cm)</th>\n",
        "      <th>petal width (cm)</th>\n",
        "    </tr>\n",
        "  </thead>\n",
        "  <tbody>\n",
        "    <tr>\n",
        "      <th>0</th>\n",
        "      <td>5.1</td>\n",
        "      <td>3.5</td>\n",
        "      <td>1.4</td>\n",
        "      <td>0.2</td>\n",
        "    </tr>\n",
        "    <tr>\n",
        "      <th>1</th>\n",
        "      <td>4.9</td>\n",
        "      <td>3.0</td>\n",
        "      <td>1.4</td>\n",
        "      <td>0.2</td>\n",
        "    </tr>\n",
        "    <tr>\n",
        "      <th>2</th>\n",
        "      <td>4.7</td>\n",
        "      <td>3.2</td>\n",
        "      <td>1.3</td>\n",
        "      <td>0.2</td>\n",
        "    </tr>\n",
        "    <tr>\n",
        "      <th>3</th>\n",
        "      <td>4.6</td>\n",
        "      <td>3.1</td>\n",
        "      <td>1.5</td>\n",
        "      <td>0.2</td>\n",
        "    </tr>\n",
        "    <tr>\n",
        "      <th>4</th>\n",
        "      <td>5.0</td>\n",
        "      <td>3.6</td>\n",
        "      <td>1.4</td>\n",
        "      <td>0.2</td>\n",
        "    </tr>\n",
        "  </tbody>\n",
        "</table>\n",
        "</div>"
      ]
    },
    {
      "cell_type": "markdown",
      "metadata": {
        "id": "ZE-gdBigVHs9"
      },
      "source": [
        "그런 다음 `target` 데이터를 새로운 컬럼을 만들어 추가해 줍니다. 여기서 target 데이터의 column 명 임의로 지정해 주면 됩니다."
      ]
    },
    {
      "cell_type": "code",
      "execution_count": 73,
      "metadata": {
        "id": "5n2b3Rq-VHs9"
      },
      "outputs": [],
      "source": [
        "# 코드를 입력해 주세요\n",
        "df['target'] =  iris['target']"
      ]
    },
    {
      "cell_type": "code",
      "execution_count": 74,
      "metadata": {
        "id": "4wB3LZAxVHs_",
        "colab": {
          "base_uri": "https://localhost:8080/",
          "height": 206
        },
        "outputId": "924e9f88-d3cd-44c9-ac8a-224eaee35946"
      },
      "outputs": [
        {
          "output_type": "execute_result",
          "data": {
            "text/html": [
              "\n",
              "  <div id=\"df-3de1a9a6-fad3-40fa-9e06-ad92cefcaa06\">\n",
              "    <div class=\"colab-df-container\">\n",
              "      <div>\n",
              "<style scoped>\n",
              "    .dataframe tbody tr th:only-of-type {\n",
              "        vertical-align: middle;\n",
              "    }\n",
              "\n",
              "    .dataframe tbody tr th {\n",
              "        vertical-align: top;\n",
              "    }\n",
              "\n",
              "    .dataframe thead th {\n",
              "        text-align: right;\n",
              "    }\n",
              "</style>\n",
              "<table border=\"1\" class=\"dataframe\">\n",
              "  <thead>\n",
              "    <tr style=\"text-align: right;\">\n",
              "      <th></th>\n",
              "      <th>sepal length (cm)</th>\n",
              "      <th>sepal width (cm)</th>\n",
              "      <th>petal length (cm)</th>\n",
              "      <th>petal width (cm)</th>\n",
              "      <th>target</th>\n",
              "    </tr>\n",
              "  </thead>\n",
              "  <tbody>\n",
              "    <tr>\n",
              "      <th>0</th>\n",
              "      <td>5.1</td>\n",
              "      <td>3.5</td>\n",
              "      <td>1.4</td>\n",
              "      <td>0.2</td>\n",
              "      <td>0</td>\n",
              "    </tr>\n",
              "    <tr>\n",
              "      <th>1</th>\n",
              "      <td>4.9</td>\n",
              "      <td>3.0</td>\n",
              "      <td>1.4</td>\n",
              "      <td>0.2</td>\n",
              "      <td>0</td>\n",
              "    </tr>\n",
              "    <tr>\n",
              "      <th>2</th>\n",
              "      <td>4.7</td>\n",
              "      <td>3.2</td>\n",
              "      <td>1.3</td>\n",
              "      <td>0.2</td>\n",
              "      <td>0</td>\n",
              "    </tr>\n",
              "    <tr>\n",
              "      <th>3</th>\n",
              "      <td>4.6</td>\n",
              "      <td>3.1</td>\n",
              "      <td>1.5</td>\n",
              "      <td>0.2</td>\n",
              "      <td>0</td>\n",
              "    </tr>\n",
              "    <tr>\n",
              "      <th>4</th>\n",
              "      <td>5.0</td>\n",
              "      <td>3.6</td>\n",
              "      <td>1.4</td>\n",
              "      <td>0.2</td>\n",
              "      <td>0</td>\n",
              "    </tr>\n",
              "  </tbody>\n",
              "</table>\n",
              "</div>\n",
              "      <button class=\"colab-df-convert\" onclick=\"convertToInteractive('df-3de1a9a6-fad3-40fa-9e06-ad92cefcaa06')\"\n",
              "              title=\"Convert this dataframe to an interactive table.\"\n",
              "              style=\"display:none;\">\n",
              "        \n",
              "  <svg xmlns=\"http://www.w3.org/2000/svg\" height=\"24px\"viewBox=\"0 0 24 24\"\n",
              "       width=\"24px\">\n",
              "    <path d=\"M0 0h24v24H0V0z\" fill=\"none\"/>\n",
              "    <path d=\"M18.56 5.44l.94 2.06.94-2.06 2.06-.94-2.06-.94-.94-2.06-.94 2.06-2.06.94zm-11 1L8.5 8.5l.94-2.06 2.06-.94-2.06-.94L8.5 2.5l-.94 2.06-2.06.94zm10 10l.94 2.06.94-2.06 2.06-.94-2.06-.94-.94-2.06-.94 2.06-2.06.94z\"/><path d=\"M17.41 7.96l-1.37-1.37c-.4-.4-.92-.59-1.43-.59-.52 0-1.04.2-1.43.59L10.3 9.45l-7.72 7.72c-.78.78-.78 2.05 0 2.83L4 21.41c.39.39.9.59 1.41.59.51 0 1.02-.2 1.41-.59l7.78-7.78 2.81-2.81c.8-.78.8-2.07 0-2.86zM5.41 20L4 18.59l7.72-7.72 1.47 1.35L5.41 20z\"/>\n",
              "  </svg>\n",
              "      </button>\n",
              "      \n",
              "  <style>\n",
              "    .colab-df-container {\n",
              "      display:flex;\n",
              "      flex-wrap:wrap;\n",
              "      gap: 12px;\n",
              "    }\n",
              "\n",
              "    .colab-df-convert {\n",
              "      background-color: #E8F0FE;\n",
              "      border: none;\n",
              "      border-radius: 50%;\n",
              "      cursor: pointer;\n",
              "      display: none;\n",
              "      fill: #1967D2;\n",
              "      height: 32px;\n",
              "      padding: 0 0 0 0;\n",
              "      width: 32px;\n",
              "    }\n",
              "\n",
              "    .colab-df-convert:hover {\n",
              "      background-color: #E2EBFA;\n",
              "      box-shadow: 0px 1px 2px rgba(60, 64, 67, 0.3), 0px 1px 3px 1px rgba(60, 64, 67, 0.15);\n",
              "      fill: #174EA6;\n",
              "    }\n",
              "\n",
              "    [theme=dark] .colab-df-convert {\n",
              "      background-color: #3B4455;\n",
              "      fill: #D2E3FC;\n",
              "    }\n",
              "\n",
              "    [theme=dark] .colab-df-convert:hover {\n",
              "      background-color: #434B5C;\n",
              "      box-shadow: 0px 1px 3px 1px rgba(0, 0, 0, 0.15);\n",
              "      filter: drop-shadow(0px 1px 2px rgba(0, 0, 0, 0.3));\n",
              "      fill: #FFFFFF;\n",
              "    }\n",
              "  </style>\n",
              "\n",
              "      <script>\n",
              "        const buttonEl =\n",
              "          document.querySelector('#df-3de1a9a6-fad3-40fa-9e06-ad92cefcaa06 button.colab-df-convert');\n",
              "        buttonEl.style.display =\n",
              "          google.colab.kernel.accessAllowed ? 'block' : 'none';\n",
              "\n",
              "        async function convertToInteractive(key) {\n",
              "          const element = document.querySelector('#df-3de1a9a6-fad3-40fa-9e06-ad92cefcaa06');\n",
              "          const dataTable =\n",
              "            await google.colab.kernel.invokeFunction('convertToInteractive',\n",
              "                                                     [key], {});\n",
              "          if (!dataTable) return;\n",
              "\n",
              "          const docLinkHtml = 'Like what you see? Visit the ' +\n",
              "            '<a target=\"_blank\" href=https://colab.research.google.com/notebooks/data_table.ipynb>data table notebook</a>'\n",
              "            + ' to learn more about interactive tables.';\n",
              "          element.innerHTML = '';\n",
              "          dataTable['output_type'] = 'display_data';\n",
              "          await google.colab.output.renderOutput(dataTable, element);\n",
              "          const docLink = document.createElement('div');\n",
              "          docLink.innerHTML = docLinkHtml;\n",
              "          element.appendChild(docLink);\n",
              "        }\n",
              "      </script>\n",
              "    </div>\n",
              "  </div>\n",
              "  "
            ],
            "text/plain": [
              "   sepal length (cm)  sepal width (cm)  ...  petal width (cm)  target\n",
              "0                5.1               3.5  ...               0.2       0\n",
              "1                4.9               3.0  ...               0.2       0\n",
              "2                4.7               3.2  ...               0.2       0\n",
              "3                4.6               3.1  ...               0.2       0\n",
              "4                5.0               3.6  ...               0.2       0\n",
              "\n",
              "[5 rows x 5 columns]"
            ]
          },
          "metadata": {},
          "execution_count": 74
        }
      ],
      "source": [
        "df.head()"
      ]
    },
    {
      "cell_type": "markdown",
      "metadata": {
        "id": "y3tSwldEVHtB"
      },
      "source": [
        "## 로드한 DataFrame 시각화"
      ]
    },
    {
      "cell_type": "code",
      "execution_count": 75,
      "metadata": {
        "id": "o03qBlDfVHtB"
      },
      "outputs": [],
      "source": [
        "import matplotlib.pyplot as plt\n",
        "import seaborn as sns"
      ]
    },
    {
      "cell_type": "markdown",
      "metadata": {
        "id": "8zx5YTVIVHtD"
      },
      "source": [
        "Sepal (꽃받침)의 길이 넓이에 따른 꽃의 종류가 어떻게 다르게 나오는지 살펴보겠습니다."
      ]
    },
    {
      "cell_type": "code",
      "execution_count": 76,
      "metadata": {
        "id": "_rp1kBIFVHtD",
        "colab": {
          "base_uri": "https://localhost:8080/",
          "height": 462
        },
        "outputId": "94f70405-476f-446b-8aaf-7d06eb4496b0"
      },
      "outputs": [
        {
          "output_type": "display_data",
          "data": {
            "image/png": "[encoded data removed]",
            "text/plain": [
              "<Figure size 720x504 with 1 Axes>"
            ]
          },
          "metadata": {
            "needs_background": "light"
          }
        }
      ],
      "source": [
        "plt.figure(figsize=(10, 7))\n",
        "sns.scatterplot(df.iloc[:, 0], df.iloc[:, 1], hue=df['target'], palette='muted')\n",
        "plt.title('Sepal', fontsize=17)\n",
        "plt.show()"
      ]
    },
    {
      "cell_type": "markdown",
      "metadata": {
        "id": "BJLhJI1UVHtF"
      },
      "source": [
        "이번에는, Petal (꽃잎)의 길이 넓이에 따른 꽃의 종류가 어떻게 다르게 나오는지 살펴보겠습니다."
      ]
    },
    {
      "cell_type": "code",
      "execution_count": 77,
      "metadata": {
        "id": "j7C_GSZlVHtF",
        "colab": {
          "base_uri": "https://localhost:8080/",
          "height": 462
        },
        "outputId": "ccbedc00-d361-4b40-b5f6-d3d2c064ee9c"
      },
      "outputs": [
        {
          "output_type": "display_data",
          "data": {
            "image/png": "[encoded data removed]",
            "text/plain": [
              "<Figure size 720x504 with 1 Axes>"
            ]
          },
          "metadata": {
            "needs_background": "light"
          }
        }
      ],
      "source": [
        "plt.figure(figsize=(10, 7))\n",
        "sns.scatterplot(df.iloc[:, 2], df.iloc[:, 3], hue=df['target'], palette='muted')\n",
        "plt.title('Petal', fontsize=17)\n",
        "plt.show()"
      ]
    },
    {
      "cell_type": "markdown",
      "metadata": {
        "id": "3HbnndwqVHtG"
      },
      "source": [
        "## 데이터 분할 (train_test_split)"
      ]
    },
    {
      "cell_type": "markdown",
      "metadata": {
        "id": "XcT3ocjaVHtH"
      },
      "source": [
        "기계학습에서 데이터 분할을 중요한 전처리 과정입니다.\n",
        "\n",
        "`sklearn.model_selection`의 `train_test_split`은 클래스 이름 그대로 **학습과 검증 (혹은 테스트) 셋**을 나누어 주는 역할을 합니다.\n",
        "\n",
        "학습 (Train) / 검증 (Validation or Test) 세트로 나누며, 검증 세트로 **과대 적합**여부를 모니터링 할 수 있습니다.\n",
        "\n",
        "또한, 검증 세트를 활용하여 모델의 성능 평가를 진행할 수 있습니다."
      ]
    },
    {
      "cell_type": "markdown",
      "metadata": {
        "id": "XsT10zvKVHtH"
      },
      "source": [
        "**샘플 데이터** 확인"
      ]
    },
    {
      "cell_type": "code",
      "execution_count": 78,
      "metadata": {
        "id": "DteaicwYVHtH",
        "colab": {
          "base_uri": "https://localhost:8080/",
          "height": 206
        },
        "outputId": "347ff9e2-a056-4a66-9062-e2a1c090653d"
      },
      "outputs": [
        {
          "output_type": "execute_result",
          "data": {
            "text/html": [
              "\n",
              "  <div id=\"df-3659ae90-60ac-48c1-8b1c-705a1de7e088\">\n",
              "    <div class=\"colab-df-container\">\n",
              "      <div>\n",
              "<style scoped>\n",
              "    .dataframe tbody tr th:only-of-type {\n",
              "        vertical-align: middle;\n",
              "    }\n",
              "\n",
              "    .dataframe tbody tr th {\n",
              "        vertical-align: top;\n",
              "    }\n",
              "\n",
              "    .dataframe thead th {\n",
              "        text-align: right;\n",
              "    }\n",
              "</style>\n",
              "<table border=\"1\" class=\"dataframe\">\n",
              "  <thead>\n",
              "    <tr style=\"text-align: right;\">\n",
              "      <th></th>\n",
              "      <th>sepal length (cm)</th>\n",
              "      <th>sepal width (cm)</th>\n",
              "      <th>petal length (cm)</th>\n",
              "      <th>petal width (cm)</th>\n",
              "      <th>target</th>\n",
              "    </tr>\n",
              "  </thead>\n",
              "  <tbody>\n",
              "    <tr>\n",
              "      <th>0</th>\n",
              "      <td>5.1</td>\n",
              "      <td>3.5</td>\n",
              "      <td>1.4</td>\n",
              "      <td>0.2</td>\n",
              "      <td>0</td>\n",
              "    </tr>\n",
              "    <tr>\n",
              "      <th>1</th>\n",
              "      <td>4.9</td>\n",
              "      <td>3.0</td>\n",
              "      <td>1.4</td>\n",
              "      <td>0.2</td>\n",
              "      <td>0</td>\n",
              "    </tr>\n",
              "    <tr>\n",
              "      <th>2</th>\n",
              "      <td>4.7</td>\n",
              "      <td>3.2</td>\n",
              "      <td>1.3</td>\n",
              "      <td>0.2</td>\n",
              "      <td>0</td>\n",
              "    </tr>\n",
              "    <tr>\n",
              "      <th>3</th>\n",
              "      <td>4.6</td>\n",
              "      <td>3.1</td>\n",
              "      <td>1.5</td>\n",
              "      <td>0.2</td>\n",
              "      <td>0</td>\n",
              "    </tr>\n",
              "    <tr>\n",
              "      <th>4</th>\n",
              "      <td>5.0</td>\n",
              "      <td>3.6</td>\n",
              "      <td>1.4</td>\n",
              "      <td>0.2</td>\n",
              "      <td>0</td>\n",
              "    </tr>\n",
              "  </tbody>\n",
              "</table>\n",
              "</div>\n",
              "      <button class=\"colab-df-convert\" onclick=\"convertToInteractive('df-3659ae90-60ac-48c1-8b1c-705a1de7e088')\"\n",
              "              title=\"Convert this dataframe to an interactive table.\"\n",
              "              style=\"display:none;\">\n",
              "        \n",
              "  <svg xmlns=\"http://www.w3.org/2000/svg\" height=\"24px\"viewBox=\"0 0 24 24\"\n",
              "       width=\"24px\">\n",
              "    <path d=\"M0 0h24v24H0V0z\" fill=\"none\"/>\n",
              "    <path d=\"M18.56 5.44l.94 2.06.94-2.06 2.06-.94-2.06-.94-.94-2.06-.94 2.06-2.06.94zm-11 1L8.5 8.5l.94-2.06 2.06-.94-2.06-.94L8.5 2.5l-.94 2.06-2.06.94zm10 10l.94 2.06.94-2.06 2.06-.94-2.06-.94-.94-2.06-.94 2.06-2.06.94z\"/><path d=\"M17.41 7.96l-1.37-1.37c-.4-.4-.92-.59-1.43-.59-.52 0-1.04.2-1.43.59L10.3 9.45l-7.72 7.72c-.78.78-.78 2.05 0 2.83L4 21.41c.39.39.9.59 1.41.59.51 0 1.02-.2 1.41-.59l7.78-7.78 2.81-2.81c.8-.78.8-2.07 0-2.86zM5.41 20L4 18.59l7.72-7.72 1.47 1.35L5.41 20z\"/>\n",
              "  </svg>\n",
              "      </button>\n",
              "      \n",
              "  <style>\n",
              "    .colab-df-container {\n",
              "      display:flex;\n",
              "      flex-wrap:wrap;\n",
              "      gap: 12px;\n",
              "    }\n",
              "\n",
              "    .colab-df-convert {\n",
              "      background-color: #E8F0FE;\n",
              "      border: none;\n",
              "      border-radius: 50%;\n",
              "      cursor: pointer;\n",
              "      display: none;\n",
              "      fill: #1967D2;\n",
              "      height: 32px;\n",
              "      padding: 0 0 0 0;\n",
              "      width: 32px;\n",
              "    }\n",
              "\n",
              "    .colab-df-convert:hover {\n",
              "      background-color: #E2EBFA;\n",
              "      box-shadow: 0px 1px 2px rgba(60, 64, 67, 0.3), 0px 1px 3px 1px rgba(60, 64, 67, 0.15);\n",
              "      fill: #174EA6;\n",
              "    }\n",
              "\n",
              "    [theme=dark] .colab-df-convert {\n",
              "      background-color: #3B4455;\n",
              "      fill: #D2E3FC;\n",
              "    }\n",
              "\n",
              "    [theme=dark] .colab-df-convert:hover {\n",
              "      background-color: #434B5C;\n",
              "      box-shadow: 0px 1px 3px 1px rgba(0, 0, 0, 0.15);\n",
              "      filter: drop-shadow(0px 1px 2px rgba(0, 0, 0, 0.3));\n",
              "      fill: #FFFFFF;\n",
              "    }\n",
              "  </style>\n",
              "\n",
              "      <script>\n",
              "        const buttonEl =\n",
              "          document.querySelector('#df-3659ae90-60ac-48c1-8b1c-705a1de7e088 button.colab-df-convert');\n",
              "        buttonEl.style.display =\n",
              "          google.colab.kernel.accessAllowed ? 'block' : 'none';\n",
              "\n",
              "        async function convertToInteractive(key) {\n",
              "          const element = document.querySelector('#df-3659ae90-60ac-48c1-8b1c-705a1de7e088');\n",
              "          const dataTable =\n",
              "            await google.colab.kernel.invokeFunction('convertToInteractive',\n",
              "                                                     [key], {});\n",
              "          if (!dataTable) return;\n",
              "\n",
              "          const docLinkHtml = 'Like what you see? Visit the ' +\n",
              "            '<a target=\"_blank\" href=https://colab.research.google.com/notebooks/data_table.ipynb>data table notebook</a>'\n",
              "            + ' to learn more about interactive tables.';\n",
              "          element.innerHTML = '';\n",
              "          dataTable['output_type'] = 'display_data';\n",
              "          await google.colab.output.renderOutput(dataTable, element);\n",
              "          const docLink = document.createElement('div');\n",
              "          docLink.innerHTML = docLinkHtml;\n",
              "          element.appendChild(docLink);\n",
              "        }\n",
              "      </script>\n",
              "    </div>\n",
              "  </div>\n",
              "  "
            ],
            "text/plain": [
              "   sepal length (cm)  sepal width (cm)  ...  petal width (cm)  target\n",
              "0                5.1               3.5  ...               0.2       0\n",
              "1                4.9               3.0  ...               0.2       0\n",
              "2                4.7               3.2  ...               0.2       0\n",
              "3                4.6               3.1  ...               0.2       0\n",
              "4                5.0               3.6  ...               0.2       0\n",
              "\n",
              "[5 rows x 5 columns]"
            ]
          },
          "metadata": {},
          "execution_count": 78
        }
      ],
      "source": [
        "df.head()"
      ]
    },
    {
      "cell_type": "markdown",
      "metadata": {
        "id": "97ikSKUZVHtJ"
      },
      "source": [
        "feature(x), label(y) 데이터를 분할 합니다."
      ]
    },
    {
      "cell_type": "code",
      "execution_count": 79,
      "metadata": {
        "id": "2UsjQAB_VHtJ"
      },
      "outputs": [],
      "source": [
        "from sklearn.model_selection import train_test_split"
      ]
    },
    {
      "cell_type": "markdown",
      "metadata": {
        "id": "N-bMhQIZT27_"
      },
      "source": [
        "`target` 변수를 제외한 나머지 컬럼은 `x`변수에 대입합니다."
      ]
    },
    {
      "cell_type": "code",
      "execution_count": 80,
      "metadata": {
        "id": "8zrHbppMVHtL",
        "colab": {
          "base_uri": "https://localhost:8080/",
          "height": 206
        },
        "outputId": "715ba90e-8eae-4503-e058-df251bdc3960"
      },
      "outputs": [
        {
          "output_type": "execute_result",
          "data": {
            "text/html": [
              "\n",
              "  <div id=\"df-99fe6938-2227-40c5-8a22-30feb2643155\">\n",
              "    <div class=\"colab-df-container\">\n",
              "      <div>\n",
              "<style scoped>\n",
              "    .dataframe tbody tr th:only-of-type {\n",
              "        vertical-align: middle;\n",
              "    }\n",
              "\n",
              "    .dataframe tbody tr th {\n",
              "        vertical-align: top;\n",
              "    }\n",
              "\n",
              "    .dataframe thead th {\n",
              "        text-align: right;\n",
              "    }\n",
              "</style>\n",
              "<table border=\"1\" class=\"dataframe\">\n",
              "  <thead>\n",
              "    <tr style=\"text-align: right;\">\n",
              "      <th></th>\n",
              "      <th>sepal length (cm)</th>\n",
              "      <th>sepal width (cm)</th>\n",
              "      <th>petal length (cm)</th>\n",
              "      <th>petal width (cm)</th>\n",
              "    </tr>\n",
              "  </thead>\n",
              "  <tbody>\n",
              "    <tr>\n",
              "      <th>0</th>\n",
              "      <td>5.1</td>\n",
              "      <td>3.5</td>\n",
              "      <td>1.4</td>\n",
              "      <td>0.2</td>\n",
              "    </tr>\n",
              "    <tr>\n",
              "      <th>1</th>\n",
              "      <td>4.9</td>\n",
              "      <td>3.0</td>\n",
              "      <td>1.4</td>\n",
              "      <td>0.2</td>\n",
              "    </tr>\n",
              "    <tr>\n",
              "      <th>2</th>\n",
              "      <td>4.7</td>\n",
              "      <td>3.2</td>\n",
              "      <td>1.3</td>\n",
              "      <td>0.2</td>\n",
              "    </tr>\n",
              "    <tr>\n",
              "      <th>3</th>\n",
              "      <td>4.6</td>\n",
              "      <td>3.1</td>\n",
              "      <td>1.5</td>\n",
              "      <td>0.2</td>\n",
              "    </tr>\n",
              "    <tr>\n",
              "      <th>4</th>\n",
              "      <td>5.0</td>\n",
              "      <td>3.6</td>\n",
              "      <td>1.4</td>\n",
              "      <td>0.2</td>\n",
              "    </tr>\n",
              "  </tbody>\n",
              "</table>\n",
              "</div>\n",
              "      <button class=\"colab-df-convert\" onclick=\"convertToInteractive('df-99fe6938-2227-40c5-8a22-30feb2643155')\"\n",
              "              title=\"Convert this dataframe to an interactive table.\"\n",
              "              style=\"display:none;\">\n",
              "        \n",
              "  <svg xmlns=\"http://www.w3.org/2000/svg\" height=\"24px\"viewBox=\"0 0 24 24\"\n",
              "       width=\"24px\">\n",
              "    <path d=\"M0 0h24v24H0V0z\" fill=\"none\"/>\n",
              "    <path d=\"M18.56 5.44l.94 2.06.94-2.06 2.06-.94-2.06-.94-.94-2.06-.94 2.06-2.06.94zm-11 1L8.5 8.5l.94-2.06 2.06-.94-2.06-.94L8.5 2.5l-.94 2.06-2.06.94zm10 10l.94 2.06.94-2.06 2.06-.94-2.06-.94-.94-2.06-.94 2.06-2.06.94z\"/><path d=\"M17.41 7.96l-1.37-1.37c-.4-.4-.92-.59-1.43-.59-.52 0-1.04.2-1.43.59L10.3 9.45l-7.72 7.72c-.78.78-.78 2.05 0 2.83L4 21.41c.39.39.9.59 1.41.59.51 0 1.02-.2 1.41-.59l7.78-7.78 2.81-2.81c.8-.78.8-2.07 0-2.86zM5.41 20L4 18.59l7.72-7.72 1.47 1.35L5.41 20z\"/>\n",
              "  </svg>\n",
              "      </button>\n",
              "      \n",
              "  <style>\n",
              "    .colab-df-container {\n",
              "      display:flex;\n",
              "      flex-wrap:wrap;\n",
              "      gap: 12px;\n",
              "    }\n",
              "\n",
              "    .colab-df-convert {\n",
              "      background-color: #E8F0FE;\n",
              "      border: none;\n",
              "      border-radius: 50%;\n",
              "      cursor: pointer;\n",
              "      display: none;\n",
              "      fill: #1967D2;\n",
              "      height: 32px;\n",
              "      padding: 0 0 0 0;\n",
              "      width: 32px;\n",
              "    }\n",
              "\n",
              "    .colab-df-convert:hover {\n",
              "      background-color: #E2EBFA;\n",
              "      box-shadow: 0px 1px 2px rgba(60, 64, 67, 0.3), 0px 1px 3px 1px rgba(60, 64, 67, 0.15);\n",
              "      fill: #174EA6;\n",
              "    }\n",
              "\n",
              "    [theme=dark] .colab-df-convert {\n",
              "      background-color: #3B4455;\n",
              "      fill: #D2E3FC;\n",
              "    }\n",
              "\n",
              "    [theme=dark] .colab-df-convert:hover {\n",
              "      background-color: #434B5C;\n",
              "      box-shadow: 0px 1px 3px 1px rgba(0, 0, 0, 0.15);\n",
              "      filter: drop-shadow(0px 1px 2px rgba(0, 0, 0, 0.3));\n",
              "      fill: #FFFFFF;\n",
              "    }\n",
              "  </style>\n",
              "\n",
              "      <script>\n",
              "        const buttonEl =\n",
              "          document.querySelector('#df-99fe6938-2227-40c5-8a22-30feb2643155 button.colab-df-convert');\n",
              "        buttonEl.style.display =\n",
              "          google.colab.kernel.accessAllowed ? 'block' : 'none';\n",
              "\n",
              "        async function convertToInteractive(key) {\n",
              "          const element = document.querySelector('#df-99fe6938-2227-40c5-8a22-30feb2643155');\n",
              "          const dataTable =\n",
              "            await google.colab.kernel.invokeFunction('convertToInteractive',\n",
              "                                                     [key], {});\n",
              "          if (!dataTable) return;\n",
              "\n",
              "          const docLinkHtml = 'Like what you see? Visit the ' +\n",
              "            '<a target=\"_blank\" href=https://colab.research.google.com/notebooks/data_table.ipynb>data table notebook</a>'\n",
              "            + ' to learn more about interactive tables.';\n",
              "          element.innerHTML = '';\n",
              "          dataTable['output_type'] = 'display_data';\n",
              "          await google.colab.output.renderOutput(dataTable, element);\n",
              "          const docLink = document.createElement('div');\n",
              "          docLink.innerHTML = docLinkHtml;\n",
              "          element.appendChild(docLink);\n",
              "        }\n",
              "      </script>\n",
              "    </div>\n",
              "  </div>\n",
              "  "
            ],
            "text/plain": [
              "   sepal length (cm)  sepal width (cm)  petal length (cm)  petal width (cm)\n",
              "0                5.1               3.5                1.4               0.2\n",
              "1                4.9               3.0                1.4               0.2\n",
              "2                4.7               3.2                1.3               0.2\n",
              "3                4.6               3.1                1.5               0.2\n",
              "4                5.0               3.6                1.4               0.2"
            ]
          },
          "metadata": {},
          "execution_count": 80
        }
      ],
      "source": [
        "x = df.iloc[:, :4]\n",
        "x.head()"
      ]
    },
    {
      "cell_type": "markdown",
      "metadata": {
        "id": "i3aF2-_TT28D"
      },
      "source": [
        "`y`변수에 `df['target']`을 대입합니다."
      ]
    },
    {
      "cell_type": "code",
      "execution_count": 81,
      "metadata": {
        "id": "IUEXvXrHVHtN",
        "colab": {
          "base_uri": "https://localhost:8080/"
        },
        "outputId": "29c6364d-f4f0-4e96-8b87-45e3d814cc03"
      },
      "outputs": [
        {
          "output_type": "execute_result",
          "data": {
            "text/plain": [
              "0    0\n",
              "1    0\n",
              "2    0\n",
              "3    0\n",
              "4    0\n",
              "Name: target, dtype: int64"
            ]
          },
          "metadata": {},
          "execution_count": 81
        }
      ],
      "source": [
        "y = df['target']\n",
        "y.head()"
      ]
    },
    {
      "cell_type": "markdown",
      "metadata": {
        "id": "ngzgraw8VHtO"
      },
      "source": [
        "**주요 hyperparameter**\n",
        "\n",
        "* `test_size`: validation set에 할당할 비율 (20% -> 0.2), 기본값 0.25\n",
        "* `stratify`: 분할된 샘플의 class 갯수가 동일한 비율로 유지\n",
        "* `random_state`: 랜덤 시드값\n",
        "* `shuffle`: 셔플 옵션, 기본값 True"
      ]
    },
    {
      "cell_type": "code",
      "execution_count": 82,
      "metadata": {
        "id": "NIBiAgQ2VHtP"
      },
      "outputs": [],
      "source": [
        "x_train, x_test, y_train, y_test = train_test_split(x, y, stratify=y, test_size=0.2, random_state=123)"
      ]
    },
    {
      "cell_type": "markdown",
      "metadata": {
        "id": "9fRnoCZRVHtQ"
      },
      "source": [
        "원본 **x**의 shape"
      ]
    },
    {
      "cell_type": "code",
      "execution_count": 83,
      "metadata": {
        "id": "WL6PrNo2VHtQ",
        "colab": {
          "base_uri": "https://localhost:8080/"
        },
        "outputId": "75c14fcd-38ce-4904-e4f4-aa135f1f2379"
      },
      "outputs": [
        {
          "output_type": "execute_result",
          "data": {
            "text/plain": [
              "(150, 4)"
            ]
          },
          "metadata": {},
          "execution_count": 83
        }
      ],
      "source": [
        "x.shape"
      ]
    },
    {
      "cell_type": "markdown",
      "metadata": {
        "id": "Qg4I8KQPVHtS"
      },
      "source": [
        "분할된 **x**의 shape"
      ]
    },
    {
      "cell_type": "code",
      "execution_count": 84,
      "metadata": {
        "id": "Ooxc5_A1VHtS",
        "colab": {
          "base_uri": "https://localhost:8080/"
        },
        "outputId": "8831146f-67ac-4e36-c301-48dd58a60455"
      },
      "outputs": [
        {
          "output_type": "execute_result",
          "data": {
            "text/plain": [
              "((120, 4), (30, 4))"
            ]
          },
          "metadata": {},
          "execution_count": 84
        }
      ],
      "source": [
        "x_train.shape, x_test.shape"
      ]
    },
    {
      "cell_type": "markdown",
      "metadata": {
        "id": "AyXMXu42VHtU"
      },
      "source": [
        "원본 **y**의 shape"
      ]
    },
    {
      "cell_type": "code",
      "execution_count": 85,
      "metadata": {
        "id": "KHdXNu-HVHtU",
        "colab": {
          "base_uri": "https://localhost:8080/"
        },
        "outputId": "68b6999c-4eb9-4911-ec62-504aade3e430"
      },
      "outputs": [
        {
          "output_type": "execute_result",
          "data": {
            "text/plain": [
              "(150,)"
            ]
          },
          "metadata": {},
          "execution_count": 85
        }
      ],
      "source": [
        "y.shape"
      ]
    },
    {
      "cell_type": "markdown",
      "metadata": {
        "id": "Kx-sZ5RXVHtW"
      },
      "source": [
        "분할된 **y**의 shape"
      ]
    },
    {
      "cell_type": "code",
      "execution_count": 86,
      "metadata": {
        "id": "T9EmqpauVHtW",
        "colab": {
          "base_uri": "https://localhost:8080/"
        },
        "outputId": "57a81c65-44f6-4fef-90b7-8ada67c4d8a0"
      },
      "outputs": [
        {
          "output_type": "execute_result",
          "data": {
            "text/plain": [
              "((120,), (30,))"
            ]
          },
          "metadata": {},
          "execution_count": 86
        }
      ],
      "source": [
        "y_train.shape, y_test.shape"
      ]
    },
    {
      "cell_type": "markdown",
      "metadata": {
        "id": "FcPBQKHWT28T"
      },
      "source": [
        "## 연습문제"
      ]
    },
    {
      "cell_type": "markdown",
      "metadata": {
        "id": "bZeTmyQvT28T"
      },
      "source": [
        "wine 데이터셋을 불러와 로드 하고 데이터셋을 분할 합니다."
      ]
    },
    {
      "cell_type": "code",
      "execution_count": 87,
      "metadata": {
        "id": "Ey-GdG9dT28U"
      },
      "outputs": [],
      "source": [
        "# 와인 데이터 로드\n",
        "from sklearn.datasets import load_wine"
      ]
    },
    {
      "cell_type": "markdown",
      "metadata": {
        "id": "TKqAxj4XT28U"
      },
      "source": [
        "`wine` 변수에 `load_wine()` 결과 대입"
      ]
    },
    {
      "cell_type": "code",
      "execution_count": 88,
      "metadata": {
        "id": "1-Ae_pa5T28V"
      },
      "outputs": [],
      "source": [
        "# 코드를 입력해 주세요\n",
        "wine = load_wine()"
      ]
    },
    {
      "cell_type": "markdown",
      "metadata": {
        "id": "483T83qAT28V"
      },
      "source": [
        "- `df` 변수에 데이터 프레임 생성\n",
        "- column 지정 및 target 컬럼 생성"
      ]
    },
    {
      "cell_type": "code",
      "execution_count": 89,
      "metadata": {
        "id": "VDzCUXcqT28V",
        "colab": {
          "base_uri": "https://localhost:8080/",
          "height": 270
        },
        "outputId": "388e934f-4f6d-4d83-cdf6-80f5cf23a9da"
      },
      "outputs": [
        {
          "output_type": "execute_result",
          "data": {
            "text/html": [
              "\n",
              "  <div id=\"df-59c17d01-0c4b-434f-bab7-740d40a6291e\">\n",
              "    <div class=\"colab-df-container\">\n",
              "      <div>\n",
              "<style scoped>\n",
              "    .dataframe tbody tr th:only-of-type {\n",
              "        vertical-align: middle;\n",
              "    }\n",
              "\n",
              "    .dataframe tbody tr th {\n",
              "        vertical-align: top;\n",
              "    }\n",
              "\n",
              "    .dataframe thead th {\n",
              "        text-align: right;\n",
              "    }\n",
              "</style>\n",
              "<table border=\"1\" class=\"dataframe\">\n",
              "  <thead>\n",
              "    <tr style=\"text-align: right;\">\n",
              "      <th></th>\n",
              "      <th>alcohol</th>\n",
              "      <th>malic_acid</th>\n",
              "      <th>ash</th>\n",
              "      <th>alcalinity_of_ash</th>\n",
              "      <th>magnesium</th>\n",
              "      <th>total_phenols</th>\n",
              "      <th>flavanoids</th>\n",
              "      <th>nonflavanoid_phenols</th>\n",
              "      <th>proanthocyanins</th>\n",
              "      <th>color_intensity</th>\n",
              "      <th>hue</th>\n",
              "      <th>od280/od315_of_diluted_wines</th>\n",
              "      <th>proline</th>\n",
              "      <th>target</th>\n",
              "    </tr>\n",
              "  </thead>\n",
              "  <tbody>\n",
              "    <tr>\n",
              "      <th>0</th>\n",
              "      <td>14.23</td>\n",
              "      <td>1.71</td>\n",
              "      <td>2.43</td>\n",
              "      <td>15.6</td>\n",
              "      <td>127.0</td>\n",
              "      <td>2.80</td>\n",
              "      <td>3.06</td>\n",
              "      <td>0.28</td>\n",
              "      <td>2.29</td>\n",
              "      <td>5.64</td>\n",
              "      <td>1.04</td>\n",
              "      <td>3.92</td>\n",
              "      <td>1065.0</td>\n",
              "      <td>0</td>\n",
              "    </tr>\n",
              "    <tr>\n",
              "      <th>1</th>\n",
              "      <td>13.20</td>\n",
              "      <td>1.78</td>\n",
              "      <td>2.14</td>\n",
              "      <td>11.2</td>\n",
              "      <td>100.0</td>\n",
              "      <td>2.65</td>\n",
              "      <td>2.76</td>\n",
              "      <td>0.26</td>\n",
              "      <td>1.28</td>\n",
              "      <td>4.38</td>\n",
              "      <td>1.05</td>\n",
              "      <td>3.40</td>\n",
              "      <td>1050.0</td>\n",
              "      <td>0</td>\n",
              "    </tr>\n",
              "    <tr>\n",
              "      <th>2</th>\n",
              "      <td>13.16</td>\n",
              "      <td>2.36</td>\n",
              "      <td>2.67</td>\n",
              "      <td>18.6</td>\n",
              "      <td>101.0</td>\n",
              "      <td>2.80</td>\n",
              "      <td>3.24</td>\n",
              "      <td>0.30</td>\n",
              "      <td>2.81</td>\n",
              "      <td>5.68</td>\n",
              "      <td>1.03</td>\n",
              "      <td>3.17</td>\n",
              "      <td>1185.0</td>\n",
              "      <td>0</td>\n",
              "    </tr>\n",
              "    <tr>\n",
              "      <th>3</th>\n",
              "      <td>14.37</td>\n",
              "      <td>1.95</td>\n",
              "      <td>2.50</td>\n",
              "      <td>16.8</td>\n",
              "      <td>113.0</td>\n",
              "      <td>3.85</td>\n",
              "      <td>3.49</td>\n",
              "      <td>0.24</td>\n",
              "      <td>2.18</td>\n",
              "      <td>7.80</td>\n",
              "      <td>0.86</td>\n",
              "      <td>3.45</td>\n",
              "      <td>1480.0</td>\n",
              "      <td>0</td>\n",
              "    </tr>\n",
              "    <tr>\n",
              "      <th>4</th>\n",
              "      <td>13.24</td>\n",
              "      <td>2.59</td>\n",
              "      <td>2.87</td>\n",
              "      <td>21.0</td>\n",
              "      <td>118.0</td>\n",
              "      <td>2.80</td>\n",
              "      <td>2.69</td>\n",
              "      <td>0.39</td>\n",
              "      <td>1.82</td>\n",
              "      <td>4.32</td>\n",
              "      <td>1.04</td>\n",
              "      <td>2.93</td>\n",
              "      <td>735.0</td>\n",
              "      <td>0</td>\n",
              "    </tr>\n",
              "  </tbody>\n",
              "</table>\n",
              "</div>\n",
              "      <button class=\"colab-df-convert\" onclick=\"convertToInteractive('df-59c17d01-0c4b-434f-bab7-740d40a6291e')\"\n",
              "              title=\"Convert this dataframe to an interactive table.\"\n",
              "              style=\"display:none;\">\n",
              "        \n",
              "  <svg xmlns=\"http://www.w3.org/2000/svg\" height=\"24px\"viewBox=\"0 0 24 24\"\n",
              "       width=\"24px\">\n",
              "    <path d=\"M0 0h24v24H0V0z\" fill=\"none\"/>\n",
              "    <path d=\"M18.56 5.44l.94 2.06.94-2.06 2.06-.94-2.06-.94-.94-2.06-.94 2.06-2.06.94zm-11 1L8.5 8.5l.94-2.06 2.06-.94-2.06-.94L8.5 2.5l-.94 2.06-2.06.94zm10 10l.94 2.06.94-2.06 2.06-.94-2.06-.94-.94-2.06-.94 2.06-2.06.94z\"/><path d=\"M17.41 7.96l-1.37-1.37c-.4-.4-.92-.59-1.43-.59-.52 0-1.04.2-1.43.59L10.3 9.45l-7.72 7.72c-.78.78-.78 2.05 0 2.83L4 21.41c.39.39.9.59 1.41.59.51 0 1.02-.2 1.41-.59l7.78-7.78 2.81-2.81c.8-.78.8-2.07 0-2.86zM5.41 20L4 18.59l7.72-7.72 1.47 1.35L5.41 20z\"/>\n",
              "  </svg>\n",
              "      </button>\n",
              "      \n",
              "  <style>\n",
              "    .colab-df-container {\n",
              "      display:flex;\n",
              "      flex-wrap:wrap;\n",
              "      gap: 12px;\n",
              "    }\n",
              "\n",
              "    .colab-df-convert {\n",
              "      background-color: #E8F0FE;\n",
              "      border: none;\n",
              "      border-radius: 50%;\n",
              "      cursor: pointer;\n",
              "      display: none;\n",
              "      fill: #1967D2;\n",
              "      height: 32px;\n",
              "      padding: 0 0 0 0;\n",
              "      width: 32px;\n",
              "    }\n",
              "\n",
              "    .colab-df-convert:hover {\n",
              "      background-color: #E2EBFA;\n",
              "      box-shadow: 0px 1px 2px rgba(60, 64, 67, 0.3), 0px 1px 3px 1px rgba(60, 64, 67, 0.15);\n",
              "      fill: #174EA6;\n",
              "    }\n",
              "\n",
              "    [theme=dark] .colab-df-convert {\n",
              "      background-color: #3B4455;\n",
              "      fill: #D2E3FC;\n",
              "    }\n",
              "\n",
              "    [theme=dark] .colab-df-convert:hover {\n",
              "      background-color: #434B5C;\n",
              "      box-shadow: 0px 1px 3px 1px rgba(0, 0, 0, 0.15);\n",
              "      filter: drop-shadow(0px 1px 2px rgba(0, 0, 0, 0.3));\n",
              "      fill: #FFFFFF;\n",
              "    }\n",
              "  </style>\n",
              "\n",
              "      <script>\n",
              "        const buttonEl =\n",
              "          document.querySelector('#df-59c17d01-0c4b-434f-bab7-740d40a6291e button.colab-df-convert');\n",
              "        buttonEl.style.display =\n",
              "          google.colab.kernel.accessAllowed ? 'block' : 'none';\n",
              "\n",
              "        async function convertToInteractive(key) {\n",
              "          const element = document.querySelector('#df-59c17d01-0c4b-434f-bab7-740d40a6291e');\n",
              "          const dataTable =\n",
              "            await google.colab.kernel.invokeFunction('convertToInteractive',\n",
              "                                                     [key], {});\n",
              "          if (!dataTable) return;\n",
              "\n",
              "          const docLinkHtml = 'Like what you see? Visit the ' +\n",
              "            '<a target=\"_blank\" href=https://colab.research.google.com/notebooks/data_table.ipynb>data table notebook</a>'\n",
              "            + ' to learn more about interactive tables.';\n",
              "          element.innerHTML = '';\n",
              "          dataTable['output_type'] = 'display_data';\n",
              "          await google.colab.output.renderOutput(dataTable, element);\n",
              "          const docLink = document.createElement('div');\n",
              "          docLink.innerHTML = docLinkHtml;\n",
              "          element.appendChild(docLink);\n",
              "        }\n",
              "      </script>\n",
              "    </div>\n",
              "  </div>\n",
              "  "
            ],
            "text/plain": [
              "   alcohol  malic_acid   ash  ...  od280/od315_of_diluted_wines  proline  target\n",
              "0    14.23        1.71  2.43  ...                          3.92   1065.0       0\n",
              "1    13.20        1.78  2.14  ...                          3.40   1050.0       0\n",
              "2    13.16        2.36  2.67  ...                          3.17   1185.0       0\n",
              "3    14.37        1.95  2.50  ...                          3.45   1480.0       0\n",
              "4    13.24        2.59  2.87  ...                          2.93    735.0       0\n",
              "\n",
              "[5 rows x 14 columns]"
            ]
          },
          "metadata": {},
          "execution_count": 89
        }
      ],
      "source": [
        "# 코드를 입력해 주세요\n",
        "features = wine['data']\n",
        "feature_names = wine['feature_names']\n",
        "labels = wine['target']\n",
        "\n",
        "df = pd.DataFrame(features, columns=feature_names)\n",
        "\n",
        "df['target'] = wine['target']\n",
        "df.head()"
      ]
    },
    {
      "cell_type": "markdown",
      "metadata": {
        "id": "YIMJfomYT28W"
      },
      "source": [
        "<p><strong>[출력 결과]</strong></p><div>\n",
        "<style scoped>\n",
        "    .dataframe tbody tr th:only-of-type {\n",
        "        vertical-align: middle;\n",
        "    }\n",
        "\n",
        "    .dataframe tbody tr th {\n",
        "        vertical-align: top;\n",
        "    }\n",
        "\n",
        "    .dataframe thead th {\n",
        "        text-align: right;\n",
        "    }\n",
        "</style>\n",
        "<table border=\"1\" class=\"dataframe\">\n",
        "  <thead>\n",
        "    <tr style=\"text-align: right;\">\n",
        "      <th></th>\n",
        "      <th>alcohol</th>\n",
        "      <th>malic_acid</th>\n",
        "      <th>ash</th>\n",
        "      <th>alcalinity_of_ash</th>\n",
        "      <th>magnesium</th>\n",
        "      <th>total_phenols</th>\n",
        "      <th>flavanoids</th>\n",
        "      <th>nonflavanoid_phenols</th>\n",
        "      <th>proanthocyanins</th>\n",
        "      <th>color_intensity</th>\n",
        "      <th>hue</th>\n",
        "      <th>od280/od315_of_diluted_wines</th>\n",
        "      <th>proline</th>\n",
        "      <th>target</th>\n",
        "    </tr>\n",
        "  </thead>\n",
        "  <tbody>\n",
        "    <tr>\n",
        "      <th>0</th>\n",
        "      <td>14.23</td>\n",
        "      <td>1.71</td>\n",
        "      <td>2.43</td>\n",
        "      <td>15.6</td>\n",
        "      <td>127.0</td>\n",
        "      <td>2.80</td>\n",
        "      <td>3.06</td>\n",
        "      <td>0.28</td>\n",
        "      <td>2.29</td>\n",
        "      <td>5.64</td>\n",
        "      <td>1.04</td>\n",
        "      <td>3.92</td>\n",
        "      <td>1065.0</td>\n",
        "      <td>0</td>\n",
        "    </tr>\n",
        "    <tr>\n",
        "      <th>1</th>\n",
        "      <td>13.20</td>\n",
        "      <td>1.78</td>\n",
        "      <td>2.14</td>\n",
        "      <td>11.2</td>\n",
        "      <td>100.0</td>\n",
        "      <td>2.65</td>\n",
        "      <td>2.76</td>\n",
        "      <td>0.26</td>\n",
        "      <td>1.28</td>\n",
        "      <td>4.38</td>\n",
        "      <td>1.05</td>\n",
        "      <td>3.40</td>\n",
        "      <td>1050.0</td>\n",
        "      <td>0</td>\n",
        "    </tr>\n",
        "    <tr>\n",
        "      <th>2</th>\n",
        "      <td>13.16</td>\n",
        "      <td>2.36</td>\n",
        "      <td>2.67</td>\n",
        "      <td>18.6</td>\n",
        "      <td>101.0</td>\n",
        "      <td>2.80</td>\n",
        "      <td>3.24</td>\n",
        "      <td>0.30</td>\n",
        "      <td>2.81</td>\n",
        "      <td>5.68</td>\n",
        "      <td>1.03</td>\n",
        "      <td>3.17</td>\n",
        "      <td>1185.0</td>\n",
        "      <td>0</td>\n",
        "    </tr>\n",
        "    <tr>\n",
        "      <th>3</th>\n",
        "      <td>14.37</td>\n",
        "      <td>1.95</td>\n",
        "      <td>2.50</td>\n",
        "      <td>16.8</td>\n",
        "      <td>113.0</td>\n",
        "      <td>3.85</td>\n",
        "      <td>3.49</td>\n",
        "      <td>0.24</td>\n",
        "      <td>2.18</td>\n",
        "      <td>7.80</td>\n",
        "      <td>0.86</td>\n",
        "      <td>3.45</td>\n",
        "      <td>1480.0</td>\n",
        "      <td>0</td>\n",
        "    </tr>\n",
        "    <tr>\n",
        "      <th>4</th>\n",
        "      <td>13.24</td>\n",
        "      <td>2.59</td>\n",
        "      <td>2.87</td>\n",
        "      <td>21.0</td>\n",
        "      <td>118.0</td>\n",
        "      <td>2.80</td>\n",
        "      <td>2.69</td>\n",
        "      <td>0.39</td>\n",
        "      <td>1.82</td>\n",
        "      <td>4.32</td>\n",
        "      <td>1.04</td>\n",
        "      <td>2.93</td>\n",
        "      <td>735.0</td>\n",
        "      <td>0</td>\n",
        "    </tr>\n",
        "  </tbody>\n",
        "</table>\n",
        "</div>"
      ]
    },
    {
      "cell_type": "markdown",
      "metadata": {
        "id": "wxShG-PUT28X"
      },
      "source": [
        "생성한 데이터프레임 shape 확인"
      ]
    },
    {
      "cell_type": "code",
      "execution_count": 90,
      "metadata": {
        "id": "jfWJms3_T28X",
        "colab": {
          "base_uri": "https://localhost:8080/"
        },
        "outputId": "bc065f18-d606-4637-857b-9b73f3794a7c"
      },
      "outputs": [
        {
          "output_type": "execute_result",
          "data": {
            "text/plain": [
              "(178, 14)"
            ]
          },
          "metadata": {},
          "execution_count": 90
        }
      ],
      "source": [
        "# 코드를 입력해 주세요\n",
        "df.shape"
      ]
    },
    {
      "cell_type": "markdown",
      "metadata": {
        "id": "QO2LIUAPT28X"
      },
      "source": [
        "<p><strong>[출력 결과]</strong></p><pre>(178, 14)</pre>"
      ]
    },
    {
      "cell_type": "markdown",
      "metadata": {
        "id": "vXpvkoD3T28Y"
      },
      "source": [
        "target의 분포 확인"
      ]
    },
    {
      "cell_type": "code",
      "execution_count": 91,
      "metadata": {
        "id": "1ca0d7gNT28Y",
        "colab": {
          "base_uri": "https://localhost:8080/"
        },
        "outputId": "17c2af9c-1e66-4c5d-f4a9-5baad1b5e182"
      },
      "outputs": [
        {
          "output_type": "execute_result",
          "data": {
            "text/plain": [
              "1    71\n",
              "0    59\n",
              "2    48\n",
              "Name: target, dtype: int64"
            ]
          },
          "metadata": {},
          "execution_count": 91
        }
      ],
      "source": [
        "# 코드를 입력해 주세요\n",
        "y = df['target']\n",
        "y.value_counts()"
      ]
    },
    {
      "cell_type": "markdown",
      "metadata": {
        "id": "vBeJ5XtsT28Y"
      },
      "source": [
        "<p><strong>[출력 결과]</strong></p><pre>1    71\n",
        "0    59\n",
        "2    48\n",
        "Name: target, dtype: int64</pre>"
      ]
    },
    {
      "cell_type": "markdown",
      "metadata": {
        "id": "m8EiarYfT28Z"
      },
      "source": [
        "`countplot()` 으로 target의 분포 확인"
      ]
    },
    {
      "cell_type": "code",
      "execution_count": 92,
      "metadata": {
        "id": "CFKcy1TuT28Z",
        "colab": {
          "base_uri": "https://localhost:8080/",
          "height": 297
        },
        "outputId": "9861ddd3-c6c4-4bb0-f4d5-3f2c8044c081"
      },
      "outputs": [
        {
          "output_type": "execute_result",
          "data": {
            "text/plain": [
              "<matplotlib.axes._subplots.AxesSubplot at 0x7f4f4c073f10>"
            ]
          },
          "metadata": {},
          "execution_count": 92
        },
        {
          "output_type": "display_data",
          "data": {
            "image/png": "[encoded data removed]",
            "text/plain": [
              "<Figure size 432x288 with 1 Axes>"
            ]
          },
          "metadata": {
            "needs_background": "light"
          }
        }
      ],
      "source": [
        "# 코드를 입력해 주세요\n",
        "sns.countplot(df['target'])"
      ]
    },
    {
      "cell_type": "markdown",
      "metadata": {
        "id": "CCgmvwzvT28a"
      },
      "source": [
        "<p><strong>[출력 결과]</strong></p><pre><AxesSubplot:xlabel='target', ylabel='count'></pre>"
      ]
    },
    {
      "cell_type": "markdown",
      "metadata": {
        "id": "FULJ4m3GT28a"
      },
      "source": [
        "<img src=\"data:image/png;base64,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\"/>"
      ]
    },
    {
      "cell_type": "markdown",
      "metadata": {
        "id": "-Z7RlA-5T28b"
      },
      "source": [
        "- x_train, x_test, y_train, y_test 에 분할\n",
        "- test_size=0.2\n",
        "- random_state=123\n",
        "- `stratify` 옵션 지정"
      ]
    },
    {
      "cell_type": "markdown",
      "metadata": {
        "id": "bBSZSCsqT28b"
      },
      "source": [
        "<p><strong>[출력 결과]</strong></p><pre><Figure size 432x288 with 1 Axes></pre>"
      ]
    },
    {
      "cell_type": "code",
      "source": [
        "x = df.iloc[:, :13]\n",
        "x.head()"
      ],
      "metadata": {
        "colab": {
          "base_uri": "https://localhost:8080/",
          "height": 270
        },
        "id": "62OOrg9JXG-N",
        "outputId": "7aa4db2a-fe47-4473-dcb3-5874a18d247b"
      },
      "execution_count": 93,
      "outputs": [
        {
          "output_type": "execute_result",
          "data": {
            "text/html": [
              "\n",
              "  <div id=\"df-1444d3de-906e-472e-b759-28e0d988e47a\">\n",
              "    <div class=\"colab-df-container\">\n",
              "      <div>\n",
              "<style scoped>\n",
              "    .dataframe tbody tr th:only-of-type {\n",
              "        vertical-align: middle;\n",
              "    }\n",
              "\n",
              "    .dataframe tbody tr th {\n",
              "        vertical-align: top;\n",
              "    }\n",
              "\n",
              "    .dataframe thead th {\n",
              "        text-align: right;\n",
              "    }\n",
              "</style>\n",
              "<table border=\"1\" class=\"dataframe\">\n",
              "  <thead>\n",
              "    <tr style=\"text-align: right;\">\n",
              "      <th></th>\n",
              "      <th>alcohol</th>\n",
              "      <th>malic_acid</th>\n",
              "      <th>ash</th>\n",
              "      <th>alcalinity_of_ash</th>\n",
              "      <th>magnesium</th>\n",
              "      <th>total_phenols</th>\n",
              "      <th>flavanoids</th>\n",
              "      <th>nonflavanoid_phenols</th>\n",
              "      <th>proanthocyanins</th>\n",
              "      <th>color_intensity</th>\n",
              "      <th>hue</th>\n",
              "      <th>od280/od315_of_diluted_wines</th>\n",
              "      <th>proline</th>\n",
              "    </tr>\n",
              "  </thead>\n",
              "  <tbody>\n",
              "    <tr>\n",
              "      <th>0</th>\n",
              "      <td>14.23</td>\n",
              "      <td>1.71</td>\n",
              "      <td>2.43</td>\n",
              "      <td>15.6</td>\n",
              "      <td>127.0</td>\n",
              "      <td>2.80</td>\n",
              "      <td>3.06</td>\n",
              "      <td>0.28</td>\n",
              "      <td>2.29</td>\n",
              "      <td>5.64</td>\n",
              "      <td>1.04</td>\n",
              "      <td>3.92</td>\n",
              "      <td>1065.0</td>\n",
              "    </tr>\n",
              "    <tr>\n",
              "      <th>1</th>\n",
              "      <td>13.20</td>\n",
              "      <td>1.78</td>\n",
              "      <td>2.14</td>\n",
              "      <td>11.2</td>\n",
              "      <td>100.0</td>\n",
              "      <td>2.65</td>\n",
              "      <td>2.76</td>\n",
              "      <td>0.26</td>\n",
              "      <td>1.28</td>\n",
              "      <td>4.38</td>\n",
              "      <td>1.05</td>\n",
              "      <td>3.40</td>\n",
              "      <td>1050.0</td>\n",
              "    </tr>\n",
              "    <tr>\n",
              "      <th>2</th>\n",
              "      <td>13.16</td>\n",
              "      <td>2.36</td>\n",
              "      <td>2.67</td>\n",
              "      <td>18.6</td>\n",
              "      <td>101.0</td>\n",
              "      <td>2.80</td>\n",
              "      <td>3.24</td>\n",
              "      <td>0.30</td>\n",
              "      <td>2.81</td>\n",
              "      <td>5.68</td>\n",
              "      <td>1.03</td>\n",
              "      <td>3.17</td>\n",
              "      <td>1185.0</td>\n",
              "    </tr>\n",
              "    <tr>\n",
              "      <th>3</th>\n",
              "      <td>14.37</td>\n",
              "      <td>1.95</td>\n",
              "      <td>2.50</td>\n",
              "      <td>16.8</td>\n",
              "      <td>113.0</td>\n",
              "      <td>3.85</td>\n",
              "      <td>3.49</td>\n",
              "      <td>0.24</td>\n",
              "      <td>2.18</td>\n",
              "      <td>7.80</td>\n",
              "      <td>0.86</td>\n",
              "      <td>3.45</td>\n",
              "      <td>1480.0</td>\n",
              "    </tr>\n",
              "    <tr>\n",
              "      <th>4</th>\n",
              "      <td>13.24</td>\n",
              "      <td>2.59</td>\n",
              "      <td>2.87</td>\n",
              "      <td>21.0</td>\n",
              "      <td>118.0</td>\n",
              "      <td>2.80</td>\n",
              "      <td>2.69</td>\n",
              "      <td>0.39</td>\n",
              "      <td>1.82</td>\n",
              "      <td>4.32</td>\n",
              "      <td>1.04</td>\n",
              "      <td>2.93</td>\n",
              "      <td>735.0</td>\n",
              "    </tr>\n",
              "  </tbody>\n",
              "</table>\n",
              "</div>\n",
              "      <button class=\"colab-df-convert\" onclick=\"convertToInteractive('df-1444d3de-906e-472e-b759-28e0d988e47a')\"\n",
              "              title=\"Convert this dataframe to an interactive table.\"\n",
              "              style=\"display:none;\">\n",
              "        \n",
              "  <svg xmlns=\"http://www.w3.org/2000/svg\" height=\"24px\"viewBox=\"0 0 24 24\"\n",
              "       width=\"24px\">\n",
              "    <path d=\"M0 0h24v24H0V0z\" fill=\"none\"/>\n",
              "    <path d=\"M18.56 5.44l.94 2.06.94-2.06 2.06-.94-2.06-.94-.94-2.06-.94 2.06-2.06.94zm-11 1L8.5 8.5l.94-2.06 2.06-.94-2.06-.94L8.5 2.5l-.94 2.06-2.06.94zm10 10l.94 2.06.94-2.06 2.06-.94-2.06-.94-.94-2.06-.94 2.06-2.06.94z\"/><path d=\"M17.41 7.96l-1.37-1.37c-.4-.4-.92-.59-1.43-.59-.52 0-1.04.2-1.43.59L10.3 9.45l-7.72 7.72c-.78.78-.78 2.05 0 2.83L4 21.41c.39.39.9.59 1.41.59.51 0 1.02-.2 1.41-.59l7.78-7.78 2.81-2.81c.8-.78.8-2.07 0-2.86zM5.41 20L4 18.59l7.72-7.72 1.47 1.35L5.41 20z\"/>\n",
              "  </svg>\n",
              "      </button>\n",
              "      \n",
              "  <style>\n",
              "    .colab-df-container {\n",
              "      display:flex;\n",
              "      flex-wrap:wrap;\n",
              "      gap: 12px;\n",
              "    }\n",
              "\n",
              "    .colab-df-convert {\n",
              "      background-color: #E8F0FE;\n",
              "      border: none;\n",
              "      border-radius: 50%;\n",
              "      cursor: pointer;\n",
              "      display: none;\n",
              "      fill: #1967D2;\n",
              "      height: 32px;\n",
              "      padding: 0 0 0 0;\n",
              "      width: 32px;\n",
              "    }\n",
              "\n",
              "    .colab-df-convert:hover {\n",
              "      background-color: #E2EBFA;\n",
              "      box-shadow: 0px 1px 2px rgba(60, 64, 67, 0.3), 0px 1px 3px 1px rgba(60, 64, 67, 0.15);\n",
              "      fill: #174EA6;\n",
              "    }\n",
              "\n",
              "    [theme=dark] .colab-df-convert {\n",
              "      background-color: #3B4455;\n",
              "      fill: #D2E3FC;\n",
              "    }\n",
              "\n",
              "    [theme=dark] .colab-df-convert:hover {\n",
              "      background-color: #434B5C;\n",
              "      box-shadow: 0px 1px 3px 1px rgba(0, 0, 0, 0.15);\n",
              "      filter: drop-shadow(0px 1px 2px rgba(0, 0, 0, 0.3));\n",
              "      fill: #FFFFFF;\n",
              "    }\n",
              "  </style>\n",
              "\n",
              "      <script>\n",
              "        const buttonEl =\n",
              "          document.querySelector('#df-1444d3de-906e-472e-b759-28e0d988e47a button.colab-df-convert');\n",
              "        buttonEl.style.display =\n",
              "          google.colab.kernel.accessAllowed ? 'block' : 'none';\n",
              "\n",
              "        async function convertToInteractive(key) {\n",
              "          const element = document.querySelector('#df-1444d3de-906e-472e-b759-28e0d988e47a');\n",
              "          const dataTable =\n",
              "            await google.colab.kernel.invokeFunction('convertToInteractive',\n",
              "                                                     [key], {});\n",
              "          if (!dataTable) return;\n",
              "\n",
              "          const docLinkHtml = 'Like what you see? Visit the ' +\n",
              "            '<a target=\"_blank\" href=https://colab.research.google.com/notebooks/data_table.ipynb>data table notebook</a>'\n",
              "            + ' to learn more about interactive tables.';\n",
              "          element.innerHTML = '';\n",
              "          dataTable['output_type'] = 'display_data';\n",
              "          await google.colab.output.renderOutput(dataTable, element);\n",
              "          const docLink = document.createElement('div');\n",
              "          docLink.innerHTML = docLinkHtml;\n",
              "          element.appendChild(docLink);\n",
              "        }\n",
              "      </script>\n",
              "    </div>\n",
              "  </div>\n",
              "  "
            ],
            "text/plain": [
              "   alcohol  malic_acid   ash  ...   hue  od280/od315_of_diluted_wines  proline\n",
              "0    14.23        1.71  2.43  ...  1.04                          3.92   1065.0\n",
              "1    13.20        1.78  2.14  ...  1.05                          3.40   1050.0\n",
              "2    13.16        2.36  2.67  ...  1.03                          3.17   1185.0\n",
              "3    14.37        1.95  2.50  ...  0.86                          3.45   1480.0\n",
              "4    13.24        2.59  2.87  ...  1.04                          2.93    735.0\n",
              "\n",
              "[5 rows x 13 columns]"
            ]
          },
          "metadata": {},
          "execution_count": 93
        }
      ]
    },
    {
      "cell_type": "code",
      "execution_count": 94,
      "metadata": {
        "id": "Bbis_T82T28b"
      },
      "outputs": [],
      "source": [
        "# 코드를 입력해 주세요\n",
        "x_train, x_test, y_train, y_test = train_test_split(x, y, stratify=y, test_size=0.2, random_state=123)"
      ]
    },
    {
      "cell_type": "code",
      "execution_count": 95,
      "metadata": {
        "id": "4G7xIsIBT28c",
        "colab": {
          "base_uri": "https://localhost:8080/"
        },
        "outputId": "88a3c04e-f989-4d14-cb09-8aeb55783a6a"
      },
      "outputs": [
        {
          "output_type": "execute_result",
          "data": {
            "text/plain": [
              "((142, 13), (36, 13))"
            ]
          },
          "metadata": {},
          "execution_count": 95
        }
      ],
      "source": [
        "# 코드검증\n",
        "x_train.shape, x_test.shape"
      ]
    },
    {
      "cell_type": "markdown",
      "metadata": {
        "id": "xuZTZgbbT28c"
      },
      "source": [
        "<p><strong>[출력 결과]</strong></p><pre>((142, 13), (36, 13))</pre>"
      ]
    },
    {
      "cell_type": "markdown",
      "metadata": {
        "id": "4-J4S9zrT28c"
      },
      "source": [
        "y_train의 countplot 확인"
      ]
    },
    {
      "cell_type": "code",
      "execution_count": 96,
      "metadata": {
        "id": "hKNUV8sTT28d",
        "colab": {
          "base_uri": "https://localhost:8080/",
          "height": 297
        },
        "outputId": "a025ec99-0aba-4e67-9bbc-b8f66ee0019f"
      },
      "outputs": [
        {
          "output_type": "execute_result",
          "data": {
            "text/plain": [
              "<matplotlib.axes._subplots.AxesSubplot at 0x7f4f4beeaad0>"
            ]
          },
          "metadata": {},
          "execution_count": 96
        },
        {
          "output_type": "display_data",
          "data": {
            "image/png": "[encoded data removed]",
            "text/plain": [
              "<Figure size 432x288 with 1 Axes>"
            ]
          },
          "metadata": {
            "needs_background": "light"
          }
        }
      ],
      "source": [
        "# 코드를 입력해 주세요\n",
        "sns.countplot(y_train)"
      ]
    },
    {
      "cell_type": "markdown",
      "metadata": {
        "id": "UDKodphlT28d"
      },
      "source": [
        "<p><strong>[출력 결과]</strong></p><pre><AxesSubplot:xlabel='target', ylabel='count'></pre>"
      ]
    },
    {
      "cell_type": "markdown",
      "metadata": {
        "id": "dE6J8BonT28d"
      },
      "source": [
        "<img src=\"data:image/png;base64,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\"/>"
      ]
    },
    {
      "cell_type": "markdown",
      "metadata": {
        "id": "oq_znFOPT28e"
      },
      "source": [
        "y_test countplot 확인"
      ]
    },
    {
      "cell_type": "markdown",
      "metadata": {
        "id": "ep28mUqvT28e"
      },
      "source": [
        "<p><strong>[출력 결과]</strong></p><pre><Figure size 432x288 with 1 Axes></pre>"
      ]
    },
    {
      "cell_type": "code",
      "execution_count": 97,
      "metadata": {
        "id": "KLVisXPyT28f",
        "colab": {
          "base_uri": "https://localhost:8080/",
          "height": 297
        },
        "outputId": "bde44dbd-45d5-44d9-cf67-51cf990909b2"
      },
      "outputs": [
        {
          "output_type": "execute_result",
          "data": {
            "text/plain": [
              "<matplotlib.axes._subplots.AxesSubplot at 0x7f4f4bec4450>"
            ]
          },
          "metadata": {},
          "execution_count": 97
        },
        {
          "output_type": "display_data",
          "data": {
            "image/png": "[encoded data removed]",
            "text/plain": [
              "<Figure size 432x288 with 1 Axes>"
            ]
          },
          "metadata": {
            "needs_background": "light"
          }
        }
      ],
      "source": [
        "# 코드를 입력해 주세요\n",
        "sns.countplot(y_test)"
      ]
    },
    {
      "cell_type": "markdown",
      "metadata": {
        "id": "dwMQ5LldT28f"
      },
      "source": [
        "<p><strong>[출력 결과]</strong></p><pre><AxesSubplot:xlabel='target', ylabel='count'></pre>"
      ]
    },
    {
      "cell_type": "markdown",
      "metadata": {
        "id": "NauCm-EdT28f"
      },
      "source": [
        "<img src=\"data:image/png;base64,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\"/>"
      ]
    },
    {
      "cell_type": "markdown",
      "metadata": {
        "id": "48F0G-kjT28g"
      },
      "source": [
        "<p><strong>[출력 결과]</strong></p><pre><Figure size 432x288 with 1 Axes></pre>"
      ]
    }
  ],
  "metadata": {
    "colab": {
      "collapsed_sections": [],
      "name": "03-데이터셋-(Dataset)-다루기-(실습)",
      "provenance": [],
      "include_colab_link": true
    },
    "kernelspec": {
      "display_name": "Python 3 (ipykernel)",
      "language": "python",
      "name": "python3"
    },
    "language_info": {
      "codemirror_mode": {
        "name": "ipython",
        "version": 3
      },
      "file_extension": ".py",
      "mimetype": "text/x-python",
      "name": "python",
      "nbconvert_exporter": "python",
      "pygments_lexer": "ipython3",
      "version": "3.7.10"
    }
  },
  "nbformat": 4,
  "nbformat_minor": 0
}