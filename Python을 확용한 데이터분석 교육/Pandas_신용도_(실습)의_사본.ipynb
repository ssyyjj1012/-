{
  "cells": [
    {
      "cell_type": "markdown",
      "metadata": {
        "id": "view-in-github",
        "colab_type": "text"
      },
      "source": [
        "<a href=\"https://colab.research.google.com/github/ssyyjj1012/data-analysis/blob/main/Pandas_%EC%8B%A0%EC%9A%A9%EB%8F%84_(%EC%8B%A4%EC%8A%B5)%EC%9D%98_%EC%82%AC%EB%B3%B8.ipynb\" target=\"_parent\"><img src=\"https://colab.research.google.com/assets/colab-badge.svg\" alt=\"Open In Colab\"/></a>"
      ]
    },
    {
      "cell_type": "markdown",
      "id": "passive-stuff",
      "metadata": {
        "id": "passive-stuff"
      },
      "source": [
        "## 모듈 설치 및 데이터 다운로드"
      ]
    },
    {
      "cell_type": "code",
      "execution_count": null,
      "id": "operating-speaking",
      "metadata": {
        "id": "operating-speaking"
      },
      "outputs": [],
      "source": [
        "!pip install mySUNI -q\n",
        "import mySUNI\n",
        "from mySUNI import cds\n",
        "print(f'패키지 버전: {mySUNI.__version__}')"
      ]
    },
    {
      "cell_type": "code",
      "execution_count": null,
      "id": "fundamental-worth",
      "metadata": {
        "id": "fundamental-worth"
      },
      "outputs": [],
      "source": [
        "cds.download_data('신용정보')"
      ]
    },
    {
      "cell_type": "markdown",
      "id": "juvenile-award",
      "metadata": {
        "id": "juvenile-award"
      },
      "source": [
        "## 데이터셋 설명"
      ]
    },
    {
      "cell_type": "markdown",
      "id": "protected-horizon",
      "metadata": {
        "id": "protected-horizon"
      },
      "source": [
        "- gender: 성별\n",
        "- car: 차량 소유 여부\n",
        "- realty: 부동산 소유 여부\n",
        "- child_num: 자녀 수\n",
        "- income_total: 연간 소득\n",
        "- income_type: 소득 분류\n",
        "- edu_type: 교육 수준\n",
        "- family_type: 결혼 여부\n",
        "- house_type: 생활 방식\n",
        "- phone: 전화 소유 여부\n",
        "- email: 이메일 소유 여부\n",
        "- occyp_type: 직업 유형\n",
        "- family_size: 가족 규모\n",
        "- credit: 사용자의 신용카드 대금 연체를 기준의 신용도"
      ]
    },
    {
      "cell_type": "markdown",
      "id": "planned-french",
      "metadata": {
        "id": "planned-french"
      },
      "source": [
        "### pandas 모듈을 import 합니다."
      ]
    },
    {
      "cell_type": "code",
      "execution_count": null,
      "id": "numeric-capture",
      "metadata": {
        "id": "numeric-capture"
      },
      "outputs": [],
      "source": [
        "# 코드를 입력해 주세요\n"
      ]
    },
    {
      "cell_type": "markdown",
      "id": "instructional-alabama",
      "metadata": {
        "id": "instructional-alabama"
      },
      "source": [
        "### `data/credit-data.csv` 파일을 로드하여 `df`변수에 대입합니다."
      ]
    },
    {
      "cell_type": "code",
      "execution_count": null,
      "id": "studied-samoa",
      "metadata": {
        "id": "studied-samoa"
      },
      "outputs": [],
      "source": [
        "# 코드를 입력해 주세요\n"
      ]
    },
    {
      "cell_type": "markdown",
      "id": "authentic-computer",
      "metadata": {
        "id": "authentic-computer"
      },
      "source": [
        "### 상위 5개를 출력합니다."
      ]
    },
    {
      "cell_type": "code",
      "execution_count": null,
      "id": "bizarre-aurora",
      "metadata": {
        "id": "bizarre-aurora"
      },
      "outputs": [],
      "source": [
        "# 코드를 입력해 주세요\n"
      ]
    },
    {
      "cell_type": "markdown",
      "id": "8ef167bb",
      "metadata": {
        "id": "8ef167bb"
      },
      "source": [
        "<p><strong>[출력 결과]</strong></p><div>\n",
        "<style scoped>\n",
        "    .dataframe tbody tr th:only-of-type {\n",
        "        vertical-align: middle;\n",
        "    }\n",
        "\n",
        "    .dataframe tbody tr th {\n",
        "        vertical-align: top;\n",
        "    }\n",
        "\n",
        "    .dataframe thead th {\n",
        "        text-align: right;\n",
        "    }\n",
        "</style>\n",
        "<table border=\"1\" class=\"dataframe\">\n",
        "  <thead>\n",
        "    <tr style=\"text-align: right;\">\n",
        "      <th></th>\n",
        "      <th>gender</th>\n",
        "      <th>car</th>\n",
        "      <th>realty</th>\n",
        "      <th>child_num</th>\n",
        "      <th>income_total</th>\n",
        "      <th>income_type</th>\n",
        "      <th>edu_type</th>\n",
        "      <th>family_type</th>\n",
        "      <th>house_type</th>\n",
        "      <th>phone</th>\n",
        "      <th>email</th>\n",
        "      <th>occyp_type</th>\n",
        "      <th>family_size</th>\n",
        "      <th>credit</th>\n",
        "    </tr>\n",
        "  </thead>\n",
        "  <tbody>\n",
        "    <tr>\n",
        "      <th>0</th>\n",
        "      <td>F</td>\n",
        "      <td>N</td>\n",
        "      <td>N</td>\n",
        "      <td>0</td>\n",
        "      <td>202500.0</td>\n",
        "      <td>Commercial associate</td>\n",
        "      <td>Higher education</td>\n",
        "      <td>Married</td>\n",
        "      <td>Municipal apartment</td>\n",
        "      <td>0</td>\n",
        "      <td>0</td>\n",
        "      <td>NaN</td>\n",
        "      <td>2.0</td>\n",
        "      <td>mid</td>\n",
        "    </tr>\n",
        "    <tr>\n",
        "      <th>1</th>\n",
        "      <td>F</td>\n",
        "      <td>N</td>\n",
        "      <td>Y</td>\n",
        "      <td>1</td>\n",
        "      <td>247500.0</td>\n",
        "      <td>Commercial associate</td>\n",
        "      <td>Secondary / secondary special</td>\n",
        "      <td>Civil marriage</td>\n",
        "      <td>House / apartment</td>\n",
        "      <td>0</td>\n",
        "      <td>1</td>\n",
        "      <td>Laborers</td>\n",
        "      <td>3.0</td>\n",
        "      <td>mid</td>\n",
        "    </tr>\n",
        "    <tr>\n",
        "      <th>2</th>\n",
        "      <td>M</td>\n",
        "      <td>Y</td>\n",
        "      <td>Y</td>\n",
        "      <td>0</td>\n",
        "      <td>450000.0</td>\n",
        "      <td>Working</td>\n",
        "      <td>Higher education</td>\n",
        "      <td>Married</td>\n",
        "      <td>House / apartment</td>\n",
        "      <td>1</td>\n",
        "      <td>0</td>\n",
        "      <td>Managers</td>\n",
        "      <td>2.0</td>\n",
        "      <td>low</td>\n",
        "    </tr>\n",
        "    <tr>\n",
        "      <th>3</th>\n",
        "      <td>F</td>\n",
        "      <td>N</td>\n",
        "      <td>Y</td>\n",
        "      <td>0</td>\n",
        "      <td>202500.0</td>\n",
        "      <td>Commercial associate</td>\n",
        "      <td>Secondary / secondary special</td>\n",
        "      <td>Married</td>\n",
        "      <td>House / apartment</td>\n",
        "      <td>1</td>\n",
        "      <td>0</td>\n",
        "      <td>Sales staff</td>\n",
        "      <td>2.0</td>\n",
        "      <td>high</td>\n",
        "    </tr>\n",
        "    <tr>\n",
        "      <th>4</th>\n",
        "      <td>F</td>\n",
        "      <td>Y</td>\n",
        "      <td>Y</td>\n",
        "      <td>0</td>\n",
        "      <td>157500.0</td>\n",
        "      <td>State servant</td>\n",
        "      <td>Higher education</td>\n",
        "      <td>Married</td>\n",
        "      <td>House / apartment</td>\n",
        "      <td>0</td>\n",
        "      <td>0</td>\n",
        "      <td>Managers</td>\n",
        "      <td>2.0</td>\n",
        "      <td>low</td>\n",
        "    </tr>\n",
        "  </tbody>\n",
        "</table>\n",
        "</div>"
      ]
    },
    {
      "cell_type": "markdown",
      "id": "black-investor",
      "metadata": {
        "id": "black-investor"
      },
      "source": [
        "### 결측치를 확인합니다."
      ]
    },
    {
      "cell_type": "code",
      "execution_count": null,
      "id": "focused-modification",
      "metadata": {
        "id": "focused-modification"
      },
      "outputs": [],
      "source": [
        "# 코드를 입력해 주세요\n"
      ]
    },
    {
      "cell_type": "markdown",
      "id": "4ccc4d9a",
      "metadata": {
        "id": "4ccc4d9a"
      },
      "source": [
        "<p><strong>[출력 결과]</strong></p><pre>gender             0\n",
        "car                0\n",
        "realty             0\n",
        "child_num          0\n",
        "income_total       0\n",
        "income_type        0\n",
        "edu_type           0\n",
        "family_type        0\n",
        "house_type         0\n",
        "phone              0\n",
        "email              0\n",
        "occyp_type      8171\n",
        "family_size        0\n",
        "credit             0\n",
        "dtype: int64</pre>"
      ]
    },
    {
      "cell_type": "markdown",
      "id": "impressive-monroe",
      "metadata": {
        "id": "impressive-monroe"
      },
      "source": [
        "### 차 소유자 숫자를 출력합니다."
      ]
    },
    {
      "cell_type": "code",
      "execution_count": null,
      "id": "rational-equilibrium",
      "metadata": {
        "id": "rational-equilibrium"
      },
      "outputs": [],
      "source": [
        "# 코드를 입력해 주세요\n"
      ]
    },
    {
      "cell_type": "markdown",
      "id": "b9ecb80c",
      "metadata": {
        "id": "b9ecb80c"
      },
      "source": [
        "<p><strong>[출력 결과]</strong></p><pre>10047</pre>"
      ]
    },
    {
      "cell_type": "markdown",
      "id": "raised-emission",
      "metadata": {
        "id": "raised-emission"
      },
      "source": [
        "### 차(car) 소유자 / 비소유자 비율 계산"
      ]
    },
    {
      "cell_type": "code",
      "execution_count": null,
      "id": "elder-exchange",
      "metadata": {
        "id": "elder-exchange"
      },
      "outputs": [],
      "source": [
        "# 코드를 입력해 주세요\n"
      ]
    },
    {
      "cell_type": "markdown",
      "id": "1e3c0aab",
      "metadata": {
        "id": "1e3c0aab"
      },
      "source": [
        "<p><strong>[출력 결과]</strong></p><pre>0.6122486288848263</pre>"
      ]
    },
    {
      "cell_type": "markdown",
      "id": "consolidated-virginia",
      "metadata": {
        "id": "consolidated-virginia"
      },
      "source": [
        "### income_total 이 300000 이상인 사람들은 'VIP' 컬럼 생성 후 True, 나머지는 False"
      ]
    },
    {
      "cell_type": "code",
      "execution_count": null,
      "id": "affiliated-brick",
      "metadata": {
        "id": "affiliated-brick"
      },
      "outputs": [],
      "source": [
        "# 코드를 입력해 주세요\n"
      ]
    },
    {
      "cell_type": "markdown",
      "id": "patent-prayer",
      "metadata": {
        "id": "patent-prayer"
      },
      "source": [
        "### VIP와 VIP 아닌 사람들의 분포 확인"
      ]
    },
    {
      "cell_type": "code",
      "execution_count": null,
      "id": "authentic-flight",
      "metadata": {
        "id": "authentic-flight"
      },
      "outputs": [],
      "source": [
        "# 코드를 입력해 주세요\n"
      ]
    },
    {
      "cell_type": "markdown",
      "id": "d573c5df",
      "metadata": {
        "id": "d573c5df"
      },
      "source": [
        "<p><strong>[출력 결과]</strong></p><pre>False    23629\n",
        "True      2828\n",
        "Name: VIP, dtype: int64</pre>"
      ]
    },
    {
      "cell_type": "markdown",
      "id": "young-recall",
      "metadata": {
        "id": "young-recall"
      },
      "source": [
        "### VIP 인 사람들의 소득 평균(income_total)"
      ]
    },
    {
      "cell_type": "code",
      "execution_count": null,
      "id": "encouraging-tackle",
      "metadata": {
        "id": "encouraging-tackle"
      },
      "outputs": [],
      "source": [
        "# 코드를 입력해 주세요\n"
      ]
    },
    {
      "cell_type": "markdown",
      "id": "98eabd9e",
      "metadata": {
        "id": "98eabd9e"
      },
      "source": [
        "<p><strong>[출력 결과]</strong></p><pre>401570.5258132956</pre>"
      ]
    },
    {
      "cell_type": "markdown",
      "id": "republican-directive",
      "metadata": {
        "id": "republican-directive"
      },
      "source": [
        "### VIP가 아닌 사람들의 소득 중앙값(income_total)"
      ]
    },
    {
      "cell_type": "code",
      "execution_count": null,
      "id": "intellectual-cliff",
      "metadata": {
        "id": "intellectual-cliff"
      },
      "outputs": [],
      "source": [
        "# 코드를 입력해 주세요\n"
      ]
    },
    {
      "cell_type": "markdown",
      "id": "023ca1bc",
      "metadata": {
        "id": "023ca1bc"
      },
      "source": [
        "<p><strong>[출력 결과]</strong></p><pre>157500.0</pre>"
      ]
    },
    {
      "cell_type": "markdown",
      "id": "cordless-camel",
      "metadata": {
        "id": "cordless-camel"
      },
      "source": [
        "### VIP이고 차를 소유(Y)하고 있으며, 남자(M)인 사람들의 income_total 평균"
      ]
    },
    {
      "cell_type": "code",
      "execution_count": null,
      "id": "embedded-mambo",
      "metadata": {
        "id": "embedded-mambo"
      },
      "outputs": [],
      "source": [
        "# 코드를 입력해 주세요\n"
      ]
    },
    {
      "cell_type": "markdown",
      "id": "c78a4274",
      "metadata": {
        "id": "c78a4274"
      },
      "source": [
        "<p><strong>[출력 결과]</strong></p><pre>400561.0465116279</pre>"
      ]
    },
    {
      "cell_type": "markdown",
      "id": "formal-applicant",
      "metadata": {
        "id": "formal-applicant"
      },
      "source": [
        "### VIP가 아니고 차를 소유(Y)하고 있으며, 여자(F)인 사람들의 income_total 평균"
      ]
    },
    {
      "cell_type": "code",
      "execution_count": null,
      "id": "demanding-stereo",
      "metadata": {
        "id": "demanding-stereo"
      },
      "outputs": [],
      "source": [
        "# 코드를 입력해 주세요\n"
      ]
    },
    {
      "cell_type": "markdown",
      "id": "40bdfdee",
      "metadata": {
        "id": "40bdfdee"
      },
      "source": [
        "<p><strong>[출력 결과]</strong></p><pre>164298.55838557993</pre>"
      ]
    },
    {
      "cell_type": "markdown",
      "id": "lonely-nirvana",
      "metadata": {
        "id": "lonely-nirvana"
      },
      "source": [
        "### family_size 가 5보다 크며 (초과) 차를 소유하지 않은 (N) 사람들의 income_total 중앙값"
      ]
    },
    {
      "cell_type": "code",
      "execution_count": null,
      "id": "supported-independence",
      "metadata": {
        "id": "supported-independence"
      },
      "outputs": [],
      "source": [
        "# 코드를 입력해 주세요\n"
      ]
    },
    {
      "cell_type": "markdown",
      "id": "c6676bde",
      "metadata": {
        "id": "c6676bde"
      },
      "source": [
        "<p><strong>[출력 결과]</strong></p><pre>157500.0</pre>"
      ]
    },
    {
      "cell_type": "markdown",
      "id": "known-variance",
      "metadata": {
        "id": "known-variance"
      },
      "source": [
        "- child_num을 family_size로 나누어 자식 / 가족의 비율을 구합니다.\n",
        "- 비율을 새로운 `family_rate` 컬럼 생성 후 대입합니다."
      ]
    },
    {
      "cell_type": "code",
      "execution_count": null,
      "id": "removable-cache",
      "metadata": {
        "id": "removable-cache"
      },
      "outputs": [],
      "source": [
        "# 코드를 입력해 주세요\n"
      ]
    },
    {
      "cell_type": "markdown",
      "id": "8baa3b35",
      "metadata": {
        "id": "8baa3b35"
      },
      "source": [
        "<p><strong>[출력 결과]</strong></p><pre>0        0.000000\n",
        "1        0.333333\n",
        "2        0.000000\n",
        "3        0.000000\n",
        "4        0.000000\n",
        "           ...   \n",
        "26452    0.500000\n",
        "26453    0.500000\n",
        "26454    0.000000\n",
        "26455    0.000000\n",
        "26456    0.000000\n",
        "Name: family_rate, Length: 26457, dtype: float64</pre>"
      ]
    },
    {
      "cell_type": "markdown",
      "id": "advance-vertical",
      "metadata": {
        "id": "advance-vertical"
      },
      "source": [
        "### family_rate의 평균"
      ]
    },
    {
      "cell_type": "code",
      "execution_count": null,
      "id": "loving-context",
      "metadata": {
        "id": "loving-context"
      },
      "outputs": [],
      "source": [
        "# 코드를 입력해 주세요\n"
      ]
    },
    {
      "cell_type": "markdown",
      "id": "81955a91",
      "metadata": {
        "id": "81955a91"
      },
      "source": [
        "<p><strong>[출력 결과]</strong></p><pre>0.12763669830230667</pre>"
      ]
    },
    {
      "cell_type": "markdown",
      "id": "analyzed-quality",
      "metadata": {
        "id": "analyzed-quality"
      },
      "source": [
        "### edu_type컬럼의 분포 확인"
      ]
    },
    {
      "cell_type": "code",
      "execution_count": null,
      "id": "central-grenada",
      "metadata": {
        "id": "central-grenada"
      },
      "outputs": [],
      "source": [
        "# 코드를 입력해 주세요\n"
      ]
    },
    {
      "cell_type": "markdown",
      "id": "d6d0f043",
      "metadata": {
        "id": "d6d0f043"
      },
      "source": [
        "<p><strong>[출력 결과]</strong></p><pre>Secondary / secondary special    17995\n",
        "Higher education                  7162\n",
        "Incomplete higher                 1020\n",
        "Lower secondary                    257\n",
        "Academic degree                     23\n",
        "Name: edu_type, dtype: int64</pre>"
      ]
    },
    {
      "cell_type": "markdown",
      "id": "heard-bargain",
      "metadata": {
        "id": "heard-bargain"
      },
      "source": [
        "### family_type의 분포 확인"
      ]
    },
    {
      "cell_type": "code",
      "execution_count": null,
      "id": "sharp-concord",
      "metadata": {
        "id": "sharp-concord"
      },
      "outputs": [],
      "source": [
        "# 코드를 입력해 주세요\n"
      ]
    },
    {
      "cell_type": "markdown",
      "id": "aff77d88",
      "metadata": {
        "id": "aff77d88"
      },
      "source": [
        "<p><strong>[출력 결과]</strong></p><pre>Married                 18196\n",
        "Single / not married     3496\n",
        "Civil marriage           2123\n",
        "Separated                1539\n",
        "Widow                    1103\n",
        "Name: family_type, dtype: int64</pre>"
      ]
    },
    {
      "cell_type": "markdown",
      "id": "peaceful-sussex",
      "metadata": {
        "id": "peaceful-sussex"
      },
      "source": [
        "### family_type은 'Married'이거나 'Separated'이면서 income_total  이 200000 이상인 사람들의 edu_type 분포 확인"
      ]
    },
    {
      "cell_type": "code",
      "execution_count": null,
      "id": "decent-regression",
      "metadata": {
        "id": "decent-regression"
      },
      "outputs": [],
      "source": [
        "# 코드를 입력해 주세요\n"
      ]
    },
    {
      "cell_type": "markdown",
      "id": "c3900c30",
      "metadata": {
        "id": "c3900c30"
      },
      "source": [
        "<p><strong>[출력 결과]</strong></p><pre>Secondary / secondary special    4214\n",
        "Higher education                 2822\n",
        "Incomplete higher                 288\n",
        "Lower secondary                    35\n",
        "Academic degree                     8\n",
        "Name: edu_type, dtype: int64</pre>"
      ]
    },
    {
      "cell_type": "markdown",
      "id": "asian-recorder",
      "metadata": {
        "id": "asian-recorder"
      },
      "source": [
        "### credit 이 high가 아닌 사람들의 income_total과 family_size 통계 요약 확인"
      ]
    },
    {
      "cell_type": "code",
      "execution_count": null,
      "id": "progressive-crown",
      "metadata": {
        "id": "progressive-crown"
      },
      "outputs": [],
      "source": [
        "# 코드를 입력해 주세요\n"
      ]
    },
    {
      "cell_type": "markdown",
      "id": "7f829a4e",
      "metadata": {
        "id": "7f829a4e"
      },
      "source": [
        "<p><strong>[출력 결과]</strong></p><div>\n",
        "<style scoped>\n",
        "    .dataframe tbody tr th:only-of-type {\n",
        "        vertical-align: middle;\n",
        "    }\n",
        "\n",
        "    .dataframe tbody tr th {\n",
        "        vertical-align: top;\n",
        "    }\n",
        "\n",
        "    .dataframe thead th {\n",
        "        text-align: right;\n",
        "    }\n",
        "</style>\n",
        "<table border=\"1\" class=\"dataframe\">\n",
        "  <thead>\n",
        "    <tr style=\"text-align: right;\">\n",
        "      <th></th>\n",
        "      <th>income_total</th>\n",
        "      <th>family_size</th>\n",
        "    </tr>\n",
        "  </thead>\n",
        "  <tbody>\n",
        "    <tr>\n",
        "      <th>count</th>\n",
        "      <td>2.323500e+04</td>\n",
        "      <td>23235.000000</td>\n",
        "    </tr>\n",
        "    <tr>\n",
        "      <th>mean</th>\n",
        "      <td>1.868210e+05</td>\n",
        "      <td>2.197202</td>\n",
        "    </tr>\n",
        "    <tr>\n",
        "      <th>std</th>\n",
        "      <td>1.018348e+05</td>\n",
        "      <td>0.921523</td>\n",
        "    </tr>\n",
        "    <tr>\n",
        "      <th>min</th>\n",
        "      <td>2.700000e+04</td>\n",
        "      <td>1.000000</td>\n",
        "    </tr>\n",
        "    <tr>\n",
        "      <th>25%</th>\n",
        "      <td>1.215000e+05</td>\n",
        "      <td>2.000000</td>\n",
        "    </tr>\n",
        "    <tr>\n",
        "      <th>50%</th>\n",
        "      <td>1.575000e+05</td>\n",
        "      <td>2.000000</td>\n",
        "    </tr>\n",
        "    <tr>\n",
        "      <th>75%</th>\n",
        "      <td>2.250000e+05</td>\n",
        "      <td>3.000000</td>\n",
        "    </tr>\n",
        "    <tr>\n",
        "      <th>max</th>\n",
        "      <td>1.575000e+06</td>\n",
        "      <td>20.000000</td>\n",
        "    </tr>\n",
        "  </tbody>\n",
        "</table>\n",
        "</div>"
      ]
    },
    {
      "cell_type": "markdown",
      "id": "valid-journalist",
      "metadata": {
        "id": "valid-journalist"
      },
      "source": [
        "### occyp_type이 결측치 인 경우, income_total 평균 값"
      ]
    },
    {
      "cell_type": "code",
      "execution_count": null,
      "id": "solved-merchandise",
      "metadata": {
        "id": "solved-merchandise"
      },
      "outputs": [],
      "source": [
        "# 코드를 입력해 주세요\n"
      ]
    },
    {
      "cell_type": "markdown",
      "id": "cb9db54c",
      "metadata": {
        "id": "cb9db54c"
      },
      "source": [
        "<p><strong>[출력 결과]</strong></p><pre>169174.35644351976</pre>"
      ]
    },
    {
      "cell_type": "markdown",
      "id": "light-latvia",
      "metadata": {
        "id": "light-latvia"
      },
      "source": [
        "### occyp_type이 결측치가 아닌 경우, income_total 중앙값"
      ]
    },
    {
      "cell_type": "code",
      "execution_count": null,
      "id": "nominated-receipt",
      "metadata": {
        "id": "nominated-receipt"
      },
      "outputs": [],
      "source": [
        "# 코드를 입력해 주세요\n"
      ]
    },
    {
      "cell_type": "markdown",
      "id": "03bd4bdc",
      "metadata": {
        "id": "03bd4bdc"
      },
      "source": [
        "<p><strong>[출력 결과]</strong></p><pre>180000.0</pre>"
      ]
    },
    {
      "cell_type": "markdown",
      "id": "extra-australia",
      "metadata": {
        "id": "extra-australia"
      },
      "source": [
        "### 'House / apartment'에 살지 않은 사람들의 신용도(credit) 분포 확인"
      ]
    },
    {
      "cell_type": "code",
      "execution_count": null,
      "id": "adjustable-density",
      "metadata": {
        "id": "adjustable-density"
      },
      "outputs": [],
      "source": [
        "# 코드를 입력해 주세요\n"
      ]
    },
    {
      "cell_type": "markdown",
      "id": "e96add9b",
      "metadata": {
        "id": "e96add9b"
      },
      "source": [
        "<p><strong>[출력 결과]</strong></p><pre>low     1757\n",
        "mid      698\n",
        "high     349\n",
        "Name: credit, dtype: int64</pre>"
      ]
    }
  ],
  "metadata": {
    "kernelspec": {
      "display_name": "Python 3 (ipykernel)",
      "language": "python",
      "name": "python3"
    },
    "language_info": {
      "codemirror_mode": {
        "name": "ipython",
        "version": 3
      },
      "file_extension": ".py",
      "mimetype": "text/x-python",
      "name": "python",
      "nbconvert_exporter": "python",
      "pygments_lexer": "ipython3",
      "version": "3.7.10"
    },
    "colab": {
      "name": "Pandas-신용도-(실습)의 사본",
      "provenance": [],
      "collapsed_sections": [],
      "include_colab_link": true
    }
  },
  "nbformat": 4,
  "nbformat_minor": 5
}