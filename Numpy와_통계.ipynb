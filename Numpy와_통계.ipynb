{
  "nbformat": 4,
  "nbformat_minor": 0,
  "metadata": {
    "colab": {
      "name": "Numpy와 통계",
      "provenance": [],
      "collapsed_sections": [],
      "authorship_tag": "ABX9TyP/mDgbD0HpMWfA7pLlRb7F",
      "include_colab_link": true
    },
    "kernelspec": {
      "name": "python3",
      "display_name": "Python 3"
    },
    "language_info": {
      "name": "python"
    }
  },
  "cells": [
    {
      "cell_type": "markdown",
      "metadata": {
        "id": "view-in-github",
        "colab_type": "text"
      },
      "source": [
        "<a href=\"https://colab.research.google.com/github/ssyyjj1012/data-analysis/blob/main/Numpy%EC%99%80_%ED%86%B5%EA%B3%84.ipynb\" target=\"_parent\"><img src=\"https://colab.research.google.com/assets/colab-badge.svg\" alt=\"Open In Colab\"/></a>"
      ]
    },
    {
      "cell_type": "markdown",
      "source": [
        "# 통계학 기초"
      ],
      "metadata": {
        "id": "Roe3qs1hJQ49"
      }
    },
    {
      "cell_type": "code",
      "source": [
        "import numpy as np\n",
        "list1 = [155,157,\n",
        "         163,168,162,164,160,\n",
        "         171,178,179,170,171,175,177,\n",
        "         188,182,180,180,\n",
        "         192]\n",
        "arr1 = np.array(list1)\n",
        "arr1"
      ],
      "metadata": {
        "colab": {
          "base_uri": "https://localhost:8080/"
        },
        "id": "EobUDBPYJUBr",
        "outputId": "4d41f3b6-47af-4479-b650-635ebf0fe62d"
      },
      "execution_count": 10,
      "outputs": [
        {
          "output_type": "execute_result",
          "data": {
            "text/plain": [
              "array([155, 157, 163, 168, 162, 164, 160, 171, 178, 179, 170, 171, 175,\n",
              "       177, 188, 182, 180, 180, 192])"
            ]
          },
          "metadata": {},
          "execution_count": 10
        }
      ]
    },
    {
      "cell_type": "code",
      "source": [
        "print(\"Sum : \\t\",arr1.sum())\n",
        "print(\"Min : \\t\",arr1.min())\n",
        "print(\"Max : \\t\",arr1.max())\n",
        "print(\"Median : \\t\",np.median(arr1))\n",
        "\n",
        "from scipy import stats\n",
        "\n",
        "print(\"Mode : \\t\",stats.mode(arr1))\n",
        "print(\"Mean : \\t\",arr1.mean())\n",
        "print(\"Std : \\t\",arr1.std())\n",
        "print(\"Var : \\t\",arr1.var())\n",
        "print(\"Argmin : \\t\",arr1.argmin())\n",
        "print(\"Argmax : \\t\",arr1.argmax())\n",
        "print(\"\\nCumsum : \\n\",arr1.cumsum())\n",
        "print(\"\\nCumprod : \\n\",arr1.cumprod())"
      ],
      "metadata": {
        "colab": {
          "base_uri": "https://localhost:8080/"
        },
        "id": "px190sWDJwEc",
        "outputId": "17fbcacc-8a08-4d61-e1b3-ab7067ef188a"
      },
      "execution_count": 11,
      "outputs": [
        {
          "output_type": "stream",
          "name": "stdout",
          "text": [
            "Sum : \t 3272\n",
            "Min : \t 155\n",
            "Max : \t 192\n",
            "Median : \t 171.0\n",
            "Mode : \t ModeResult(mode=array([171]), count=array([2]))\n",
            "Mean : \t 172.21052631578948\n",
            "Std : \t 10.071214568307362\n",
            "Var : \t 101.42936288088643\n",
            "Argmin : \t 0\n",
            "Argmax : \t 18\n",
            "\n",
            "Cumsum : \n",
            " [ 155  312  475  643  805  969 1129 1300 1478 1657 1827 1998 2173 2350\n",
            " 2538 2720 2900 3080 3272]\n",
            "\n",
            "Cumprod : \n",
            " [                 155                24335              3966605\n",
            "            666389640         107955121680       17704639955520\n",
            "     2832742392883200   484398949183027200 -6010707413968916480\n",
            " -6005470825282056192 -6359116243924213760   949022637822992384\n",
            "    58264955637702656 -8133846925836181504  1916536060690661376\n",
            " -1678574354781110272 -6995478681247023104 -4807565612214648832\n",
            "  -715393859734994944]\n"
          ]
        }
      ]
    },
    {
      "cell_type": "code",
      "source": [
        "import matplotlib.pyplot as plt\n",
        "\n",
        "plt.plot(arr1)\n",
        "plt.show()"
      ],
      "metadata": {
        "colab": {
          "base_uri": "https://localhost:8080/",
          "height": 265
        },
        "id": "LCs78S1bJwLW",
        "outputId": "905d837f-8379-49ff-a4b8-995cb40b0801"
      },
      "execution_count": 15,
      "outputs": [
        {
          "output_type": "display_data",
          "data": {
            "image/png": "[encoded data removed]",
            "text/plain": [
              "<Figure size 432x288 with 1 Axes>"
            ]
          },
          "metadata": {
            "needs_background": "light"
          }
        }
      ]
    },
    {
      "cell_type": "code",
      "source": [
        "y = [3, 10, 7, 5, 3, 4.5, 6, 8.1]\n",
        "N = len(y)\n",
        "x = range(N)\n",
        "width = 0.8\n",
        "\n",
        "plt.bar(range(len(arr1)),arr1, width)\n",
        "plt.show()"
      ],
      "metadata": {
        "colab": {
          "base_uri": "https://localhost:8080/",
          "height": 268
        },
        "id": "L4gsyyUiLNBh",
        "outputId": "4fedaeca-7f17-4b8d-dcca-510255a86914"
      },
      "execution_count": 16,
      "outputs": [
        {
          "output_type": "display_data",
          "data": {
            "image/png": "[encoded data removed]",
            "text/plain": [
              "<Figure size 432x288 with 1 Axes>"
            ]
          },
          "metadata": {
            "needs_background": "light"
          }
        }
      ]
    },
    {
      "cell_type": "code",
      "source": [
        "plt.hist(arr1)\n",
        "plt.show()"
      ],
      "metadata": {
        "colab": {
          "base_uri": "https://localhost:8080/",
          "height": 265
        },
        "id": "8i4CE_gALNby",
        "outputId": "03da19f5-076a-4118-8ed5-9ab206305427"
      },
      "execution_count": 17,
      "outputs": [
        {
          "output_type": "display_data",
          "data": {
            "image/png": "[encoded data removed]",
            "text/plain": [
              "<Figure size 432x288 with 1 Axes>"
            ]
          },
          "metadata": {
            "needs_background": "light"
          }
        }
      ]
    },
    {
      "cell_type": "code",
      "source": [
        "np.median(arr1)"
      ],
      "metadata": {
        "colab": {
          "base_uri": "https://localhost:8080/"
        },
        "id": "0c9KMePwLuz3",
        "outputId": "cc7f6556-8563-4bcb-bf92-b034b8dc8b53"
      },
      "execution_count": 18,
      "outputs": [
        {
          "output_type": "execute_result",
          "data": {
            "text/plain": [
              "171.0"
            ]
          },
          "metadata": {},
          "execution_count": 18
        }
      ]
    },
    {
      "cell_type": "code",
      "source": [
        "arr1[arr1>150][160>arr1]"
      ],
      "metadata": {
        "colab": {
          "base_uri": "https://localhost:8080/"
        },
        "id": "B-CV5IwjLu6K",
        "outputId": "17f9f9b6-3e75-4bd1-d221-eb1c0b87ad80"
      },
      "execution_count": 20,
      "outputs": [
        {
          "output_type": "execute_result",
          "data": {
            "text/plain": [
              "array([155, 157])"
            ]
          },
          "metadata": {},
          "execution_count": 20
        }
      ]
    },
    {
      "cell_type": "code",
      "source": [
        "arr2 = {}\n",
        "arr2[\"160\"] = len(arr1[160>arr1])\n",
        "arr2[\"170\"] = len(arr1[np.logical_and([160<=arr1],[arr1<170])[0]])\n",
        "arr2[\"180\"] = len(arr1[np.logical_and([170<=arr1],[arr1<180])[0]])\n",
        "arr2[\"190\"] = len(arr1[np.logical_and([180<=arr1],[arr1<190])[0]])\n",
        "arr2[\"160\"] = len(arr1[arr1>=190])"
      ],
      "metadata": {
        "id": "1bGayx34LvAP"
      },
      "execution_count": 21,
      "outputs": []
    },
    {
      "cell_type": "code",
      "source": [
        "import pandas as pd\n",
        "arr2 = pd.Series(arr2)\n",
        "arr2"
      ],
      "metadata": {
        "colab": {
          "base_uri": "https://localhost:8080/"
        },
        "id": "KMlYQ0J7NctI",
        "outputId": "72e5742c-6d1f-42de-8141-2197c0b2aa7d"
      },
      "execution_count": 23,
      "outputs": [
        {
          "output_type": "execute_result",
          "data": {
            "text/plain": [
              "160    1\n",
              "170    5\n",
              "180    7\n",
              "190    4\n",
              "dtype: int64"
            ]
          },
          "metadata": {},
          "execution_count": 23
        }
      ]
    },
    {
      "cell_type": "code",
      "source": [
        "arr2.cumsum().plot(kind=\"bar\")\n",
        "plt.show()"
      ],
      "metadata": {
        "colab": {
          "base_uri": "https://localhost:8080/",
          "height": 274
        },
        "id": "iIEc0zefNcwz",
        "outputId": "949dfa88-2e8e-4097-817a-8c6a4e4431de"
      },
      "execution_count": 24,
      "outputs": [
        {
          "output_type": "display_data",
          "data": {
            "image/png": "[encoded data removed]",
            "text/plain": [
              "<Figure size 432x288 with 1 Axes>"
            ]
          },
          "metadata": {
            "needs_background": "light"
          }
        }
      ]
    },
    {
      "cell_type": "markdown",
      "source": [
        "## 연습문제\n",
        "\n",
        "(1) 각 원소의 sepal length 의 합을 구하라 \n",
        "\n",
        "(2) sepal width 의 평균값을 구하라\n",
        "\n",
        "(3) petal length 의 표준편차를 구하라\n",
        "\n",
        "(4) petal width 값이 가장 높은 원소를 찾고 그 길이를 구하라"
      ],
      "metadata": {
        "id": "TJqBKFXjFxXO"
      }
    },
    {
      "cell_type": "code",
      "source": [
        "from sklearn import datasets\n",
        "\n",
        "iris = datasets.load_iris()\n",
        "irisdt = iris['data']\n",
        "\n",
        "iris['feature_names']"
      ],
      "metadata": {
        "colab": {
          "base_uri": "https://localhost:8080/"
        },
        "id": "IEgQP5EBOG79",
        "outputId": "4adeee27-0ed4-4ceb-e8e9-ec4deb3f9421"
      },
      "execution_count": 44,
      "outputs": [
        {
          "output_type": "execute_result",
          "data": {
            "text/plain": [
              "['sepal length (cm)',\n",
              " 'sepal width (cm)',\n",
              " 'petal length (cm)',\n",
              " 'petal width (cm)']"
            ]
          },
          "metadata": {},
          "execution_count": 44
        }
      ]
    },
    {
      "cell_type": "code",
      "source": [
        "irisdt"
      ],
      "metadata": {
        "id": "f7Fw6G-tWJBV"
      },
      "execution_count": null,
      "outputs": []
    },
    {
      "cell_type": "code",
      "source": [
        "print ( \"1 ) \" , irisdt[0].sum())\n",
        "print ( \"2 ) \" , irisdt[1].mean())\n",
        "print ( \"3 ) \" , irisdt[2].std())\n",
        "print ( \"4 ) \" , irisdt[3].max())"
      ],
      "metadata": {
        "colab": {
          "base_uri": "https://localhost:8080/"
        },
        "id": "rM7Tw4J6NczU",
        "outputId": "12ad49bb-e231-4229-e771-490ef4bb689d"
      },
      "execution_count": 57,
      "outputs": [
        {
          "output_type": "stream",
          "name": "stdout",
          "text": [
            "1 )  10.2\n",
            "2 )  2.375\n",
            "3 )  1.7298843892006195\n",
            "4 )  4.6\n"
          ]
        }
      ]
    },
    {
      "cell_type": "markdown",
      "source": [
        "# 01 NumPy 집합 함수"
      ],
      "metadata": {
        "id": "M5KFIDEbHhss"
      }
    },
    {
      "cell_type": "markdown",
      "source": [
        "## 1) unique(x)\n",
        "배열 x에서 중복된 원소를 제거한 후 정렬하여 반환"
      ],
      "metadata": {
        "id": "7NkgFn_xHnKN"
      }
    },
    {
      "cell_type": "code",
      "source": [
        "import numpy as np\n",
        "\n",
        "a1 = np.arange(12)\n",
        "a1"
      ],
      "metadata": {
        "colab": {
          "base_uri": "https://localhost:8080/"
        },
        "id": "n3IDvb-AF_dP",
        "outputId": "b09ec3bc-81cb-4872-9ed4-951607777633"
      },
      "execution_count": 1,
      "outputs": [
        {
          "output_type": "execute_result",
          "data": {
            "text/plain": [
              "array([ 0,  1,  2,  3,  4,  5,  6,  7,  8,  9, 10, 11])"
            ]
          },
          "metadata": {},
          "execution_count": 1
        }
      ]
    },
    {
      "cell_type": "code",
      "source": [
        "a2 = a1*2\n",
        "a2"
      ],
      "metadata": {
        "colab": {
          "base_uri": "https://localhost:8080/"
        },
        "id": "pD-IL4vuHwyp",
        "outputId": "1dd32ffb-1104-4919-ece4-240d2179562c"
      },
      "execution_count": 2,
      "outputs": [
        {
          "output_type": "execute_result",
          "data": {
            "text/plain": [
              "array([ 0,  2,  4,  6,  8, 10, 12, 14, 16, 18, 20, 22])"
            ]
          },
          "metadata": {},
          "execution_count": 2
        }
      ]
    },
    {
      "cell_type": "code",
      "source": [
        "a12 = np.array([a1,a2])\n",
        "a12"
      ],
      "metadata": {
        "colab": {
          "base_uri": "https://localhost:8080/"
        },
        "id": "7sbcGZ4yHyWD",
        "outputId": "aae6568d-3e5e-4370-fbb2-e2f311b341dc"
      },
      "execution_count": 3,
      "outputs": [
        {
          "output_type": "execute_result",
          "data": {
            "text/plain": [
              "array([[ 0,  1,  2,  3,  4,  5,  6,  7,  8,  9, 10, 11],\n",
              "       [ 0,  2,  4,  6,  8, 10, 12, 14, 16, 18, 20, 22]])"
            ]
          },
          "metadata": {},
          "execution_count": 3
        }
      ]
    },
    {
      "cell_type": "code",
      "source": [
        "np.unique(a12)"
      ],
      "metadata": {
        "colab": {
          "base_uri": "https://localhost:8080/"
        },
        "id": "1-E9BAugH2T9",
        "outputId": "b39777e1-3ef5-4b8a-d314-661e053f1480"
      },
      "execution_count": 4,
      "outputs": [
        {
          "output_type": "execute_result",
          "data": {
            "text/plain": [
              "array([ 0,  1,  2,  3,  4,  5,  6,  7,  8,  9, 10, 11, 12, 14, 16, 18, 20,\n",
              "       22])"
            ]
          },
          "metadata": {},
          "execution_count": 4
        }
      ]
    },
    {
      "cell_type": "markdown",
      "source": [
        "## 2) intersect1d(x,y)\n",
        "배열 x와 y에 공통적으로 존재하는 원소를 정렬하여 반환"
      ],
      "metadata": {
        "id": "l7dqEfJHIAI7"
      }
    },
    {
      "cell_type": "code",
      "source": [
        "np.intersect1d(a1,a2)"
      ],
      "metadata": {
        "colab": {
          "base_uri": "https://localhost:8080/"
        },
        "id": "TxyKdNUEIIiT",
        "outputId": "ffe0743b-a34b-4b26-f8fe-7d428c2ae651"
      },
      "execution_count": 5,
      "outputs": [
        {
          "output_type": "execute_result",
          "data": {
            "text/plain": [
              "array([ 0,  2,  4,  6,  8, 10])"
            ]
          },
          "metadata": {},
          "execution_count": 5
        }
      ]
    },
    {
      "cell_type": "markdown",
      "source": [
        "## 3) union1d(x,y)\n",
        "두 배열의 합집합을 반환"
      ],
      "metadata": {
        "id": "bO3XSTWdIMJc"
      }
    },
    {
      "cell_type": "code",
      "source": [
        "np.union1d(a1,a2)"
      ],
      "metadata": {
        "colab": {
          "base_uri": "https://localhost:8080/"
        },
        "outputId": "03c56957-7b82-4898-e6c1-1e47cb77c991",
        "id": "JDc_YFDbIMJc"
      },
      "execution_count": 6,
      "outputs": [
        {
          "output_type": "execute_result",
          "data": {
            "text/plain": [
              "array([ 0,  1,  2,  3,  4,  5,  6,  7,  8,  9, 10, 11, 12, 14, 16, 18, 20,\n",
              "       22])"
            ]
          },
          "metadata": {},
          "execution_count": 6
        }
      ]
    },
    {
      "cell_type": "markdown",
      "source": [
        "## 4) in1d(x,y)\n",
        "x의 원소 중 y의 원소를 포함하는지를 나타내는 불리언 배열을 반환"
      ],
      "metadata": {
        "id": "UQNLvuQ6Ia0b"
      }
    },
    {
      "cell_type": "code",
      "source": [
        "np.in1d(a1,a2)"
      ],
      "metadata": {
        "colab": {
          "base_uri": "https://localhost:8080/"
        },
        "outputId": "f97819d0-ff1c-47d8-acf8-b7c40e660721",
        "id": "NVwNlZpvIa0c"
      },
      "execution_count": 7,
      "outputs": [
        {
          "output_type": "execute_result",
          "data": {
            "text/plain": [
              "array([ True, False,  True, False,  True, False,  True, False,  True,\n",
              "       False,  True, False])"
            ]
          },
          "metadata": {},
          "execution_count": 7
        }
      ]
    },
    {
      "cell_type": "markdown",
      "source": [
        "## 5) setdiff1d(x,y)\n",
        "x와 y의 차집합을 반환"
      ],
      "metadata": {
        "id": "ZJ5R4uNKIbRz"
      }
    },
    {
      "cell_type": "code",
      "source": [
        "np.setdiff1d(a1,a2)"
      ],
      "metadata": {
        "colab": {
          "base_uri": "https://localhost:8080/"
        },
        "outputId": "2abc2ea9-7f8b-4e53-bdfc-fecb3b1bfe56",
        "id": "AWeYw7pZIbRz"
      },
      "execution_count": 8,
      "outputs": [
        {
          "output_type": "execute_result",
          "data": {
            "text/plain": [
              "array([ 1,  3,  5,  7,  9, 11])"
            ]
          },
          "metadata": {},
          "execution_count": 8
        }
      ]
    },
    {
      "cell_type": "markdown",
      "source": [
        "## 6) setxor1d(x,y)\n",
        "한 배열에는 포함되지만 두 배열 모두에는 포함되지 않는 원소들의 집합인 대칭차집합을 반환"
      ],
      "metadata": {
        "id": "X7Tb3SJZIyGN"
      }
    },
    {
      "cell_type": "code",
      "source": [
        "np.setxor1d(a1,a2)"
      ],
      "metadata": {
        "colab": {
          "base_uri": "https://localhost:8080/"
        },
        "outputId": "80156125-502d-4c3c-8543-b432c42043c2",
        "id": "NXgmn1h9IyGN"
      },
      "execution_count": 9,
      "outputs": [
        {
          "output_type": "execute_result",
          "data": {
            "text/plain": [
              "array([ 1,  3,  5,  7,  9, 11, 12, 14, 16, 18, 20, 22])"
            ]
          },
          "metadata": {},
          "execution_count": 9
        }
      ]
    },
    {
      "cell_type": "markdown",
      "source": [
        "## 집합 함수 문제 해결 iris"
      ],
      "metadata": {
        "id": "s1nwdwWaJADw"
      }
    },
    {
      "cell_type": "markdown",
      "source": [
        "(1) sepal length 의 길이 값은 어떤 값들이 존재하는가 (unique)?\n",
        "\n",
        "(2) petal length 와 sepal length 의 합집합을 구하라\n",
        "\n",
        "(3) sepal length 가 sepal width의 값을 포함하는지 확인하라\n",
        "\n",
        "(4) sepal length와 sepal width의 교집합을 구하라"
      ],
      "metadata": {
        "id": "uHBEFy51HFS3"
      }
    },
    {
      "cell_type": "code",
      "source": [
        "from sklearn import datasets\n",
        "\n",
        "iris = datasets.load_iris()\n",
        "irisdt = iris['data']\n",
        "\n",
        "iris['feature_names']"
      ],
      "metadata": {
        "colab": {
          "base_uri": "https://localhost:8080/"
        },
        "id": "eE-J1r-wVOH4",
        "outputId": "b6048da5-5eb9-4d12-9ae9-a3aebabcd3dd"
      },
      "execution_count": 37,
      "outputs": [
        {
          "output_type": "execute_result",
          "data": {
            "text/plain": [
              "['sepal length (cm)',\n",
              " 'sepal width (cm)',\n",
              " 'petal length (cm)',\n",
              " 'petal width (cm)']"
            ]
          },
          "metadata": {},
          "execution_count": 37
        }
      ]
    },
    {
      "cell_type": "code",
      "source": [
        "print ( \"1 ) \" , np.unique(irisdt[0]))\n",
        "print ( \"2 ) \" , np.union1d(irisdt[2],irisdt[0]))\n",
        "print ( \"3 ) \" , np.in1d(irisdt[0],irisdt[1]))\n",
        "print ( \"4 ) \" , np.intersect1d(irisdt[0],irisdt[1]))"
      ],
      "metadata": {
        "colab": {
          "base_uri": "https://localhost:8080/"
        },
        "id": "qWTxA-LFIKcW",
        "outputId": "694d989d-a9d9-4688-b012-dd58f8e44426"
      },
      "execution_count": 60,
      "outputs": [
        {
          "output_type": "stream",
          "name": "stdout",
          "text": [
            "1 )  [0.2 1.4 3.5 5.1]\n",
            "2 )  [0.2 1.3 1.4 3.2 3.5 4.7 5.1]\n",
            "3 )  [False False  True  True]\n",
            "4 )  [0.2 1.4]\n"
          ]
        }
      ]
    },
    {
      "cell_type": "markdown",
      "source": [
        "## 이항분포 실습\n",
        "\n",
        "동전을 던져서 동전 앞면이 나오면 1점, 뒷면이 나오면 -1점이다.\n",
        "동전을 천 번을 반복하여 던졌을 경우의 점수 흐름을 그래프로 나타내라 (단, 점수에는 마이너스가 없다. 0점에서 뒷면이 나올 경우는 0점으로 계산한다. 동전을 던져서 나온 결과는 난수로 생성하도록 한다.)"
      ],
      "metadata": {
        "id": "KOwlcConRAlF"
      }
    },
    {
      "cell_type": "code",
      "source": [
        "import numpy as np\n",
        "import matplotlib.pyplot as plt\n",
        "\n",
        "def coingame():\n",
        "  cash = np.zeros(1000) # 천번의 결과를 저장할 배열 생성\n",
        "  cash[0] = 0\n",
        "\n",
        "  # 0 개의 점수 소유\n",
        "  # 1개의 동전을 던져(50%) 1000번의 랜덤한 결과를 저장\n",
        "  outcome = np.random.binomial(1, 0.5, size = len(cash))\n",
        "\n",
        "  for i in range(1, len(cash)):\n",
        "    if outcome[i] == 1 : # 앞면\n",
        "      cash[i] = cash[i-1] +1\n",
        "    elif outcome[i] == 0 : # 뒷면\n",
        "      cash[i] = cash[i-1] -1\n",
        "    else :\n",
        "      raise AssertionError(\"Unexpected outcome\"+outcome)\n",
        "    \n",
        "    if cash[i] < 0:\n",
        "      cash[i] = 0\n",
        "\n",
        "  return cash[-1]\n",
        "\n",
        "result = np.zeros(5000) # 5천번 수행 결과를 저장\n",
        "\n",
        "for i in range(len(result)):\n",
        "  result[i] = coingame()\n",
        "\n",
        "plt.plot(np.arange(len(result)),result)\n",
        "plt.show()\n",
        "\n",
        "print()\n",
        "print(\"평    균 : \"+str(np.mean(result)))\n",
        "print(\"표준편차 : \"+str(np.std(result)))\n",
        "print(\"최 대 값 : \"+str(np.max(result)))\n",
        "print(\"최 소 값 : \"+str(np.min(result)))"
      ],
      "metadata": {
        "colab": {
          "base_uri": "https://localhost:8080/",
          "height": 357
        },
        "id": "I3Ly6NnCRe3P",
        "outputId": "2d020ae0-103e-44c0-a600-834db967ac5f"
      },
      "execution_count": 36,
      "outputs": [
        {
          "output_type": "display_data",
          "data": {
            "image/png": "[encoded data removed]",
            "text/plain": [
              "<Figure size 432x288 with 1 Axes>"
            ]
          },
          "metadata": {
            "needs_background": "light"
          }
        },
        {
          "output_type": "stream",
          "name": "stdout",
          "text": [
            "\n",
            "평    균 : 25.0302\n",
            "표준편차 : 19.31736234479231\n",
            "최 대 값 : 122.0\n",
            "최 소 값 : 0.0\n"
          ]
        }
      ]
    },
    {
      "cell_type": "code",
      "source": [
        ""
      ],
      "metadata": {
        "id": "H8ayiJY5TLj1"
      },
      "execution_count": null,
      "outputs": []
    }
  ]
}