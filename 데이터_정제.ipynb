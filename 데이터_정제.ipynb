{
  "nbformat": 4,
  "nbformat_minor": 0,
  "metadata": {
    "colab": {
      "name": "데이터 정제",
      "provenance": [],
      "collapsed_sections": [],
      "authorship_tag": "ABX9TyM8bAMQMQsYOxG6NPuifjhQ",
      "include_colab_link": true
    },
    "kernelspec": {
      "name": "python3",
      "display_name": "Python 3"
    },
    "language_info": {
      "name": "python"
    }
  },
  "cells": [
    {
      "cell_type": "markdown",
      "metadata": {
        "id": "view-in-github",
        "colab_type": "text"
      },
      "source": [
        "<a href=\"https://colab.research.google.com/github/ssyyjj1012/data-analysis/blob/main/%EB%8D%B0%EC%9D%B4%ED%84%B0_%EC%A0%95%EC%A0%9C.ipynb\" target=\"_parent\"><img src=\"https://colab.research.google.com/assets/colab-badge.svg\" alt=\"Open In Colab\"/></a>"
      ]
    },
    {
      "cell_type": "markdown",
      "source": [
        "# 데이터 정제\n",
        "Web / IDS로그 / 시스템 / 데이터베이스 실제 로그를 사용한 데이터 정제"
      ],
      "metadata": {
        "id": "1gF22yqG_cOq"
      }
    },
    {
      "cell_type": "markdown",
      "source": [
        "# 01 Padnas IO 도구들\n",
        "- csv & Text Files\n",
        " - 텍스트 파일을 읽는 두 가지 함수 :read_csv() 와 read_table()\n",
        "   - 표 형식의 데이터를 지능적으로 DataFrame 개체로 변환"
      ],
      "metadata": {
        "id": "f36neKslAsYu"
      }
    },
    {
      "cell_type": "code",
      "source": [
        "import pandas as pd \n",
        "from io import StringIO\n",
        "\n",
        "data = 'col1,col2,col3\\na,b,1\\na,b,2\\nc,d,3'\n",
        "df = pd.read_csv(StringIO(data))\n",
        "df"
      ],
      "metadata": {
        "colab": {
          "base_uri": "https://localhost:8080/",
          "height": 143
        },
        "id": "A44by6is_mOH",
        "outputId": "6bd3d0ca-a280-4021-f0d7-a4c81e882709"
      },
      "execution_count": 5,
      "outputs": [
        {
          "output_type": "execute_result",
          "data": {
            "text/html": [
              "\n",
              "  <div id=\"df-14cb3e81-7bae-400a-bb98-a51dd937f028\">\n",
              "    <div class=\"colab-df-container\">\n",
              "      <div>\n",
              "<style scoped>\n",
              "    .dataframe tbody tr th:only-of-type {\n",
              "        vertical-align: middle;\n",
              "    }\n",
              "\n",
              "    .dataframe tbody tr th {\n",
              "        vertical-align: top;\n",
              "    }\n",
              "\n",
              "    .dataframe thead th {\n",
              "        text-align: right;\n",
              "    }\n",
              "</style>\n",
              "<table border=\"1\" class=\"dataframe\">\n",
              "  <thead>\n",
              "    <tr style=\"text-align: right;\">\n",
              "      <th></th>\n",
              "      <th>col1</th>\n",
              "      <th>col2</th>\n",
              "      <th>col3</th>\n",
              "    </tr>\n",
              "  </thead>\n",
              "  <tbody>\n",
              "    <tr>\n",
              "      <th>0</th>\n",
              "      <td>a</td>\n",
              "      <td>b</td>\n",
              "      <td>1</td>\n",
              "    </tr>\n",
              "    <tr>\n",
              "      <th>1</th>\n",
              "      <td>a</td>\n",
              "      <td>b</td>\n",
              "      <td>2</td>\n",
              "    </tr>\n",
              "    <tr>\n",
              "      <th>2</th>\n",
              "      <td>c</td>\n",
              "      <td>d</td>\n",
              "      <td>3</td>\n",
              "    </tr>\n",
              "  </tbody>\n",
              "</table>\n",
              "</div>\n",
              "      <button class=\"colab-df-convert\" onclick=\"convertToInteractive('df-14cb3e81-7bae-400a-bb98-a51dd937f028')\"\n",
              "              title=\"Convert this dataframe to an interactive table.\"\n",
              "              style=\"display:none;\">\n",
              "        \n",
              "  <svg xmlns=\"http://www.w3.org/2000/svg\" height=\"24px\"viewBox=\"0 0 24 24\"\n",
              "       width=\"24px\">\n",
              "    <path d=\"M0 0h24v24H0V0z\" fill=\"none\"/>\n",
              "    <path d=\"M18.56 5.44l.94 2.06.94-2.06 2.06-.94-2.06-.94-.94-2.06-.94 2.06-2.06.94zm-11 1L8.5 8.5l.94-2.06 2.06-.94-2.06-.94L8.5 2.5l-.94 2.06-2.06.94zm10 10l.94 2.06.94-2.06 2.06-.94-2.06-.94-.94-2.06-.94 2.06-2.06.94z\"/><path d=\"M17.41 7.96l-1.37-1.37c-.4-.4-.92-.59-1.43-.59-.52 0-1.04.2-1.43.59L10.3 9.45l-7.72 7.72c-.78.78-.78 2.05 0 2.83L4 21.41c.39.39.9.59 1.41.59.51 0 1.02-.2 1.41-.59l7.78-7.78 2.81-2.81c.8-.78.8-2.07 0-2.86zM5.41 20L4 18.59l7.72-7.72 1.47 1.35L5.41 20z\"/>\n",
              "  </svg>\n",
              "      </button>\n",
              "      \n",
              "  <style>\n",
              "    .colab-df-container {\n",
              "      display:flex;\n",
              "      flex-wrap:wrap;\n",
              "      gap: 12px;\n",
              "    }\n",
              "\n",
              "    .colab-df-convert {\n",
              "      background-color: #E8F0FE;\n",
              "      border: none;\n",
              "      border-radius: 50%;\n",
              "      cursor: pointer;\n",
              "      display: none;\n",
              "      fill: #1967D2;\n",
              "      height: 32px;\n",
              "      padding: 0 0 0 0;\n",
              "      width: 32px;\n",
              "    }\n",
              "\n",
              "    .colab-df-convert:hover {\n",
              "      background-color: #E2EBFA;\n",
              "      box-shadow: 0px 1px 2px rgba(60, 64, 67, 0.3), 0px 1px 3px 1px rgba(60, 64, 67, 0.15);\n",
              "      fill: #174EA6;\n",
              "    }\n",
              "\n",
              "    [theme=dark] .colab-df-convert {\n",
              "      background-color: #3B4455;\n",
              "      fill: #D2E3FC;\n",
              "    }\n",
              "\n",
              "    [theme=dark] .colab-df-convert:hover {\n",
              "      background-color: #434B5C;\n",
              "      box-shadow: 0px 1px 3px 1px rgba(0, 0, 0, 0.15);\n",
              "      filter: drop-shadow(0px 1px 2px rgba(0, 0, 0, 0.3));\n",
              "      fill: #FFFFFF;\n",
              "    }\n",
              "  </style>\n",
              "\n",
              "      <script>\n",
              "        const buttonEl =\n",
              "          document.querySelector('#df-14cb3e81-7bae-400a-bb98-a51dd937f028 button.colab-df-convert');\n",
              "        buttonEl.style.display =\n",
              "          google.colab.kernel.accessAllowed ? 'block' : 'none';\n",
              "\n",
              "        async function convertToInteractive(key) {\n",
              "          const element = document.querySelector('#df-14cb3e81-7bae-400a-bb98-a51dd937f028');\n",
              "          const dataTable =\n",
              "            await google.colab.kernel.invokeFunction('convertToInteractive',\n",
              "                                                     [key], {});\n",
              "          if (!dataTable) return;\n",
              "\n",
              "          const docLinkHtml = 'Like what you see? Visit the ' +\n",
              "            '<a target=\"_blank\" href=https://colab.research.google.com/notebooks/data_table.ipynb>data table notebook</a>'\n",
              "            + ' to learn more about interactive tables.';\n",
              "          element.innerHTML = '';\n",
              "          dataTable['output_type'] = 'display_data';\n",
              "          await google.colab.output.renderOutput(dataTable, element);\n",
              "          const docLink = document.createElement('div');\n",
              "          docLink.innerHTML = docLinkHtml;\n",
              "          element.appendChild(docLink);\n",
              "        }\n",
              "      </script>\n",
              "    </div>\n",
              "  </div>\n",
              "  "
            ],
            "text/plain": [
              "  col1 col2  col3\n",
              "0    a    b     1\n",
              "1    a    b     2\n",
              "2    c    d     3"
            ]
          },
          "metadata": {},
          "execution_count": 5
        }
      ]
    },
    {
      "cell_type": "code",
      "source": [
        "df.to_csv('test.csv')"
      ],
      "metadata": {
        "id": "rPN-ETC7AZkN"
      },
      "execution_count": 6,
      "outputs": []
    },
    {
      "cell_type": "markdown",
      "source": [
        "- Excel Files\n",
        " - read_excel() : xlrd 파이썬 모듈을 사용하여 Excel 파일을 읽음"
      ],
      "metadata": {
        "id": "daGnKT4SA_Ig"
      }
    },
    {
      "cell_type": "code",
      "source": [
        "import pandas \n",
        "df = pd.read_excel('파일명.xlsx', sheetname = 'Sheet1')\n",
        "df"
      ],
      "metadata": {
        "id": "jdMucoeVA9jP"
      },
      "execution_count": null,
      "outputs": []
    },
    {
      "cell_type": "code",
      "source": [
        "df.to_excel('b.xlsx', sheet_name = 'Sheet1')"
      ],
      "metadata": {
        "id": "7d9AChvMBR6R"
      },
      "execution_count": null,
      "outputs": []
    },
    {
      "cell_type": "markdown",
      "source": [
        "- HTML\n",
        " - HTML 문자열/파일/URL을 허용하며 HTML 표를 판다스 데이터 프레임 목록으로 파싱"
      ],
      "metadata": {
        "id": "10FrYX_NBcNL"
      }
    },
    {
      "cell_type": "code",
      "source": [
        "import pandas as pd\n",
        "\n",
        "url = 'https://www.fdic.gov/resources/resolutions/bank-failures/failed-bank-list/'\n",
        "dfs = pd.read_html(url)\n",
        "dfs"
      ],
      "metadata": {
        "colab": {
          "base_uri": "https://localhost:8080/"
        },
        "id": "RnV__jf9BX2e",
        "outputId": "f61ca010-cef7-4d7e-849c-6df07fe3fe0a"
      },
      "execution_count": 10,
      "outputs": [
        {
          "output_type": "execute_result",
          "data": {
            "text/plain": [
              "[                         Bank NameBank  ... FundFund\n",
              " 0                    Almena State Bank  ...    10538\n",
              " 1           First City Bank of Florida  ...    10537\n",
              " 2                 The First State Bank  ...    10536\n",
              " 3                   Ericson State Bank  ...    10535\n",
              " 4     City National Bank of New Jersey  ...    10534\n",
              " ..                                 ...  ...      ...\n",
              " 558                 Superior Bank, FSB  ...     6004\n",
              " 559                Malta National Bank  ...     4648\n",
              " 560    First Alliance Bank & Trust Co.  ...     4647\n",
              " 561  National State Bank of Metropolis  ...     4646\n",
              " 562                   Bank of Honolulu  ...     4645\n",
              " \n",
              " [563 rows x 7 columns]]"
            ]
          },
          "metadata": {},
          "execution_count": 10
        }
      ]
    },
    {
      "cell_type": "code",
      "source": [
        "from sklearn import datasets\n",
        "\n",
        "## 데이터 로드하기\n",
        "iris = datasets.load_iris()\n",
        "irisdt = pd.DataFrame(iris['data'], columns = iris['feature_names'])\n",
        "\n",
        "with open('a.html','w') as a:\n",
        "  a.write(irisdt.to_html())"
      ],
      "metadata": {
        "id": "OgsaJgz0Br1u"
      },
      "execution_count": 12,
      "outputs": []
    },
    {
      "cell_type": "markdown",
      "source": [
        "- SQL Queries\n",
        " - 데이터 검색을 용이하게 하고 DB 특정 API에 대한 종속성을 줄이기 위해 쿼리 래퍼 모음을 제공"
      ],
      "metadata": {
        "id": "-yMDVKpUCfid"
      }
    },
    {
      "cell_type": "code",
      "source": [
        "!pip install pymysql"
      ],
      "metadata": {
        "colab": {
          "base_uri": "https://localhost:8080/"
        },
        "id": "ZG5O77nYDTD0",
        "outputId": "3147c906-8c61-4126-d026-1e3bc405fa6f"
      },
      "execution_count": 20,
      "outputs": [
        {
          "output_type": "stream",
          "name": "stdout",
          "text": [
            "Requirement already satisfied: pymysql in /usr/local/lib/python3.7/dist-packages (1.0.2)\n"
          ]
        }
      ]
    },
    {
      "cell_type": "code",
      "source": [
        "import pymysql\n",
        "import pandas as pd\n",
        "\n",
        "# MySQL Connection 연결\n",
        "conn = pymysql.connect(host = 'localhost', user = 'root',password = 'apmsetup', db = 'mysql', charset = 'utf8')\n",
        "\n",
        "sql = 'select * from user'\n",
        "\n",
        "## DataFrame으로 SQL 쿼리 읽기\n",
        "pd.read_sql_query(sql,conn)"
      ],
      "metadata": {
        "id": "vfC94j4XCYA6"
      },
      "execution_count": null,
      "outputs": []
    },
    {
      "cell_type": "markdown",
      "source": [
        "# 02 웹로그 2 데이터 프레임\n",
        "### NASA 웹로그 실습\n",
        "\n"
      ],
      "metadata": {
        "id": "XNrO83ChFSHN"
      }
    },
    {
      "cell_type": "code",
      "source": [
        "import pandas as pd\n",
        "from datetime import datetime\n",
        "import gc\n",
        "import matplotlib\n",
        "import matplotlib.pyplot as plt\n",
        "\n",
        "matplotlib.style.use('ggplot')"
      ],
      "metadata": {
        "id": "t00p9uaCDDa3"
      },
      "execution_count": 22,
      "outputs": []
    },
    {
      "cell_type": "code",
      "source": [
        "def posix_string_to_datetime(posix_string):\n",
        "  return datetime.ufcfromtimestamp(int(posix_string))"
      ],
      "metadata": {
        "id": "JDsP085qGdca"
      },
      "execution_count": 23,
      "outputs": []
    },
    {
      "cell_type": "code",
      "source": [
        "df = pd.io.parser.read_csv(\n",
        "    'nasa_19950801.tsv', # tsv 파일\n",
        "    index_col = 2, # 2번째 컬럼을 인덱스로 활용\n",
        "    parse_dates = True,\n",
        "    sep = '\\t',\n",
        "    date_parser = posix_string_to_datetime\n",
        ")\n",
        "\n",
        "df"
      ],
      "metadata": {
        "colab": {
          "base_uri": "https://localhost:8080/",
          "height": 245
        },
        "id": "rhe-KH_9GrvF",
        "outputId": "a4abba96-1070-4f45-b455-9ade950cde9b"
      },
      "execution_count": 24,
      "outputs": [
        {
          "output_type": "error",
          "ename": "AttributeError",
          "evalue": "ignored",
          "traceback": [
            "\u001b[0;31m---------------------------------------------------------------------------\u001b[0m",
            "\u001b[0;31mAttributeError\u001b[0m                            Traceback (most recent call last)",
            "\u001b[0;32m<ipython-input-24-816447e2f651>\u001b[0m in \u001b[0;36m<module>\u001b[0;34m()\u001b[0m\n\u001b[0;32m----> 1\u001b[0;31m df = pd.io.parser.read_csv(\n\u001b[0m\u001b[1;32m      2\u001b[0m     \u001b[0;34m'nasa_19950801.tsv'\u001b[0m\u001b[0;34m,\u001b[0m \u001b[0;31m# tsc 파일\u001b[0m\u001b[0;34m\u001b[0m\u001b[0;34m\u001b[0m\u001b[0m\n\u001b[1;32m      3\u001b[0m     \u001b[0mindex_col\u001b[0m \u001b[0;34m=\u001b[0m \u001b[0;36m2\u001b[0m\u001b[0;34m,\u001b[0m \u001b[0;31m# 2번째 컬럼을 인덱스로 활용\u001b[0m\u001b[0;34m\u001b[0m\u001b[0;34m\u001b[0m\u001b[0m\n\u001b[1;32m      4\u001b[0m     \u001b[0mparse_dates\u001b[0m \u001b[0;34m=\u001b[0m \u001b[0;32mTrue\u001b[0m\u001b[0;34m,\u001b[0m\u001b[0;34m\u001b[0m\u001b[0;34m\u001b[0m\u001b[0m\n\u001b[1;32m      5\u001b[0m     \u001b[0msep\u001b[0m \u001b[0;34m=\u001b[0m \u001b[0;34m'\\t'\u001b[0m\u001b[0;34m,\u001b[0m\u001b[0;34m\u001b[0m\u001b[0;34m\u001b[0m\u001b[0m\n",
            "\u001b[0;31mAttributeError\u001b[0m: module 'pandas.io' has no attribute 'parser'"
          ]
        }
      ]
    },
    {
      "cell_type": "code",
      "source": [
        ""
      ],
      "metadata": {
        "id": "AtSKu2-gMvnS"
      },
      "execution_count": null,
      "outputs": []
    }
  ]
}