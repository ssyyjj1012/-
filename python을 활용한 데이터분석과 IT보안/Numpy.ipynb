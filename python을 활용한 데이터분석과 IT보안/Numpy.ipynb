{
  "nbformat": 4,
  "nbformat_minor": 0,
  "metadata": {
    "colab": {
      "name": "Numpy",
      "provenance": [],
      "authorship_tag": "ABX9TyN9rzF0ooRtPssi6v+jxfJK",
      "include_colab_link": true
    },
    "kernelspec": {
      "name": "python3",
      "display_name": "Python 3"
    },
    "language_info": {
      "name": "python"
    }
  },
  "cells": [
    {
      "cell_type": "markdown",
      "metadata": {
        "id": "view-in-github",
        "colab_type": "text"
      },
      "source": [
        "<a href=\"https://colab.research.google.com/github/ssyyjj1012/data-analysis/blob/main/Numpy.ipynb\" target=\"_parent\"><img src=\"https://colab.research.google.com/assets/colab-badge.svg\" alt=\"Open In Colab\"/></a>"
      ]
    },
    {
      "cell_type": "markdown",
      "source": [
        "## Numpy \n",
        "- Numerical Python 의 줄인말\n",
        "- 고성능의 과학계산 컴퓨팅과 데이터 분석에 필요한 기본 패키지\n",
        "- Numpy 배열과 배열 기반의 컴퓨팅에 대한 이해는 pandas의 활용 능력을 향상 \n",
        "\n",
        "\n",
        "### Numpy의 특징\n",
        "- 빠르고 메모리를 효율적으로 사용\n",
        "- 다차원 배열인 ndarray(벡터 산수연산과 브로드캐스팅 가능)\n",
        "- 반복문을 작성 불필요\n",
        "- 전체 데이터 배열에 대한 빠른 연산을 제공하는 표준 수학 함수\n",
        "- 배열 데이터를 디스크에 쓰기/읽기\n",
        "- 선형대수, 난수발생기, 푸리에 변환 가능\n",
        "- C, C++ 포트란으로 쓰여진 코드 통합(글루 언어)"
      ],
      "metadata": {
        "id": "IV0CjehDi-13"
      }
    },
    {
      "cell_type": "markdown",
      "source": [
        "### ndarray : Numpy 배열의 특징\n",
        "- 배열의 항목을 동일한 타입이어야 한다.\n",
        "- 파이썬 리스트와는 달리 벡토화된 연산과 완전한 배열처리를 실행\n",
        "- 배열을 특별히 빠르게 하기 위해 최적화된 C API 를 사용\n",
        "- 파이썬처럼 NumPy 배열의 0으로 시작하는 인덱스가 생성\n",
        "- 데이터 타입은 특별한 오브젝트로 표현"
      ],
      "metadata": {
        "id": "odDEB55Kj7Xq"
      }
    },
    {
      "cell_type": "markdown",
      "source": [
        "# 01 NumPy 배열 생성 - 1차 배열 만들기"
      ],
      "metadata": {
        "id": "xx-NcZPjkayG"
      }
    },
    {
      "cell_type": "code",
      "source": [
        "import numpy as np\n",
        "a = np.arange(5) # 자동으로 배열 생성\n",
        "a"
      ],
      "metadata": {
        "colab": {
          "base_uri": "https://localhost:8080/"
        },
        "id": "VKKUYpoDkae0",
        "outputId": "97bb508e-d565-4290-de36-a8e0585571f1"
      },
      "execution_count": 2,
      "outputs": [
        {
          "output_type": "execute_result",
          "data": {
            "text/plain": [
              "array([0, 1, 2, 3, 4])"
            ]
          },
          "metadata": {},
          "execution_count": 2
        }
      ]
    },
    {
      "cell_type": "code",
      "source": [
        "a.shape"
      ],
      "metadata": {
        "colab": {
          "base_uri": "https://localhost:8080/"
        },
        "id": "sgwff6Knjt7y",
        "outputId": "2cf2ddd4-7dc1-47de-b6dd-c78ef8d7c6c0"
      },
      "execution_count": 3,
      "outputs": [
        {
          "output_type": "execute_result",
          "data": {
            "text/plain": [
              "(5,)"
            ]
          },
          "metadata": {},
          "execution_count": 3
        }
      ]
    },
    {
      "cell_type": "code",
      "source": [
        "b = np.array([0,1,2,3,4]) # 수동으로 배열 생성\n",
        "b "
      ],
      "metadata": {
        "colab": {
          "base_uri": "https://localhost:8080/"
        },
        "id": "0g8pl4YOkxg4",
        "outputId": "c9a563ba-3684-48a3-a894-3abee09a484e"
      },
      "execution_count": 4,
      "outputs": [
        {
          "output_type": "execute_result",
          "data": {
            "text/plain": [
              "array([0, 1, 2, 3, 4])"
            ]
          },
          "metadata": {},
          "execution_count": 4
        }
      ]
    },
    {
      "cell_type": "markdown",
      "source": [
        "## 01 NumPy 배열 생성 - 2차 배열 만들기\n",
        "\n"
      ],
      "metadata": {
        "id": "EcUAg_6Pk-wU"
      }
    },
    {
      "cell_type": "code",
      "source": [
        "m = np.array([np.arange(2),np.arange(2)])\n",
        "m"
      ],
      "metadata": {
        "colab": {
          "base_uri": "https://localhost:8080/"
        },
        "id": "wmuQW8dwk20b",
        "outputId": "12b52545-9fac-4e85-9720-c2ca09307b8d"
      },
      "execution_count": 5,
      "outputs": [
        {
          "output_type": "execute_result",
          "data": {
            "text/plain": [
              "array([[0, 1],\n",
              "       [0, 1]])"
            ]
          },
          "metadata": {},
          "execution_count": 5
        }
      ]
    },
    {
      "cell_type": "code",
      "source": [
        "m.shape"
      ],
      "metadata": {
        "colab": {
          "base_uri": "https://localhost:8080/"
        },
        "id": "sfE2MBbalIfg",
        "outputId": "81ace542-af8c-4f80-e557-d14e05e56665"
      },
      "execution_count": 6,
      "outputs": [
        {
          "output_type": "execute_result",
          "data": {
            "text/plain": [
              "(2, 2)"
            ]
          },
          "metadata": {},
          "execution_count": 6
        }
      ]
    },
    {
      "cell_type": "markdown",
      "source": [
        "## **배열 인덱싱**"
      ],
      "metadata": {
        "id": "n1iiRBvLlfEo"
      }
    },
    {
      "cell_type": "code",
      "source": [
        "m[0,0] = 0\n",
        "m[0,1] = 1\n",
        "m[1,0] = 2\n",
        "m[1,1] = 3\n",
        "m"
      ],
      "metadata": {
        "colab": {
          "base_uri": "https://localhost:8080/"
        },
        "id": "KAjZqyI_lKwW",
        "outputId": "82d77efb-c038-4fc4-80c7-e4c1d0d044db"
      },
      "execution_count": 7,
      "outputs": [
        {
          "output_type": "execute_result",
          "data": {
            "text/plain": [
              "array([[0, 1],\n",
              "       [2, 3]])"
            ]
          },
          "metadata": {},
          "execution_count": 7
        }
      ]
    },
    {
      "cell_type": "markdown",
      "source": [
        "## **배열 인덱싱 2**\n",
        "\n",
        "파이썬에서 사용하는 일반적인 자르기/인덱싱 방법으로 가능\n",
        "\n",
        "(2차원 이상은 쉼표(,)를 기준으로 차원별로 인덱싱 적용)"
      ],
      "metadata": {
        "id": "-Kd_ycmUlyBB"
      }
    },
    {
      "cell_type": "code",
      "source": [
        "a[1:3]"
      ],
      "metadata": {
        "colab": {
          "base_uri": "https://localhost:8080/"
        },
        "outputId": "13b37933-e0da-4781-9326-b65e301deec1",
        "id": "tExtKNn2lyBB"
      },
      "execution_count": 10,
      "outputs": [
        {
          "output_type": "execute_result",
          "data": {
            "text/plain": [
              "array([1, 2])"
            ]
          },
          "metadata": {},
          "execution_count": 10
        }
      ]
    },
    {
      "cell_type": "code",
      "source": [
        "m[0,1:]"
      ],
      "metadata": {
        "colab": {
          "base_uri": "https://localhost:8080/"
        },
        "id": "lGu50Jbfl1nV",
        "outputId": "0016dc86-f448-4609-9510-b050b7840d4e"
      },
      "execution_count": 11,
      "outputs": [
        {
          "output_type": "execute_result",
          "data": {
            "text/plain": [
              "array([1])"
            ]
          },
          "metadata": {},
          "execution_count": 11
        }
      ]
    },
    {
      "cell_type": "markdown",
      "source": [
        "## **배열 연산하기**"
      ],
      "metadata": {
        "id": "HV_og4Cvlkz6"
      }
    },
    {
      "cell_type": "code",
      "source": [
        "m + 2"
      ],
      "metadata": {
        "colab": {
          "base_uri": "https://localhost:8080/"
        },
        "id": "jnAEbGL9lS9X",
        "outputId": "7823db9b-7626-4acb-eb87-911008451044"
      },
      "execution_count": 8,
      "outputs": [
        {
          "output_type": "execute_result",
          "data": {
            "text/plain": [
              "array([[2, 3],\n",
              "       [4, 5]])"
            ]
          },
          "metadata": {},
          "execution_count": 8
        }
      ]
    },
    {
      "cell_type": "code",
      "source": [
        "m * 2"
      ],
      "metadata": {
        "colab": {
          "base_uri": "https://localhost:8080/"
        },
        "id": "L0_ox8QZltc_",
        "outputId": "820dd0b4-beeb-48b7-ff94-cad8c9dd3a2d"
      },
      "execution_count": 9,
      "outputs": [
        {
          "output_type": "execute_result",
          "data": {
            "text/plain": [
              "array([[0, 2],\n",
              "       [4, 6]])"
            ]
          },
          "metadata": {},
          "execution_count": 9
        }
      ]
    },
    {
      "cell_type": "markdown",
      "source": [
        "## 01 NumPy 초기화 배열 생성\n",
        "\n",
        "numpy.zeros()\n",
        "\n",
        ": 주어진 모양과 타입대로 0으로 채워진 새로운 배열 생성\n"
      ],
      "metadata": {
        "id": "7cp5YRZMmCrt"
      }
    },
    {
      "cell_type": "code",
      "source": [
        "np.zeros(5)"
      ],
      "metadata": {
        "colab": {
          "base_uri": "https://localhost:8080/"
        },
        "id": "KWjVoWkbluhF",
        "outputId": "d0cb1459-c930-4581-a71c-a83c3e8a5e70"
      },
      "execution_count": 12,
      "outputs": [
        {
          "output_type": "execute_result",
          "data": {
            "text/plain": [
              "array([0., 0., 0., 0., 0.])"
            ]
          },
          "metadata": {},
          "execution_count": 12
        }
      ]
    },
    {
      "cell_type": "code",
      "source": [
        "np.zeros(5, dtype= np.int)"
      ],
      "metadata": {
        "colab": {
          "base_uri": "https://localhost:8080/"
        },
        "id": "en46BK42mcaV",
        "outputId": "118abb6a-7fc0-4fce-d539-7a83a90d4308"
      },
      "execution_count": 13,
      "outputs": [
        {
          "output_type": "execute_result",
          "data": {
            "text/plain": [
              "array([0, 0, 0, 0, 0])"
            ]
          },
          "metadata": {},
          "execution_count": 13
        }
      ]
    },
    {
      "cell_type": "code",
      "source": [
        "np.zeros((2,1))"
      ],
      "metadata": {
        "colab": {
          "base_uri": "https://localhost:8080/"
        },
        "id": "j2aLHQHfmgiH",
        "outputId": "cb6213c7-a6de-4640-c016-7dad653c75e7"
      },
      "execution_count": 14,
      "outputs": [
        {
          "output_type": "execute_result",
          "data": {
            "text/plain": [
              "array([[0.],\n",
              "       [0.]])"
            ]
          },
          "metadata": {},
          "execution_count": 14
        }
      ]
    },
    {
      "cell_type": "code",
      "source": [
        "s = (2,2)\n",
        "np.zeros(s)"
      ],
      "metadata": {
        "colab": {
          "base_uri": "https://localhost:8080/"
        },
        "id": "O38SyUKFmiTB",
        "outputId": "24403dbc-b0db-4511-8367-f999ada31687"
      },
      "execution_count": 15,
      "outputs": [
        {
          "output_type": "execute_result",
          "data": {
            "text/plain": [
              "array([[0., 0.],\n",
              "       [0., 0.]])"
            ]
          },
          "metadata": {},
          "execution_count": 15
        }
      ]
    },
    {
      "cell_type": "code",
      "source": [
        "np.zeros((2,),dtype=[('x', 'i4'),('y','i4')])"
      ],
      "metadata": {
        "colab": {
          "base_uri": "https://localhost:8080/"
        },
        "id": "S66mfeSnmld6",
        "outputId": "8ef4879f-dbee-47a9-820e-c1d9efd19847"
      },
      "execution_count": 16,
      "outputs": [
        {
          "output_type": "execute_result",
          "data": {
            "text/plain": [
              "array([(0, 0), (0, 0)], dtype=[('x', '<i4'), ('y', '<i4')])"
            ]
          },
          "metadata": {},
          "execution_count": 16
        }
      ]
    },
    {
      "cell_type": "markdown",
      "source": [
        "## 01 NumPy 랜덤 배열 생성\n",
        "\n",
        "np.random.randn(d0,d1 ... dn)\n",
        "\n",
        ": 정규화 분산 데이터로부터 랜덤한 값 리턴"
      ],
      "metadata": {
        "id": "6Y05jAvYmyo-"
      }
    },
    {
      "cell_type": "code",
      "source": [
        "np.random.randn()"
      ],
      "metadata": {
        "colab": {
          "base_uri": "https://localhost:8080/"
        },
        "id": "5o-zuxxEmuLa",
        "outputId": "f4af7661-a7d8-4770-8f5c-385186124c92"
      },
      "execution_count": 17,
      "outputs": [
        {
          "output_type": "execute_result",
          "data": {
            "text/plain": [
              "-0.32281912413457503"
            ]
          },
          "metadata": {},
          "execution_count": 17
        }
      ]
    },
    {
      "cell_type": "code",
      "source": [
        "2.5 * np.random.randn(2,4)*3"
      ],
      "metadata": {
        "colab": {
          "base_uri": "https://localhost:8080/"
        },
        "id": "m4oB-WBdnD9z",
        "outputId": "48d895bd-2439-4078-fd83-58118337e930"
      },
      "execution_count": 18,
      "outputs": [
        {
          "output_type": "execute_result",
          "data": {
            "text/plain": [
              "array([[ 13.91361603,   3.12767818, -11.68961013,  -4.72856919],\n",
              "       [ -2.77031825,  -4.02118439,   3.10506701, -12.51084888]])"
            ]
          },
          "metadata": {},
          "execution_count": 18
        }
      ]
    },
    {
      "cell_type": "markdown",
      "source": [
        "### np.random.randint(n1, n2)\n",
        "\n",
        ": n1 ~ n2 사이의 정수 생성"
      ],
      "metadata": {
        "id": "eo2c6mBSnMQ3"
      }
    },
    {
      "cell_type": "code",
      "source": [
        "np.random.randint(2, size = 10)"
      ],
      "metadata": {
        "colab": {
          "base_uri": "https://localhost:8080/"
        },
        "id": "Lw2fKYx2nJ_X",
        "outputId": "e4f6b4db-616a-4bda-ad13-e843fd237ac9"
      },
      "execution_count": 19,
      "outputs": [
        {
          "output_type": "execute_result",
          "data": {
            "text/plain": [
              "array([1, 0, 0, 1, 1, 1, 0, 0, 0, 0])"
            ]
          },
          "metadata": {},
          "execution_count": 19
        }
      ]
    },
    {
      "cell_type": "code",
      "source": [
        "np.random.randint(1, size = 10)"
      ],
      "metadata": {
        "colab": {
          "base_uri": "https://localhost:8080/"
        },
        "id": "sjURdD26nadW",
        "outputId": "fe6a9635-0d95-4c2d-c26f-45c770953a3a"
      },
      "execution_count": 20,
      "outputs": [
        {
          "output_type": "execute_result",
          "data": {
            "text/plain": [
              "array([0, 0, 0, 0, 0, 0, 0, 0, 0, 0])"
            ]
          },
          "metadata": {},
          "execution_count": 20
        }
      ]
    },
    {
      "cell_type": "markdown",
      "source": [
        "## 연습문제"
      ],
      "metadata": {
        "id": "kruwCEDQnjAZ"
      }
    },
    {
      "cell_type": "code",
      "source": [
        "a = np.array([np.arange(3),np.arange(3)])\n",
        "a"
      ],
      "metadata": {
        "colab": {
          "base_uri": "https://localhost:8080/"
        },
        "id": "N9pcxxl6nsA4",
        "outputId": "529bd705-a4e0-4416-c76a-91dc6fea4867"
      },
      "execution_count": 28,
      "outputs": [
        {
          "output_type": "execute_result",
          "data": {
            "text/plain": [
              "array([[0, 1, 2],\n",
              "       [0, 1, 2]])"
            ]
          },
          "metadata": {},
          "execution_count": 28
        }
      ]
    },
    {
      "cell_type": "code",
      "source": [
        "a = np.array([np.arange(3),np.arange(3)+3,np.arange(3)+6])*3\n",
        "a"
      ],
      "metadata": {
        "colab": {
          "base_uri": "https://localhost:8080/"
        },
        "id": "a2bTk9lwncgX",
        "outputId": "c9fd01ce-b00c-4052-ce3a-9bac59fe4b5c"
      },
      "execution_count": 34,
      "outputs": [
        {
          "output_type": "execute_result",
          "data": {
            "text/plain": [
              "array([[ 0,  3,  6],\n",
              "       [ 9, 12, 15],\n",
              "       [18, 21, 24]])"
            ]
          },
          "metadata": {},
          "execution_count": 34
        }
      ]
    }
  ]
}
