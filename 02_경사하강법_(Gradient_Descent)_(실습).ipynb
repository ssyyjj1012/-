{
  "cells": [
    {
      "cell_type": "markdown",
      "metadata": {
        "id": "view-in-github",
        "colab_type": "text"
      },
      "source": [
        "<a href=\"https://colab.research.google.com/github/ssyyjj1012/data-analysis/blob/main/02_%EA%B2%BD%EC%82%AC%ED%95%98%EA%B0%95%EB%B2%95_(Gradient_Descent)_(%EC%8B%A4%EC%8A%B5).ipynb\" target=\"_parent\"><img src=\"https://colab.research.google.com/assets/colab-badge.svg\" alt=\"Open In Colab\"/></a>"
      ]
    },
    {
      "cell_type": "markdown",
      "metadata": {
        "id": "ryxF5RiKUqxx"
      },
      "source": [
        "# 경사하강법 (Gradient Descent)"
      ]
    },
    {
      "cell_type": "markdown",
      "metadata": {
        "id": "uj8r5IFZUqxx"
      },
      "source": [
        "기본 개념은 함수의 기울기(경사)를 구하여 기울기가 낮은 쪽으로 계속 이동시켜서 극값에 이를 때까지 반복시키는 것입니다.\n",
        "\n",
        "**비용 함수 (Cost Function 혹은 Loss Function)를 최소화**하기 위해 반복해서 파라미터를 업데이트 해 나가는 방식입니다."
      ]
    },
    {
      "cell_type": "code",
      "execution_count": 1,
      "metadata": {
        "id": "w7mltdDGUqxy",
        "colab": {
          "base_uri": "https://localhost:8080/",
          "height": 339
        },
        "outputId": "a977b3ca-4213-42d0-9e89-fcda5fb35690"
      },
      "outputs": [
        {
          "output_type": "execute_result",
          "data": {
            "text/html": [
              "<img src=\"https://img.pngio.com/scikit-learn-batch-gradient-descent-versus-stochastic-gradient-descent-png-592_319.png\"/>"
            ],
            "text/plain": [
              "<IPython.core.display.Image object>"
            ]
          },
          "metadata": {},
          "execution_count": 1
        }
      ],
      "source": [
        "from IPython.display import Image\n",
        "import numpy as np\n",
        "import matplotlib.pyplot as plt\n",
        "import warnings\n",
        "\n",
        "# 경고 메시지 출력 표기 생략\n",
        "warnings.filterwarnings('ignore')\n",
        "\n",
        "Image(url='https://img.pngio.com/scikit-learn-batch-gradient-descent-versus-stochastic-gradient-descent-png-592_319.png')"
      ]
    },
    {
      "cell_type": "markdown",
      "metadata": {
        "id": "ZRuLBqohLMsY"
      },
      "source": [
        "## 샘플에 활용할 데이터 셋 만들기"
      ]
    },
    {
      "cell_type": "code",
      "execution_count": 2,
      "metadata": {
        "id": "pzZRFqeZUqx9"
      },
      "outputs": [],
      "source": [
        "def make_linear(w=0.5, b=0.8, size=50, noise=1.0):\n",
        "    x = np.random.rand(size)\n",
        "    y = w * x + b\n",
        "    noise = np.random.uniform(-abs(noise), abs(noise), size=y.shape)\n",
        "    yy = y + noise\n",
        "    plt.figure(figsize=(10, 7))\n",
        "    plt.plot(x, y, color='r', label=f'y = {w}x + {b}')\n",
        "    plt.scatter(x, yy, label='data')\n",
        "    plt.legend(fontsize=15)\n",
        "    plt.show()\n",
        "    print(f'w: {w}, b: {b}')\n",
        "    return x, yy"
      ]
    },
    {
      "cell_type": "code",
      "execution_count": 3,
      "metadata": {
        "id": "-qcmWy8JUqx_",
        "colab": {
          "base_uri": "https://localhost:8080/",
          "height": 446
        },
        "outputId": "17f59cb4-286a-4faf-818f-9255213150ca"
      },
      "outputs": [
        {
          "output_type": "display_data",
          "data": {
            "image/png": "[encoded data removed]",
            "text/plain": [
              "<Figure size 720x504 with 1 Axes>"
            ]
          },
          "metadata": {
            "needs_background": "light"
          }
        },
        {
          "output_type": "stream",
          "name": "stdout",
          "text": [
            "w: 0.3, b: 0.5\n"
          ]
        }
      ],
      "source": [
        "x, y = make_linear(w=0.3, b=0.5, size=100, noise=0.01)"
      ]
    },
    {
      "cell_type": "markdown",
      "metadata": {
        "id": "CM-u7na_LMsf"
      },
      "source": [
        "## 초기값 (Initializer)과 y_hat (예측, prediction) 함수 정의"
      ]
    },
    {
      "cell_type": "markdown",
      "metadata": {
        "id": "tauo0pixUqyC"
      },
      "source": [
        "w, b 값에 대하여 random한 초기 값을 설정해 줍니다."
      ]
    },
    {
      "cell_type": "code",
      "execution_count": 4,
      "metadata": {
        "id": "w-_dJXtfpYGB"
      },
      "outputs": [],
      "source": [
        "w = np.random.uniform(low=0.0, high=1.0)\n",
        "b = np.random.uniform(low=0.0, high=1.0)"
      ]
    },
    {
      "cell_type": "markdown",
      "metadata": {
        "id": "WuTVUI03UqyE"
      },
      "source": [
        "`y_hat`은 `prediction`은 값 입니다. 즉, 가설함수에서 실제 값 (y)를 뺀 함수를 정의합니다."
      ]
    },
    {
      "cell_type": "code",
      "execution_count": 5,
      "metadata": {
        "id": "trVygK4GLMsg"
      },
      "outputs": [],
      "source": [
        "# 코드를 입력해 주세요\n",
        "y_hat = w * x + b"
      ]
    },
    {
      "cell_type": "markdown",
      "metadata": {
        "id": "4N6MK4elLMsi"
      },
      "source": [
        "## 오차(Error) 정의"
      ]
    },
    {
      "cell_type": "markdown",
      "metadata": {
        "id": "r19eta8MLMsj"
      },
      "source": [
        "Loss Function 혹은 Cost Function을 정의 합니다.\n",
        "\n",
        "Loss (Cost) Function은 예측값인 `y_hat`과 `y`의 차이에 **제곱의 평균**으로 정의합니다.\n",
        "\n",
        "제곱은 오차에 대한 음수 값을 허용하지 않으며, 이는 **Mean Squared Error(MSE)**인 평균 제곱 오차 평가 지표와 관련 있습니다."
      ]
    },
    {
      "cell_type": "code",
      "execution_count": 6,
      "metadata": {
        "id": "ygZPHM2xLMsj"
      },
      "outputs": [],
      "source": [
        "# 코드를 입력해 주세요\n",
        "error = (y_hat - y) ** 2"
      ]
    },
    {
      "cell_type": "markdown",
      "metadata": {
        "id": "VwzjytZvUqyI"
      },
      "source": [
        "## 학습률 (Learning Rate)"
      ]
    },
    {
      "cell_type": "code",
      "execution_count": 7,
      "metadata": {
        "id": "9t_hsbBUUqyJ",
        "colab": {
          "base_uri": "https://localhost:8080/",
          "height": 1000
        },
        "outputId": "66bd3ae1-8914-445f-9cdd-9a16f38eb5eb"
      },
      "outputs": [
        {
          "output_type": "execute_result",
          "data": {
            "text/html": [
              "<img src=\"https://www.deeplearningwizard.com/deep_learning/boosting_models_pytorch/images/lr1.png\"/>"
            ],
            "text/plain": [
              "<IPython.core.display.Image object>"
            ]
          },
          "metadata": {},
          "execution_count": 7
        }
      ],
      "source": [
        "Image(url='https://www.deeplearningwizard.com/deep_learning/boosting_models_pytorch/images/lr1.png')"
      ]
    },
    {
      "cell_type": "markdown",
      "metadata": {
        "id": "NJMFH9wTUqyL"
      },
      "source": [
        "한 번 학습할 때 **얼마만큼 가중치(weight)를 업데이트** 해야 하는지 학습 양을 의미합니다.\n",
        "\n",
        "너무 큰 학습률 (Learning Rate)은 가중치 갱신이 크게 되어 **자칫 Error가 수렴하지 못하고 발산**할 수 있으며,\n",
        "\n",
        "너무 작은 학습률은 가중치 갱신이 작게 되어 **가중치 갱신이 충분히 되지 않고, 학습이 끝나** 버릴 수 있습니다. 즉 과소 적합되어 있는 상태로 남아 있을 수 있습니다.\n",
        "\n"
      ]
    },
    {
      "cell_type": "markdown",
      "metadata": {
        "id": "ajAr6o76LMsm"
      },
      "source": [
        "## Gradient Descent 구현 (단항식)"
      ]
    },
    {
      "cell_type": "code",
      "execution_count": 8,
      "metadata": {
        "id": "1iIYNKTyLMsm"
      },
      "outputs": [],
      "source": [
        "# 최대 반복 횟수\n",
        "num_epoch = 500\n",
        "\n",
        "# 학습율 (learning_rate)\n",
        "learning_rate = 0.5"
      ]
    },
    {
      "cell_type": "code",
      "execution_count": 9,
      "metadata": {
        "id": "IpQ6BcuMLMso",
        "colab": {
          "base_uri": "https://localhost:8080/"
        },
        "outputId": "505604a1-99b1-4967-d313-f33ec039e770"
      },
      "outputs": [
        {
          "output_type": "stream",
          "name": "stdout",
          "text": [
            " 0 w = 0.81813, b = 0.12862 error = 0.07995\n",
            " 5 w = 0.75596, b = 0.24096 error = 0.02207\n",
            "10 w = 0.67736, b = 0.28581 error = 0.01511\n",
            "15 w = 0.61219, b = 0.32265 error = 0.01035\n",
            "20 w = 0.55828, b = 0.35313 error = 0.00710\n",
            "25 w = 0.51368, b = 0.37834 error = 0.00487\n",
            "30 w = 0.47679, b = 0.39920 error = 0.00334\n",
            "35 w = 0.44627, b = 0.41645 error = 0.00230\n",
            "40 w = 0.42102, b = 0.43072 error = 0.00158\n",
            "45 w = 0.40013, b = 0.44253 error = 0.00109\n",
            "50 w = 0.38285, b = 0.45230 error = 0.00076\n",
            "55 w = 0.36856, b = 0.46038 error = 0.00053\n",
            "60 w = 0.35673, b = 0.46706 error = 0.00037\n",
            "65 w = 0.34695, b = 0.47259 error = 0.00026\n",
            "70 w = 0.33886, b = 0.47716 error = 0.00019\n",
            "75 w = 0.33217, b = 0.48095 error = 0.00014\n",
            "80 w = 0.32663, b = 0.48408 error = 0.00011\n",
            "85 w = 0.32205, b = 0.48667 error = 0.00008\n",
            "90 w = 0.31826, b = 0.48881 error = 0.00007\n",
            "95 w = 0.31512, b = 0.49058 error = 0.00006\n",
            "------------------------------------------------------------\n",
            "99 w = 0.3, b = 0.5 error = 0.00005\n"
          ]
        }
      ],
      "source": [
        "errors = []\n",
        "\n",
        "# random 한 값으로 w, b를 초기화 합니다.\n",
        "w = np.random.uniform(low=0.0, high=1.0)\n",
        "b = np.random.uniform(low=0.0, high=1.0)\n",
        "\n",
        "for epoch in range(num_epoch):\n",
        "    # 코드를 입력해 주세요\n",
        "    y_hat = x * w + b \n",
        "\n",
        "    # 코드를 입력해 주세요\n",
        "    error = ((y_hat - y)**2).mean()\n",
        "    if error < 0.00005:\n",
        "        break\n",
        "\n",
        "    # 코드를 입력해 주세요\n",
        "    w = w - learning_rate * ((y_hat - y) * x).mean()\n",
        "    b = b - learning_rate * (y_hat - y).mean() \n",
        "    \n",
        "    errors.append(error)\n",
        "\n",
        "    if epoch % 5 == 0:\n",
        "        print(\"{0:2} w = {1:.5f}, b = {2:.5f} error = {3:.5f}\".format(epoch, w, b, error))\n",
        "    \n",
        "print(\"----\" * 15)\n",
        "print(\"{0:2} w = {1:.1f}, b = {2:.1f} error = {3:.5f}\".format(epoch, w, b, error))"
      ]
    },
    {
      "cell_type": "markdown",
      "metadata": {
        "id": "gZnRP06EUqyP"
      },
      "source": [
        "**시각화**\n",
        "\n",
        "학습 진행(epoch)에 따른 오차를 시각화 합니다."
      ]
    },
    {
      "cell_type": "code",
      "execution_count": 10,
      "metadata": {
        "id": "IblSaamPLMss",
        "colab": {
          "base_uri": "https://localhost:8080/",
          "height": 442
        },
        "outputId": "cad54f7b-583b-4eca-fbb3-e4b021096e33"
      },
      "outputs": [
        {
          "output_type": "display_data",
          "data": {
            "image/png": "[encoded data removed]",
            "text/plain": [
              "<Figure size 720x504 with 1 Axes>"
            ]
          },
          "metadata": {
            "needs_background": "light"
          }
        }
      ],
      "source": [
        "plt.figure(figsize=(10, 7))\n",
        "plt.plot(errors)\n",
        "plt.xlabel('Epochs')\n",
        "plt.ylabel('Error')\n",
        "plt.show()"
      ]
    },
    {
      "cell_type": "markdown",
      "metadata": {
        "id": "Q8iw7WZNpR_I"
      },
      "source": [
        "## 다항식"
      ]
    },
    {
      "cell_type": "markdown",
      "metadata": {
        "id": "VpgsozbDUqyR"
      },
      "source": [
        "**샘플 데이터**를 생성합니다."
      ]
    },
    {
      "cell_type": "markdown",
      "metadata": {
        "id": "PAdOEqXCUqyR"
      },
      "source": [
        "이번에는 Feature Data, 즉 X 값이 여러 개인 다항식의 경우에 대해서도 구해보도록 하겠습니다.\n",
        "\n",
        "다항식에서는 X의 갯수 만큼, W 갯수도 늘어날 것입니다.\n",
        "\n",
        "다만, bias (b)의 계수는 1개인 점에 유의해 주세요."
      ]
    },
    {
      "cell_type": "code",
      "execution_count": 11,
      "metadata": {
        "id": "woNtXYodpSFm"
      },
      "outputs": [],
      "source": [
        "x1 = np.random.rand(100)\n",
        "x2 = np.random.rand(100)\n",
        "x3 = np.random.rand(100)"
      ]
    },
    {
      "cell_type": "markdown",
      "metadata": {
        "id": "SsWfNXITvMWt"
      },
      "source": [
        "**다항식을 정의**합니다."
      ]
    },
    {
      "cell_type": "code",
      "execution_count": 12,
      "metadata": {
        "id": "5aNdmIf8pvJ6"
      },
      "outputs": [],
      "source": [
        "y = 0.3 * x1 + 0.5 * x2 + 0.7 * x3 + 0.9"
      ]
    },
    {
      "cell_type": "markdown",
      "metadata": {
        "id": "sgLRY_MoUqyW"
      },
      "source": [
        "## Gradient Descent 구현 (다항식)"
      ]
    },
    {
      "cell_type": "code",
      "execution_count": 13,
      "metadata": {
        "id": "Z5IuMfOMqAWq",
        "colab": {
          "base_uri": "https://localhost:8080/"
        },
        "outputId": "1f10626c-2f86-4779-f45e-e80ebe3d78e8"
      },
      "outputs": [
        {
          "output_type": "stream",
          "name": "stdout",
          "text": [
            " 0 w1 = 0.58843, w2 = 0.87921, w3 = 0.31833, b = 0.69697 error = 0.27047\n",
            " 5 w1 = 0.56722, w2 = 0.83156, w3 = 0.39908, b = 0.74403 error = 0.02051\n",
            "10 w1 = 0.53445, w2 = 0.77930, w3 = 0.45284, b = 0.76037 error = 0.01462\n",
            "15 w1 = 0.50524, w2 = 0.73582, w3 = 0.49707, b = 0.77525 error = 0.01046\n",
            "20 w1 = 0.47932, w2 = 0.69957, w3 = 0.53345, b = 0.78873 error = 0.00752\n",
            "25 w1 = 0.45640, w2 = 0.66928, w3 = 0.56339, b = 0.80092 error = 0.00542\n",
            "30 w1 = 0.43620, w2 = 0.64390, w3 = 0.58802, b = 0.81188 error = 0.00392\n",
            "35 w1 = 0.41845, w2 = 0.62258, w3 = 0.60828, b = 0.82172 error = 0.00284\n",
            "40 w1 = 0.40289, w2 = 0.60464, w3 = 0.62495, b = 0.83054 error = 0.00207\n",
            "45 w1 = 0.38928, w2 = 0.58950, w3 = 0.63866, b = 0.83842 error = 0.00151\n",
            "50 w1 = 0.37740, w2 = 0.57669, w3 = 0.64993, b = 0.84544 error = 0.00110\n",
            "55 w1 = 0.36705, w2 = 0.56584, w3 = 0.65919, b = 0.85170 error = 0.00081\n",
            "60 w1 = 0.35804, w2 = 0.55662, w3 = 0.66680, b = 0.85727 error = 0.00060\n",
            "65 w1 = 0.35021, w2 = 0.54877, w3 = 0.67304, b = 0.86222 error = 0.00044\n",
            "70 w1 = 0.34342, w2 = 0.54208, w3 = 0.67816, b = 0.86661 error = 0.00032\n",
            "75 w1 = 0.33753, w2 = 0.53635, w3 = 0.68235, b = 0.87050 error = 0.00024\n",
            "80 w1 = 0.33242, w2 = 0.53145, w3 = 0.68579, b = 0.87394 error = 0.00018\n",
            "85 w1 = 0.32800, w2 = 0.52725, w3 = 0.68859, b = 0.87700 error = 0.00013\n",
            "90 w1 = 0.32418, w2 = 0.52363, w3 = 0.69088, b = 0.87970 error = 0.00010\n",
            "95 w1 = 0.32087, w2 = 0.52052, w3 = 0.69275, b = 0.88208 error = 0.00007\n",
            "100 w1 = 0.31801, w2 = 0.51784, w3 = 0.69427, b = 0.88419 error = 0.00005\n",
            "105 w1 = 0.31554, w2 = 0.51552, w3 = 0.69550, b = 0.88606 error = 0.00004\n",
            "110 w1 = 0.31341, w2 = 0.51352, w3 = 0.69649, b = 0.88771 error = 0.00003\n",
            "115 w1 = 0.31157, w2 = 0.51178, w3 = 0.69730, b = 0.88916 error = 0.00002\n",
            "120 w1 = 0.30998, w2 = 0.51028, w3 = 0.69794, b = 0.89044 error = 0.00002\n",
            "125 w1 = 0.30861, w2 = 0.50897, w3 = 0.69846, b = 0.89157 error = 0.00001\n",
            "------------------------------------------------------------\n",
            "130 w1 = 0.3, w2 = 0.5, w3 = 0.7, b = 0.9 error = 0.00001\n"
          ]
        }
      ],
      "source": [
        "errors = []\n",
        "w1_grad = []\n",
        "w2_grad = []\n",
        "w3_grad = []\n",
        "\n",
        "num_epoch=5000\n",
        "learning_rate=0.5\n",
        "\n",
        "w1 = np.random.uniform(low=0.0, high=1.0)\n",
        "w2 = np.random.uniform(low=0.0, high=1.0)\n",
        "w3 = np.random.uniform(low=0.0, high=1.0)\n",
        "\n",
        "b = np.random.uniform(low=0.0, high=1.0)\n",
        "\n",
        "for epoch in range(num_epoch):\n",
        "    # 코드를 입력해 주세요\n",
        "    y_hat = w1 * x1 + w2 * x2 + w3 * x3 + b\n",
        "\n",
        "    # 코드를 입력해 주세요\n",
        "    error = ((y_hat - y)**2).mean()\n",
        "    if error < 0.00001:\n",
        "        break\n",
        "\n",
        "    # 코드를 입력해 주세요\n",
        "    # 미분값 적용 (Gradient)\n",
        "    w1 = w1 - learning_rate * ((y_hat - y) * x1).mean()\n",
        "    w2 = w2 - learning_rate * ((y_hat - y) * x2).mean()\n",
        "    w3 = w3 - learning_rate * ((y_hat - y) * x3).mean()\n",
        "\n",
        "    b = b - learning_rate * (y_hat - y).mean()\n",
        "    \n",
        "    w1_grad.append(w1)\n",
        "    w2_grad.append(w2)\n",
        "    w3_grad.append(w3)\n",
        "    \n",
        "    errors.append(error)\n",
        "\n",
        "    if epoch % 5 == 0:\n",
        "        print(\"{0:2} w1 = {1:.5f}, w2 = {2:.5f}, w3 = {3:.5f}, b = {4:.5f} error = {5:.5f}\".format(epoch, w1, w2, w3, b, error))\n",
        "    \n",
        "print(\"----\" * 15)\n",
        "print(\"{0:2} w1 = {1:.1f}, w2 = {2:.1f}, w3 = {3:.1f}, b = {4:.1f} error = {5:.5f}\".format(epoch, w1, w2, w3, b, error))"
      ]
    },
    {
      "cell_type": "code",
      "execution_count": 14,
      "metadata": {
        "id": "BoIzU-K-qbWZ",
        "colab": {
          "base_uri": "https://localhost:8080/",
          "height": 444
        },
        "outputId": "4049da80-d931-4735-9e15-2d882ff3fa84"
      },
      "outputs": [
        {
          "output_type": "display_data",
          "data": {
            "image/png": "[encoded data removed]",
            "text/plain": [
              "<Figure size 720x504 with 1 Axes>"
            ]
          },
          "metadata": {
            "needs_background": "light"
          }
        }
      ],
      "source": [
        "plt.figure(figsize=(10, 7))\n",
        "plt.plot(errors)\n",
        "plt.title('Errors')\n",
        "plt.show()"
      ]
    },
    {
      "cell_type": "markdown",
      "metadata": {
        "id": "zq85a7Asw5ZG"
      },
      "source": [
        "## 가중치 (W1, W2, W3) 값들의 변화량 시각화"
      ]
    },
    {
      "cell_type": "markdown",
      "metadata": {
        "id": "DcDPnN3JUqyb"
      },
      "source": [
        "`Epoch`가 지남에 따라 어떻게 가중치들이 업데이트 되는지 시각화 해 봅니다."
      ]
    },
    {
      "cell_type": "code",
      "execution_count": 15,
      "metadata": {
        "id": "n4vdXxMcwQaq",
        "colab": {
          "base_uri": "https://localhost:8080/",
          "height": 446
        },
        "outputId": "ffdfd962-da62-4ddd-b21b-2e62fe2e6abd"
      },
      "outputs": [
        {
          "output_type": "display_data",
          "data": {
            "image/png": "[encoded data removed]",
            "text/plain": [
              "<Figure size 720x504 with 1 Axes>"
            ]
          },
          "metadata": {
            "needs_background": "light"
          }
        }
      ],
      "source": [
        "plt.figure(figsize=(10, 7))\n",
        "\n",
        "plt.hlines(y=0.3, xmin=0, xmax=len(w1_grad), color='r')\n",
        "plt.plot(w1_grad, color='g')\n",
        "plt.ylim(0, 1)\n",
        "plt.title('W1', fontsize=16)\n",
        "plt.legend(['W1 Change', 'W1'])\n",
        "plt.show()"
      ]
    },
    {
      "cell_type": "code",
      "execution_count": 16,
      "metadata": {
        "id": "YL1YMw8xwfO2",
        "colab": {
          "base_uri": "https://localhost:8080/",
          "height": 446
        },
        "outputId": "62234fc7-921e-41d4-80a9-81a649f374a6"
      },
      "outputs": [
        {
          "output_type": "display_data",
          "data": {
            "image/png": "[encoded data removed]",
            "text/plain": [
              "<Figure size 720x504 with 1 Axes>"
            ]
          },
          "metadata": {
            "needs_background": "light"
          }
        }
      ],
      "source": [
        "plt.figure(figsize=(10, 7))\n",
        "\n",
        "plt.hlines(y=0.5, xmin=0, xmax=len(w2_grad), color='r')\n",
        "plt.plot(w2_grad, color='g')\n",
        "plt.ylim(0, 1)\n",
        "plt.title('W2', fontsize=16)\n",
        "plt.legend(['W2 Change', 'W2'])\n",
        "plt.show()"
      ]
    },
    {
      "cell_type": "code",
      "execution_count": 17,
      "metadata": {
        "id": "AIJgOedAx1E1",
        "colab": {
          "base_uri": "https://localhost:8080/",
          "height": 446
        },
        "outputId": "cf5186ce-238c-4d8c-ab25-d4bec9956702"
      },
      "outputs": [
        {
          "output_type": "display_data",
          "data": {
            "image/png": "[encoded data removed]",
            "text/plain": [
              "<Figure size 720x504 with 1 Axes>"
            ]
          },
          "metadata": {
            "needs_background": "light"
          }
        }
      ],
      "source": [
        "plt.figure(figsize=(10, 7))\n",
        "\n",
        "plt.hlines(y=0.7, xmin=0, xmax=len(w3_grad), color='r')\n",
        "plt.plot(w3_grad, color='g')\n",
        "plt.ylim(0, 1)\n",
        "plt.title('W3', fontsize=16)\n",
        "plt.legend(['W3 Change', 'W3'])\n",
        "plt.show()"
      ]
    },
    {
      "cell_type": "markdown",
      "metadata": {
        "id": "9mEjCh_IUqyh"
      },
      "source": [
        "## 경사하강법을 활용한 SGDRegressor"
      ]
    },
    {
      "cell_type": "markdown",
      "metadata": {
        "id": "vZUcxfFEUqyi"
      },
      "source": [
        "[SGDRegressor 도큐먼트](https://scikit-learn.org/stable/modules/generated/sklearn.linear_model.SGDRegressor.html)"
      ]
    },
    {
      "cell_type": "code",
      "execution_count": 18,
      "metadata": {
        "id": "Bp1hwmHeUqyi"
      },
      "outputs": [],
      "source": [
        "from sklearn.linear_model import SGDRegressor"
      ]
    },
    {
      "cell_type": "code",
      "execution_count": 19,
      "metadata": {
        "id": "2YQfFzrYx8hF"
      },
      "outputs": [],
      "source": [
        "model = SGDRegressor(max_iter=5000, tol=1e-5, learning_rate='constant')"
      ]
    },
    {
      "cell_type": "code",
      "execution_count": 20,
      "metadata": {
        "id": "QZgbofT0Uqyl"
      },
      "outputs": [],
      "source": [
        "x1 = x1.reshape(-1, 1)\n",
        "x2 = x2.reshape(-1, 1)\n",
        "x3 = x3.reshape(-1, 1)"
      ]
    },
    {
      "cell_type": "code",
      "execution_count": 21,
      "metadata": {
        "id": "aEwQH_SFUqym"
      },
      "outputs": [],
      "source": [
        "X = np.concatenate([x1, x2, x3], axis=1)"
      ]
    },
    {
      "cell_type": "code",
      "execution_count": 22,
      "metadata": {
        "id": "Hcz3sL6zUqyo",
        "colab": {
          "base_uri": "https://localhost:8080/"
        },
        "outputId": "659dbf29-5baa-4d1b-9c84-0b996d5dcfd8"
      },
      "outputs": [
        {
          "output_type": "execute_result",
          "data": {
            "text/plain": [
              "(100, 3)"
            ]
          },
          "metadata": {},
          "execution_count": 22
        }
      ],
      "source": [
        "X.shape"
      ]
    },
    {
      "cell_type": "code",
      "execution_count": 23,
      "metadata": {
        "id": "GUM8oLfCUqyq",
        "colab": {
          "base_uri": "https://localhost:8080/"
        },
        "outputId": "98faafd8-79ec-42fe-f236-fa46a68c9606"
      },
      "outputs": [
        {
          "output_type": "execute_result",
          "data": {
            "text/plain": [
              "SGDRegressor(learning_rate='constant', max_iter=5000, tol=1e-05)"
            ]
          },
          "metadata": {},
          "execution_count": 23
        }
      ],
      "source": [
        "model.fit(X, y)"
      ]
    },
    {
      "cell_type": "code",
      "execution_count": 24,
      "metadata": {
        "id": "LG5ghAuBUqyu",
        "colab": {
          "base_uri": "https://localhost:8080/"
        },
        "outputId": "e17cab4a-e02b-479e-b0fb-1329c73be287"
      },
      "outputs": [
        {
          "output_type": "stream",
          "name": "stdout",
          "text": [
            "w1 = 0.3, w2 = 0.5, w3 = 0.7, b = 0.9\n"
          ]
        }
      ],
      "source": [
        "print(\"w1 = {:.1f}, w2 = {:.1f}, w3 = {:.1f}, b = {:.1f}\".format(model.coef_[0], model.coef_[1], model.coef_[2], model.intercept_[0]))"
      ]
    }
  ],
  "metadata": {
    "colab": {
      "collapsed_sections": [],
      "name": "02-경사하강법-(Gradient-Descent)-(실습)",
      "provenance": [],
      "include_colab_link": true
    },
    "kernelspec": {
      "display_name": "Python 3 (ipykernel)",
      "language": "python",
      "name": "python3"
    },
    "language_info": {
      "codemirror_mode": {
        "name": "ipython",
        "version": 3
      },
      "file_extension": ".py",
      "mimetype": "text/x-python",
      "name": "python",
      "nbconvert_exporter": "python",
      "pygments_lexer": "ipython3",
      "version": "3.7.11"
    }
  },
  "nbformat": 4,
  "nbformat_minor": 0
}